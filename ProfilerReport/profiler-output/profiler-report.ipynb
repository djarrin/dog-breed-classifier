{
 "cells": [
  {
   "cell_type": "markdown",
   "metadata": {
    "papermill": {
     "duration": 0.019008,
     "end_time": "2023-10-20T21:01:41.158565",
     "exception": false,
     "start_time": "2023-10-20T21:01:41.139557",
     "status": "completed"
    },
    "tags": []
   },
   "source": [
    "# SageMaker Debugger Profiling Report\n",
    "\n",
    "SageMaker Debugger auto generated this report. You can generate similar reports on all supported training jobs. The report provides summary of training job, system resource usage statistics, framework metrics, rules summary, and detailed analysis from each rule. The graphs and tables are interactive. \n",
    "\n",
    "**Legal disclaimer:** This report and any recommendations are provided for informational purposes only and are not definitive. You are responsible for making your own independent assessment of the information.\n"
   ]
  },
  {
   "cell_type": "code",
   "execution_count": 1,
   "metadata": {
    "execution": {
     "iopub.execute_input": "2023-10-20T21:01:41.202325Z",
     "iopub.status.busy": "2023-10-20T21:01:41.201818Z",
     "iopub.status.idle": "2023-10-20T21:01:41.784708Z",
     "shell.execute_reply": "2023-10-20T21:01:41.785124Z"
    },
    "papermill": {
     "duration": 0.608714,
     "end_time": "2023-10-20T21:01:41.785336",
     "exception": false,
     "start_time": "2023-10-20T21:01:41.176622",
     "status": "completed"
    },
    "tags": [
     "hide-output",
     "hide-input"
    ]
   },
   "outputs": [
    {
     "name": "stdout",
     "output_type": "stream",
     "text": [
      "[2023-10-20 21:01:41.777 ip-10-0-77-208.ec2.internal:407 INFO utils.py:27] RULE_JOB_STOP_SIGNAL_FILENAME: /opt/ml/processing/input/profiler/signals/ProfilerReport\n"
     ]
    }
   ],
   "source": [
    "import json\n",
    "import pandas as pd\n",
    "import glob\n",
    "import matplotlib.pyplot as plt\n",
    "import numpy as np\n",
    "import datetime\n",
    "from smdebug.profiler.utils import us_since_epoch_to_human_readable_time, ns_since_epoch_to_human_readable_time\n",
    "from smdebug.core.utils import setup_profiler_report\n"
   ]
  },
  {
   "cell_type": "code",
   "execution_count": 2,
   "metadata": {
    "execution": {
     "iopub.execute_input": "2023-10-20T21:01:41.828166Z",
     "iopub.status.busy": "2023-10-20T21:01:41.827618Z",
     "iopub.status.idle": "2023-10-20T21:01:42.029713Z",
     "shell.execute_reply": "2023-10-20T21:01:42.029138Z"
    },
    "papermill": {
     "duration": 0.224799,
     "end_time": "2023-10-20T21:01:42.029838",
     "exception": false,
     "start_time": "2023-10-20T21:01:41.805039",
     "status": "completed"
    },
    "tags": [
     "hide-input"
    ]
   },
   "outputs": [
    {
     "data": {
      "application/javascript": [
       "\n",
       "(function(root) {\n",
       "  function now() {\n",
       "    return new Date();\n",
       "  }\n",
       "\n",
       "  var force = true;\n",
       "\n",
       "  if (typeof root._bokeh_onload_callbacks === \"undefined\" || force === true) {\n",
       "    root._bokeh_onload_callbacks = [];\n",
       "    root._bokeh_is_loading = undefined;\n",
       "  }\n",
       "\n",
       "  var JS_MIME_TYPE = 'application/javascript';\n",
       "  var HTML_MIME_TYPE = 'text/html';\n",
       "  var EXEC_MIME_TYPE = 'application/vnd.bokehjs_exec.v0+json';\n",
       "  var CLASS_NAME = 'output_bokeh rendered_html';\n",
       "\n",
       "  /**\n",
       "   * Render data to the DOM node\n",
       "   */\n",
       "  function render(props, node) {\n",
       "    var script = document.createElement(\"script\");\n",
       "    node.appendChild(script);\n",
       "  }\n",
       "\n",
       "  /**\n",
       "   * Handle when an output is cleared or removed\n",
       "   */\n",
       "  function handleClearOutput(event, handle) {\n",
       "    var cell = handle.cell;\n",
       "\n",
       "    var id = cell.output_area._bokeh_element_id;\n",
       "    var server_id = cell.output_area._bokeh_server_id;\n",
       "    // Clean up Bokeh references\n",
       "    if (id != null && id in Bokeh.index) {\n",
       "      Bokeh.index[id].model.document.clear();\n",
       "      delete Bokeh.index[id];\n",
       "    }\n",
       "\n",
       "    if (server_id !== undefined) {\n",
       "      // Clean up Bokeh references\n",
       "      var cmd = \"from bokeh.io.state import curstate; print(curstate().uuid_to_server['\" + server_id + \"'].get_sessions()[0].document.roots[0]._id)\";\n",
       "      cell.notebook.kernel.execute(cmd, {\n",
       "        iopub: {\n",
       "          output: function(msg) {\n",
       "            var id = msg.content.text.trim();\n",
       "            if (id in Bokeh.index) {\n",
       "              Bokeh.index[id].model.document.clear();\n",
       "              delete Bokeh.index[id];\n",
       "            }\n",
       "          }\n",
       "        }\n",
       "      });\n",
       "      // Destroy server and session\n",
       "      var cmd = \"import bokeh.io.notebook as ion; ion.destroy_server('\" + server_id + \"')\";\n",
       "      cell.notebook.kernel.execute(cmd);\n",
       "    }\n",
       "  }\n",
       "\n",
       "  /**\n",
       "   * Handle when a new output is added\n",
       "   */\n",
       "  function handleAddOutput(event, handle) {\n",
       "    var output_area = handle.output_area;\n",
       "    var output = handle.output;\n",
       "\n",
       "    // limit handleAddOutput to display_data with EXEC_MIME_TYPE content only\n",
       "    if ((output.output_type != \"display_data\") || (!output.data.hasOwnProperty(EXEC_MIME_TYPE))) {\n",
       "      return\n",
       "    }\n",
       "\n",
       "    var toinsert = output_area.element.find(\".\" + CLASS_NAME.split(' ')[0]);\n",
       "\n",
       "    if (output.metadata[EXEC_MIME_TYPE][\"id\"] !== undefined) {\n",
       "      toinsert[toinsert.length - 1].firstChild.textContent = output.data[JS_MIME_TYPE];\n",
       "      // store reference to embed id on output_area\n",
       "      output_area._bokeh_element_id = output.metadata[EXEC_MIME_TYPE][\"id\"];\n",
       "    }\n",
       "    if (output.metadata[EXEC_MIME_TYPE][\"server_id\"] !== undefined) {\n",
       "      var bk_div = document.createElement(\"div\");\n",
       "      bk_div.innerHTML = output.data[HTML_MIME_TYPE];\n",
       "      var script_attrs = bk_div.children[0].attributes;\n",
       "      for (var i = 0; i < script_attrs.length; i++) {\n",
       "        toinsert[toinsert.length - 1].firstChild.setAttribute(script_attrs[i].name, script_attrs[i].value);\n",
       "        toinsert[toinsert.length - 1].firstChild.textContent = bk_div.children[0].textContent\n",
       "      }\n",
       "      // store reference to server id on output_area\n",
       "      output_area._bokeh_server_id = output.metadata[EXEC_MIME_TYPE][\"server_id\"];\n",
       "    }\n",
       "  }\n",
       "\n",
       "  function register_renderer(events, OutputArea) {\n",
       "\n",
       "    function append_mime(data, metadata, element) {\n",
       "      // create a DOM node to render to\n",
       "      var toinsert = this.create_output_subarea(\n",
       "        metadata,\n",
       "        CLASS_NAME,\n",
       "        EXEC_MIME_TYPE\n",
       "      );\n",
       "      this.keyboard_manager.register_events(toinsert);\n",
       "      // Render to node\n",
       "      var props = {data: data, metadata: metadata[EXEC_MIME_TYPE]};\n",
       "      render(props, toinsert[toinsert.length - 1]);\n",
       "      element.append(toinsert);\n",
       "      return toinsert\n",
       "    }\n",
       "\n",
       "    /* Handle when an output is cleared or removed */\n",
       "    events.on('clear_output.CodeCell', handleClearOutput);\n",
       "    events.on('delete.Cell', handleClearOutput);\n",
       "\n",
       "    /* Handle when a new output is added */\n",
       "    events.on('output_added.OutputArea', handleAddOutput);\n",
       "\n",
       "    /**\n",
       "     * Register the mime type and append_mime function with output_area\n",
       "     */\n",
       "    OutputArea.prototype.register_mime_type(EXEC_MIME_TYPE, append_mime, {\n",
       "      /* Is output safe? */\n",
       "      safe: true,\n",
       "      /* Index of renderer in `output_area.display_order` */\n",
       "      index: 0\n",
       "    });\n",
       "  }\n",
       "\n",
       "  // register the mime type if in Jupyter Notebook environment and previously unregistered\n",
       "  if (root.Jupyter !== undefined) {\n",
       "    var events = require('base/js/events');\n",
       "    var OutputArea = require('notebook/js/outputarea').OutputArea;\n",
       "\n",
       "    if (OutputArea.prototype.mime_types().indexOf(EXEC_MIME_TYPE) == -1) {\n",
       "      register_renderer(events, OutputArea);\n",
       "    }\n",
       "  }\n",
       "\n",
       "  \n",
       "  if (typeof (root._bokeh_timeout) === \"undefined\" || force === true) {\n",
       "    root._bokeh_timeout = Date.now() + 5000;\n",
       "    root._bokeh_failed_load = false;\n",
       "  }\n",
       "\n",
       "  var NB_LOAD_WARNING = {'data': {'text/html':\n",
       "     \"<div style='background-color: #fdd'>\\n\"+\n",
       "     \"<p>\\n\"+\n",
       "     \"BokehJS does not appear to have successfully loaded. If loading BokehJS from CDN, this \\n\"+\n",
       "     \"may be due to a slow or bad network connection. Possible fixes:\\n\"+\n",
       "     \"</p>\\n\"+\n",
       "     \"<ul>\\n\"+\n",
       "     \"<li>re-rerun `output_notebook()` to attempt to load from CDN again, or</li>\\n\"+\n",
       "     \"<li>use INLINE resources instead, as so:</li>\\n\"+\n",
       "     \"</ul>\\n\"+\n",
       "     \"<code>\\n\"+\n",
       "     \"from bokeh.resources import INLINE\\n\"+\n",
       "     \"output_notebook(resources=INLINE)\\n\"+\n",
       "     \"</code>\\n\"+\n",
       "     \"</div>\"}};\n",
       "\n",
       "  function display_loaded() {\n",
       "    var el = document.getElementById(null);\n",
       "    if (el != null) {\n",
       "      el.textContent = \"BokehJS is loading...\";\n",
       "    }\n",
       "    if (root.Bokeh !== undefined) {\n",
       "      if (el != null) {\n",
       "        el.textContent = \"BokehJS \" + root.Bokeh.version + \" successfully loaded.\";\n",
       "      }\n",
       "    } else if (Date.now() < root._bokeh_timeout) {\n",
       "      setTimeout(display_loaded, 100)\n",
       "    }\n",
       "  }\n",
       "\n",
       "\n",
       "  function run_callbacks() {\n",
       "    try {\n",
       "      root._bokeh_onload_callbacks.forEach(function(callback) {\n",
       "        if (callback != null)\n",
       "          callback();\n",
       "      });\n",
       "    } finally {\n",
       "      delete root._bokeh_onload_callbacks\n",
       "    }\n",
       "    console.debug(\"Bokeh: all callbacks have finished\");\n",
       "  }\n",
       "\n",
       "  function load_libs(css_urls, js_urls, callback) {\n",
       "    if (css_urls == null) css_urls = [];\n",
       "    if (js_urls == null) js_urls = [];\n",
       "\n",
       "    root._bokeh_onload_callbacks.push(callback);\n",
       "    if (root._bokeh_is_loading > 0) {\n",
       "      console.debug(\"Bokeh: BokehJS is being loaded, scheduling callback at\", now());\n",
       "      return null;\n",
       "    }\n",
       "    if (js_urls == null || js_urls.length === 0) {\n",
       "      run_callbacks();\n",
       "      return null;\n",
       "    }\n",
       "    console.debug(\"Bokeh: BokehJS not loaded, scheduling load and callback at\", now());\n",
       "    root._bokeh_is_loading = css_urls.length + js_urls.length;\n",
       "\n",
       "    function on_load() {\n",
       "      root._bokeh_is_loading--;\n",
       "      if (root._bokeh_is_loading === 0) {\n",
       "        console.debug(\"Bokeh: all BokehJS libraries/stylesheets loaded\");\n",
       "        run_callbacks()\n",
       "      }\n",
       "    }\n",
       "\n",
       "    function on_error() {\n",
       "      console.error(\"failed to load \" + url);\n",
       "    }\n",
       "\n",
       "    for (var i = 0; i < css_urls.length; i++) {\n",
       "      var url = css_urls[i];\n",
       "      const element = document.createElement(\"link\");\n",
       "      element.onload = on_load;\n",
       "      element.onerror = on_error;\n",
       "      element.rel = \"stylesheet\";\n",
       "      element.type = \"text/css\";\n",
       "      element.href = url;\n",
       "      console.debug(\"Bokeh: injecting link tag for BokehJS stylesheet: \", url);\n",
       "      document.body.appendChild(element);\n",
       "    }\n",
       "\n",
       "    const hashes = {\"https://cdn.bokeh.org/bokeh/release/bokeh-2.2.3.min.js\": \"T2yuo9Oe71Cz/I4X9Ac5+gpEa5a8PpJCDlqKYO0CfAuEszu1JrXLl8YugMqYe3sM\", \"https://cdn.bokeh.org/bokeh/release/bokeh-widgets-2.2.3.min.js\": \"98GDGJ0kOMCUMUePhksaQ/GYgB3+NH9h996V88sh3aOiUNX3N+fLXAtry6xctSZ6\", \"https://cdn.bokeh.org/bokeh/release/bokeh-tables-2.2.3.min.js\": \"89bArO+nlbP3sgakeHjCo1JYxYR5wufVgA3IbUvDY+K7w4zyxJqssu7wVnfeKCq8\"};\n",
       "\n",
       "    for (var i = 0; i < js_urls.length; i++) {\n",
       "      var url = js_urls[i];\n",
       "      var element = document.createElement('script');\n",
       "      element.onload = on_load;\n",
       "      element.onerror = on_error;\n",
       "      element.async = false;\n",
       "      element.src = url;\n",
       "      if (url in hashes) {\n",
       "        element.crossOrigin = \"anonymous\";\n",
       "        element.integrity = \"sha384-\" + hashes[url];\n",
       "      }\n",
       "      console.debug(\"Bokeh: injecting script tag for BokehJS library: \", url);\n",
       "      document.head.appendChild(element);\n",
       "    }\n",
       "  };\n",
       "\n",
       "  function inject_raw_css(css) {\n",
       "    const element = document.createElement(\"style\");\n",
       "    element.appendChild(document.createTextNode(css));\n",
       "    document.body.appendChild(element);\n",
       "  }\n",
       "\n",
       "  \n",
       "  var js_urls = [\"https://cdn.bokeh.org/bokeh/release/bokeh-2.2.3.min.js\", \"https://cdn.bokeh.org/bokeh/release/bokeh-widgets-2.2.3.min.js\", \"https://cdn.bokeh.org/bokeh/release/bokeh-tables-2.2.3.min.js\"];\n",
       "  var css_urls = [];\n",
       "  \n",
       "\n",
       "  var inline_js = [\n",
       "    function(Bokeh) {\n",
       "      Bokeh.set_log_level(\"info\");\n",
       "    },\n",
       "    function(Bokeh) {\n",
       "    \n",
       "    \n",
       "    }\n",
       "  ];\n",
       "\n",
       "  function run_inline_js() {\n",
       "    \n",
       "    if (root.Bokeh !== undefined || force === true) {\n",
       "      \n",
       "    for (var i = 0; i < inline_js.length; i++) {\n",
       "      inline_js[i].call(root, root.Bokeh);\n",
       "    }\n",
       "    } else if (Date.now() < root._bokeh_timeout) {\n",
       "      setTimeout(run_inline_js, 100);\n",
       "    } else if (!root._bokeh_failed_load) {\n",
       "      console.log(\"Bokeh: BokehJS failed to load within specified timeout.\");\n",
       "      root._bokeh_failed_load = true;\n",
       "    } else if (force !== true) {\n",
       "      var cell = $(document.getElementById(null)).parents('.cell').data().cell;\n",
       "      cell.output_area.append_execute_result(NB_LOAD_WARNING)\n",
       "    }\n",
       "\n",
       "  }\n",
       "\n",
       "  if (root._bokeh_is_loading === 0) {\n",
       "    console.debug(\"Bokeh: BokehJS loaded, going straight to plotting\");\n",
       "    run_inline_js();\n",
       "  } else {\n",
       "    load_libs(css_urls, js_urls, function() {\n",
       "      console.debug(\"Bokeh: BokehJS plotting callback run at\", now());\n",
       "      run_inline_js();\n",
       "    });\n",
       "  }\n",
       "}(window));"
      ],
      "application/vnd.bokehjs_load.v0+json": "\n(function(root) {\n  function now() {\n    return new Date();\n  }\n\n  var force = true;\n\n  if (typeof root._bokeh_onload_callbacks === \"undefined\" || force === true) {\n    root._bokeh_onload_callbacks = [];\n    root._bokeh_is_loading = undefined;\n  }\n\n  \n\n  \n  if (typeof (root._bokeh_timeout) === \"undefined\" || force === true) {\n    root._bokeh_timeout = Date.now() + 5000;\n    root._bokeh_failed_load = false;\n  }\n\n  var NB_LOAD_WARNING = {'data': {'text/html':\n     \"<div style='background-color: #fdd'>\\n\"+\n     \"<p>\\n\"+\n     \"BokehJS does not appear to have successfully loaded. If loading BokehJS from CDN, this \\n\"+\n     \"may be due to a slow or bad network connection. Possible fixes:\\n\"+\n     \"</p>\\n\"+\n     \"<ul>\\n\"+\n     \"<li>re-rerun `output_notebook()` to attempt to load from CDN again, or</li>\\n\"+\n     \"<li>use INLINE resources instead, as so:</li>\\n\"+\n     \"</ul>\\n\"+\n     \"<code>\\n\"+\n     \"from bokeh.resources import INLINE\\n\"+\n     \"output_notebook(resources=INLINE)\\n\"+\n     \"</code>\\n\"+\n     \"</div>\"}};\n\n  function display_loaded() {\n    var el = document.getElementById(null);\n    if (el != null) {\n      el.textContent = \"BokehJS is loading...\";\n    }\n    if (root.Bokeh !== undefined) {\n      if (el != null) {\n        el.textContent = \"BokehJS \" + root.Bokeh.version + \" successfully loaded.\";\n      }\n    } else if (Date.now() < root._bokeh_timeout) {\n      setTimeout(display_loaded, 100)\n    }\n  }\n\n\n  function run_callbacks() {\n    try {\n      root._bokeh_onload_callbacks.forEach(function(callback) {\n        if (callback != null)\n          callback();\n      });\n    } finally {\n      delete root._bokeh_onload_callbacks\n    }\n    console.debug(\"Bokeh: all callbacks have finished\");\n  }\n\n  function load_libs(css_urls, js_urls, callback) {\n    if (css_urls == null) css_urls = [];\n    if (js_urls == null) js_urls = [];\n\n    root._bokeh_onload_callbacks.push(callback);\n    if (root._bokeh_is_loading > 0) {\n      console.debug(\"Bokeh: BokehJS is being loaded, scheduling callback at\", now());\n      return null;\n    }\n    if (js_urls == null || js_urls.length === 0) {\n      run_callbacks();\n      return null;\n    }\n    console.debug(\"Bokeh: BokehJS not loaded, scheduling load and callback at\", now());\n    root._bokeh_is_loading = css_urls.length + js_urls.length;\n\n    function on_load() {\n      root._bokeh_is_loading--;\n      if (root._bokeh_is_loading === 0) {\n        console.debug(\"Bokeh: all BokehJS libraries/stylesheets loaded\");\n        run_callbacks()\n      }\n    }\n\n    function on_error() {\n      console.error(\"failed to load \" + url);\n    }\n\n    for (var i = 0; i < css_urls.length; i++) {\n      var url = css_urls[i];\n      const element = document.createElement(\"link\");\n      element.onload = on_load;\n      element.onerror = on_error;\n      element.rel = \"stylesheet\";\n      element.type = \"text/css\";\n      element.href = url;\n      console.debug(\"Bokeh: injecting link tag for BokehJS stylesheet: \", url);\n      document.body.appendChild(element);\n    }\n\n    const hashes = {\"https://cdn.bokeh.org/bokeh/release/bokeh-2.2.3.min.js\": \"T2yuo9Oe71Cz/I4X9Ac5+gpEa5a8PpJCDlqKYO0CfAuEszu1JrXLl8YugMqYe3sM\", \"https://cdn.bokeh.org/bokeh/release/bokeh-widgets-2.2.3.min.js\": \"98GDGJ0kOMCUMUePhksaQ/GYgB3+NH9h996V88sh3aOiUNX3N+fLXAtry6xctSZ6\", \"https://cdn.bokeh.org/bokeh/release/bokeh-tables-2.2.3.min.js\": \"89bArO+nlbP3sgakeHjCo1JYxYR5wufVgA3IbUvDY+K7w4zyxJqssu7wVnfeKCq8\"};\n\n    for (var i = 0; i < js_urls.length; i++) {\n      var url = js_urls[i];\n      var element = document.createElement('script');\n      element.onload = on_load;\n      element.onerror = on_error;\n      element.async = false;\n      element.src = url;\n      if (url in hashes) {\n        element.crossOrigin = \"anonymous\";\n        element.integrity = \"sha384-\" + hashes[url];\n      }\n      console.debug(\"Bokeh: injecting script tag for BokehJS library: \", url);\n      document.head.appendChild(element);\n    }\n  };\n\n  function inject_raw_css(css) {\n    const element = document.createElement(\"style\");\n    element.appendChild(document.createTextNode(css));\n    document.body.appendChild(element);\n  }\n\n  \n  var js_urls = [\"https://cdn.bokeh.org/bokeh/release/bokeh-2.2.3.min.js\", \"https://cdn.bokeh.org/bokeh/release/bokeh-widgets-2.2.3.min.js\", \"https://cdn.bokeh.org/bokeh/release/bokeh-tables-2.2.3.min.js\"];\n  var css_urls = [];\n  \n\n  var inline_js = [\n    function(Bokeh) {\n      Bokeh.set_log_level(\"info\");\n    },\n    function(Bokeh) {\n    \n    \n    }\n  ];\n\n  function run_inline_js() {\n    \n    if (root.Bokeh !== undefined || force === true) {\n      \n    for (var i = 0; i < inline_js.length; i++) {\n      inline_js[i].call(root, root.Bokeh);\n    }\n    } else if (Date.now() < root._bokeh_timeout) {\n      setTimeout(run_inline_js, 100);\n    } else if (!root._bokeh_failed_load) {\n      console.log(\"Bokeh: BokehJS failed to load within specified timeout.\");\n      root._bokeh_failed_load = true;\n    } else if (force !== true) {\n      var cell = $(document.getElementById(null)).parents('.cell').data().cell;\n      cell.output_area.append_execute_result(NB_LOAD_WARNING)\n    }\n\n  }\n\n  if (root._bokeh_is_loading === 0) {\n    console.debug(\"Bokeh: BokehJS loaded, going straight to plotting\");\n    run_inline_js();\n  } else {\n    load_libs(css_urls, js_urls, function() {\n      console.debug(\"Bokeh: BokehJS plotting callback run at\", now());\n      run_inline_js();\n    });\n  }\n}(window));"
     },
     "metadata": {},
     "output_type": "display_data"
    }
   ],
   "source": [
    "import bokeh\n",
    "from bokeh.io import output_notebook, show\n",
    "from bokeh.layouts import column, row\n",
    "from bokeh.plotting import figure\n",
    "from bokeh.models.widgets import DataTable, DateFormatter, TableColumn\n",
    "from bokeh.models import ColumnDataSource, PreText\n",
    "from math import pi\n",
    "from bokeh.transform import cumsum\n",
    "import warnings\n",
    "from bokeh.models.widgets import Paragraph\n",
    "from bokeh.models import Legend\n",
    "from bokeh.util.warnings import BokehDeprecationWarning, BokehUserWarning\n",
    "warnings.simplefilter('ignore', BokehDeprecationWarning)\n",
    "warnings.simplefilter('ignore', BokehUserWarning)\n",
    "\n",
    "output_notebook(hide_banner=True)"
   ]
  },
  {
   "cell_type": "code",
   "execution_count": 3,
   "metadata": {
    "execution": {
     "iopub.execute_input": "2023-10-20T21:01:42.071033Z",
     "iopub.status.busy": "2023-10-20T21:01:42.070512Z",
     "iopub.status.idle": "2023-10-20T21:01:42.072456Z",
     "shell.execute_reply": "2023-10-20T21:01:42.072847Z"
    },
    "papermill": {
     "duration": 0.024161,
     "end_time": "2023-10-20T21:01:42.072971",
     "exception": false,
     "start_time": "2023-10-20T21:01:42.048810",
     "status": "completed"
    },
    "tags": [
     "parameters",
     "hide-input",
     "hide-output"
    ]
   },
   "outputs": [],
   "source": [
    "processing_job_arn = \"\""
   ]
  },
  {
   "cell_type": "code",
   "execution_count": 4,
   "id": "b11c1280",
   "metadata": {
    "execution": {
     "iopub.execute_input": "2023-10-20T21:01:42.113431Z",
     "iopub.status.busy": "2023-10-20T21:01:42.112937Z",
     "iopub.status.idle": "2023-10-20T21:01:42.114803Z",
     "shell.execute_reply": "2023-10-20T21:01:42.115194Z"
    },
    "papermill": {
     "duration": 0.023839,
     "end_time": "2023-10-20T21:01:42.115309",
     "exception": false,
     "start_time": "2023-10-20T21:01:42.091470",
     "status": "completed"
    },
    "tags": [
     "injected-parameters"
    ]
   },
   "outputs": [],
   "source": [
    "# Parameters\n",
    "processing_job_arn = \"arn:aws:sagemaker:us-east-1:508063414633:processing-job/pytorch-training-2023-10-2-ProfilerReport-324713c7\"\n"
   ]
  },
  {
   "cell_type": "code",
   "execution_count": 5,
   "metadata": {
    "execution": {
     "iopub.execute_input": "2023-10-20T21:01:42.155868Z",
     "iopub.status.busy": "2023-10-20T21:01:42.155374Z",
     "iopub.status.idle": "2023-10-20T21:01:42.157755Z",
     "shell.execute_reply": "2023-10-20T21:01:42.157253Z"
    },
    "papermill": {
     "duration": 0.023925,
     "end_time": "2023-10-20T21:01:42.157854",
     "exception": false,
     "start_time": "2023-10-20T21:01:42.133929",
     "status": "completed"
    },
    "tags": [
     "hide-input",
     "hide-output"
    ]
   },
   "outputs": [],
   "source": [
    "setup_profiler_report(processing_job_arn)"
   ]
  },
  {
   "cell_type": "code",
   "execution_count": 6,
   "metadata": {
    "execution": {
     "iopub.execute_input": "2023-10-20T21:01:42.204730Z",
     "iopub.status.busy": "2023-10-20T21:01:42.204224Z",
     "iopub.status.idle": "2023-10-20T21:01:42.206087Z",
     "shell.execute_reply": "2023-10-20T21:01:42.206480Z"
    },
    "papermill": {
     "duration": 0.028893,
     "end_time": "2023-10-20T21:01:42.206592",
     "exception": false,
     "start_time": "2023-10-20T21:01:42.177699",
     "status": "completed"
    },
    "tags": [
     "hide-input"
    ]
   },
   "outputs": [],
   "source": [
    "def create_piechart(data_dict, title=None, height=400, width=400, x1=0, x2=0.1, radius=0.4, toolbar_location='right'):\n",
    "   \n",
    "    plot = figure(plot_height=height, \n",
    "                  plot_width=width,\n",
    "                  toolbar_location=toolbar_location,\n",
    "                  tools=\"hover,wheel_zoom,reset,pan\", \n",
    "                  tooltips=\"@phase:@value\", \n",
    "                  title=title,\n",
    "                  x_range=(-radius-x1, radius+x2))\n",
    "\n",
    "    data = pd.Series(data_dict).reset_index(name='value').rename(columns={'index':'phase'})\n",
    "    data['angle'] = data['value']/data['value'].sum() * 2*pi\n",
    "    data['color'] = bokeh.palettes.viridis(len(data_dict))\n",
    "\n",
    "    plot.wedge(x=0, y=0., radius=radius,\n",
    "        start_angle=cumsum('angle', include_zero=True), \n",
    "        end_angle=cumsum('angle'),\n",
    "        line_color=\"white\", \n",
    "        source=data, \n",
    "        fill_color='color', \n",
    "        legend='phase'\n",
    "              )\n",
    "    plot.legend.label_text_font_size = \"8pt\"\n",
    "    plot.legend.location = 'center_right'\n",
    "    plot.axis.axis_label=None\n",
    "    plot.axis.visible=False\n",
    "    plot.grid.grid_line_color = None\n",
    "    plot.outline_line_color = \"white\"\n",
    "    \n",
    "    return plot"
   ]
  },
  {
   "cell_type": "code",
   "execution_count": 7,
   "metadata": {
    "execution": {
     "iopub.execute_input": "2023-10-20T21:01:42.248159Z",
     "iopub.status.busy": "2023-10-20T21:01:42.247637Z",
     "iopub.status.idle": "2023-10-20T21:01:42.249497Z",
     "shell.execute_reply": "2023-10-20T21:01:42.249897Z"
    },
    "papermill": {
     "duration": 0.024539,
     "end_time": "2023-10-20T21:01:42.250010",
     "exception": false,
     "start_time": "2023-10-20T21:01:42.225471",
     "status": "completed"
    },
    "tags": [
     "hide-input"
    ]
   },
   "outputs": [],
   "source": [
    "from IPython.display import display, HTML, Markdown, Image\n",
    "def pretty_print(df):\n",
    "    raw_html = df.to_html().replace(\"\\\\n\",\"<br>\").replace('<tr>','<tr style=\"text-align: left;\">')\n",
    "    return display(HTML(raw_html))"
   ]
  },
  {
   "cell_type": "markdown",
   "metadata": {
    "papermill": {
     "duration": 0.018847,
     "end_time": "2023-10-20T21:01:42.287692",
     "exception": false,
     "start_time": "2023-10-20T21:01:42.268845",
     "status": "completed"
    },
    "tags": []
   },
   "source": [
    "## Training job summary"
   ]
  },
  {
   "cell_type": "code",
   "execution_count": 8,
   "metadata": {
    "execution": {
     "iopub.execute_input": "2023-10-20T21:01:42.329396Z",
     "iopub.status.busy": "2023-10-20T21:01:42.328902Z",
     "iopub.status.idle": "2023-10-20T21:01:42.330762Z",
     "shell.execute_reply": "2023-10-20T21:01:42.331157Z"
    },
    "papermill": {
     "duration": 0.024638,
     "end_time": "2023-10-20T21:01:42.331268",
     "exception": false,
     "start_time": "2023-10-20T21:01:42.306630",
     "status": "completed"
    },
    "tags": [
     "hide-input"
    ]
   },
   "outputs": [],
   "source": [
    "def load_report(rule_name):\n",
    "    try:\n",
    "        report = json.load(open('/opt/ml/processing/output/rule/profiler-output/profiler-reports/'+rule_name+'.json'))\n",
    "        return report\n",
    "    except FileNotFoundError:\n",
    "        print (rule_name + ' not triggered')"
   ]
  },
  {
   "cell_type": "code",
   "execution_count": 9,
   "metadata": {
    "execution": {
     "iopub.execute_input": "2023-10-20T21:01:42.379778Z",
     "iopub.status.busy": "2023-10-20T21:01:42.371362Z",
     "iopub.status.idle": "2023-10-20T21:01:42.383632Z",
     "shell.execute_reply": "2023-10-20T21:01:42.383138Z"
    },
    "papermill": {
     "duration": 0.033304,
     "end_time": "2023-10-20T21:01:42.383727",
     "exception": false,
     "start_time": "2023-10-20T21:01:42.350423",
     "status": "completed"
    },
    "tags": [
     "hide-input",
     "hide-output"
    ]
   },
   "outputs": [],
   "source": [
    "\n",
    "job_statistics = {}\n",
    "report = load_report('MaxInitializationTime')\n",
    "if report:\n",
    "    if \"first\" in report['Details'][\"step_num\"] and \"last\" in report['Details'][\"step_num\"]:\n",
    "        first_step = report['Details'][\"step_num\"][\"first\"]\n",
    "        last_step = report['Details'][\"step_num\"][\"last\"]\n",
    "    tmp = us_since_epoch_to_human_readable_time(report['Details']['job_start'] * 1000000)\n",
    "    date = datetime.datetime.strptime(tmp, '%Y-%m-%dT%H:%M:%S:%f')\n",
    "    day = date.date().strftime(\"%m/%d/%Y\")\n",
    "    hour = date.time().strftime(\"%H:%M:%S\")\n",
    "    job_statistics[\"Start time\"] = f\"{hour} {day}\"\n",
    "    tmp = us_since_epoch_to_human_readable_time(report['Details']['job_end'] * 1000000)\n",
    "    date = datetime.datetime.strptime(tmp, '%Y-%m-%dT%H:%M:%S:%f')\n",
    "    day = date.date().strftime(\"%m/%d/%Y\")\n",
    "    hour = date.time().strftime(\"%H:%M:%S\")\n",
    "    job_statistics[\"End time\"] = f\"{hour} {day}\"\n",
    "    job_duration_in_seconds = int(report['Details']['job_end'] - report['Details']['job_start']) \n",
    "    job_statistics[\"Job duration\"] = f\"{job_duration_in_seconds} seconds\"\n",
    "    if \"first\" in report['Details'][\"step_num\"] and \"last\" in report['Details'][\"step_num\"]:\n",
    "        tmp = us_since_epoch_to_human_readable_time(first_step)\n",
    "        date = datetime.datetime.strptime(tmp, '%Y-%m-%dT%H:%M:%S:%f')\n",
    "        day = date.date().strftime(\"%m/%d/%Y\")\n",
    "        hour = date.time().strftime(\"%H:%M:%S\")\n",
    "        job_statistics[\"Training loop start\"] = f\"{hour} {day}\"\n",
    "        tmp = us_since_epoch_to_human_readable_time(last_step)\n",
    "        date = datetime.datetime.strptime(tmp, '%Y-%m-%dT%H:%M:%S:%f')\n",
    "        day = date.date().strftime(\"%m/%d/%Y\")\n",
    "        hour = date.time().strftime(\"%H:%M:%S\")\n",
    "        job_statistics[\"Training loop end\"] = f\"{hour} {day}\"\n",
    "        training_loop_duration_in_seconds = int((last_step - first_step) / 1000000)\n",
    "        job_statistics[\"Training loop duration\"] = f\"{training_loop_duration_in_seconds} seconds\"\n",
    "        initialization_in_seconds = int(first_step/1000000 - report['Details']['job_start'])\n",
    "        job_statistics[\"Initialization time\"] = f\"{initialization_in_seconds} seconds\"\n",
    "        finalization_in_seconds = int(np.abs(report['Details']['job_end'] - last_step/1000000))\n",
    "        job_statistics[\"Finalization time\"] = f\"{finalization_in_seconds} seconds\"\n",
    "        initialization_perc = int(initialization_in_seconds / job_duration_in_seconds * 100)\n",
    "        job_statistics[\"Initialization\"] = f\"{initialization_perc} %\"\n",
    "        training_loop_perc = int(training_loop_duration_in_seconds / job_duration_in_seconds * 100)\n",
    "        job_statistics[\"Training loop\"] = f\"{training_loop_perc} %\"\n",
    "        finalization_perc = int(finalization_in_seconds / job_duration_in_seconds * 100)\n",
    "        job_statistics[\"Finalization\"] = f\"{finalization_perc} %\""
   ]
  },
  {
   "cell_type": "code",
   "execution_count": 10,
   "metadata": {
    "execution": {
     "iopub.execute_input": "2023-10-20T21:01:42.429695Z",
     "iopub.status.busy": "2023-10-20T21:01:42.424018Z",
     "iopub.status.idle": "2023-10-20T21:01:42.470546Z",
     "shell.execute_reply": "2023-10-20T21:01:42.470062Z"
    },
    "papermill": {
     "duration": 0.067809,
     "end_time": "2023-10-20T21:01:42.470645",
     "exception": false,
     "start_time": "2023-10-20T21:01:42.402836",
     "status": "completed"
    },
    "tags": [
     "hide-input"
    ]
   },
   "outputs": [
    {
     "data": {
      "text/html": [
       "\n",
       "\n",
       "\n",
       "\n",
       "\n",
       "\n",
       "  <div class=\"bk-root\" id=\"7057ff50-d518-4dcb-b076-feaf2cdf126f\" data-root-id=\"1052\"></div>\n"
      ]
     },
     "metadata": {},
     "output_type": "display_data"
    },
    {
     "data": {
      "application/javascript": [
       "(function(root) {\n",
       "  function embed_document(root) {\n",
       "    \n",
       "  var docs_json = {\"deddb8dd-f041-4a08-8b47-dcd05677128d\":{\"roots\":{\"references\":[{\"attributes\":{\"children\":[{\"id\":\"1050\"},{\"id\":\"1051\"}]},\"id\":\"1052\",\"type\":\"Column\"},{\"attributes\":{},\"id\":\"1017\",\"type\":\"BasicTicker\"},{\"attributes\":{\"columns\":[{\"id\":\"1002\"},{\"id\":\"1003\"}],\"height\":380,\"source\":{\"id\":\"1001\"},\"view\":{\"id\":\"1005\"},\"width\":450},\"id\":\"1004\",\"type\":\"DataTable\"},{\"attributes\":{},\"id\":\"1057\",\"type\":\"StringFormatter\"},{\"attributes\":{\"below\":[{\"id\":\"1016\"}],\"center\":[{\"id\":\"1019\"},{\"id\":\"1023\"},{\"id\":\"1048\"}],\"left\":[{\"id\":\"1020\"}],\"outline_line_color\":\"white\",\"plot_height\":350,\"plot_width\":500,\"renderers\":[{\"id\":\"1039\"}],\"title\":null,\"toolbar\":{\"id\":\"1028\"},\"toolbar_location\":null,\"x_range\":{\"id\":\"1008\"},\"x_scale\":{\"id\":\"1012\"},\"y_range\":{\"id\":\"1010\"},\"y_scale\":{\"id\":\"1014\"}},\"id\":\"1006\",\"subtype\":\"Figure\",\"type\":\"Plot\"},{\"attributes\":{\"axis\":{\"id\":\"1016\"},\"grid_line_color\":null,\"ticker\":null},\"id\":\"1019\",\"type\":\"Grid\"},{\"attributes\":{\"end\":0.3,\"start\":-0.3},\"id\":\"1008\",\"type\":\"Range1d\"},{\"attributes\":{\"end_angle\":{\"expr\":{\"id\":\"1034\"},\"units\":\"rad\"},\"fill_color\":{\"field\":\"color\"},\"line_color\":{\"value\":\"white\"},\"radius\":{\"units\":\"data\",\"value\":0.15},\"start_angle\":{\"expr\":{\"id\":\"1033\"},\"units\":\"rad\"},\"x\":{\"value\":0},\"y\":{\"value\":0.0}},\"id\":\"1037\",\"type\":\"Wedge\"},{\"attributes\":{},\"id\":\"1014\",\"type\":\"LinearScale\"},{\"attributes\":{\"end_angle\":{\"expr\":{\"id\":\"1034\"},\"units\":\"rad\"},\"fill_alpha\":{\"value\":0.1},\"fill_color\":{\"field\":\"color\"},\"line_alpha\":{\"value\":0.1},\"line_color\":{\"value\":\"white\"},\"radius\":{\"units\":\"data\",\"value\":0.15},\"start_angle\":{\"expr\":{\"id\":\"1033\"},\"units\":\"rad\"},\"x\":{\"value\":0},\"y\":{\"value\":0.0}},\"id\":\"1038\",\"type\":\"Wedge\"},{\"attributes\":{\"children\":[{\"id\":\"1004\"},{\"id\":\"1006\"}]},\"id\":\"1051\",\"type\":\"Row\"},{\"attributes\":{\"data_source\":{\"id\":\"1035\"},\"glyph\":{\"id\":\"1037\"},\"hover_glyph\":null,\"muted_glyph\":null,\"nonselection_glyph\":{\"id\":\"1038\"},\"selection_glyph\":null,\"view\":{\"id\":\"1040\"}},\"id\":\"1039\",\"type\":\"GlyphRenderer\"},{\"attributes\":{},\"id\":\"1059\",\"type\":\"StringFormatter\"},{\"attributes\":{\"data\":{\"0\":[\"Start time\",\"End time\",\"Job duration\",\"Training loop start\",\"Training loop end\",\"Training loop duration\",\"Initialization time\",\"Finalization time\",\"Initialization\",\"Training loop\",\"Finalization\"],\"1\":[\"20:46:41 10/20/2023\",\"21:00:59 10/20/2023\",\"858 seconds\",\"20:52:43 10/20/2023\",\"21:00:57 10/20/2023\",\"493 seconds\",\"362 seconds\",\"1 seconds\",\"42 %\",\"57 %\",\"0 %\"],\"index\":[0,1,2,3,4,5,6,7,8,9,10]},\"selected\":{\"id\":\"1054\"},\"selection_policy\":{\"id\":\"1055\"}},\"id\":\"1001\",\"type\":\"ColumnDataSource\"},{\"attributes\":{},\"id\":\"1043\",\"type\":\"BasicTickFormatter\"},{\"attributes\":{\"items\":[{\"id\":\"1049\"}],\"label_text_font_size\":\"8pt\",\"location\":\"center_right\"},\"id\":\"1048\",\"type\":\"Legend\"},{\"attributes\":{\"axis_label\":null,\"formatter\":{\"id\":\"1043\"},\"ticker\":{\"id\":\"1017\"},\"visible\":false},\"id\":\"1016\",\"type\":\"LinearAxis\"},{\"attributes\":{},\"id\":\"1021\",\"type\":\"BasicTicker\"},{\"attributes\":{},\"id\":\"1047\",\"type\":\"UnionRenderers\"},{\"attributes\":{\"axis_label\":null,\"formatter\":{\"id\":\"1045\"},\"ticker\":{\"id\":\"1021\"},\"visible\":false},\"id\":\"1020\",\"type\":\"LinearAxis\"},{\"attributes\":{},\"id\":\"1058\",\"type\":\"StringEditor\"},{\"attributes\":{\"source\":{\"id\":\"1035\"}},\"id\":\"1040\",\"type\":\"CDSView\"},{\"attributes\":{\"axis\":{\"id\":\"1020\"},\"dimension\":1,\"grid_line_color\":null,\"ticker\":null},\"id\":\"1023\",\"type\":\"Grid\"},{\"attributes\":{\"text\":\"The following table gives a summary about the training job. The table includes information about when the training job started and ended, how much time initialization, training loop and finalization took. \\n Your training job started on 10/20/2023 at 20:46:41 and ran for 858 seconds.\",\"width\":800},\"id\":\"1050\",\"type\":\"Paragraph\"},{\"attributes\":{\"field\":\"angle\",\"include_zero\":true},\"id\":\"1033\",\"type\":\"CumSum\"},{\"attributes\":{\"data\":{\"angle\":{\"__ndarray__\":\"3pIi0yJTBUBTx2XV0/AMQAAAAAAAAAAA\",\"dtype\":\"float64\",\"order\":\"little\",\"shape\":[3]},\"color\":[\"#440154\",\"#208F8C\",\"#FDE724\"],\"index\":[0,1,2],\"phase\":[\"Initialization\",\"Training loop\",\"Finalization\"],\"value\":[42,57,0]},\"selected\":{\"id\":\"1046\"},\"selection_policy\":{\"id\":\"1047\"}},\"id\":\"1035\",\"type\":\"ColumnDataSource\"},{\"attributes\":{\"field\":\"angle\"},\"id\":\"1034\",\"type\":\"CumSum\"},{\"attributes\":{\"active_drag\":\"auto\",\"active_inspect\":\"auto\",\"active_multi\":null,\"active_scroll\":\"auto\",\"active_tap\":\"auto\",\"tools\":[{\"id\":\"1024\"},{\"id\":\"1025\"},{\"id\":\"1026\"},{\"id\":\"1027\"}]},\"id\":\"1028\",\"type\":\"Toolbar\"},{\"attributes\":{},\"id\":\"1054\",\"type\":\"Selection\"},{\"attributes\":{\"callback\":null,\"tooltips\":\"@phase:@value\"},\"id\":\"1024\",\"type\":\"HoverTool\"},{\"attributes\":{\"editor\":{\"id\":\"1058\"},\"field\":\"1\",\"formatter\":{\"id\":\"1059\"},\"title\":\"Job Statistics\"},\"id\":\"1003\",\"type\":\"TableColumn\"},{\"attributes\":{\"label\":{\"field\":\"phase\"},\"renderers\":[{\"id\":\"1039\"}]},\"id\":\"1049\",\"type\":\"LegendItem\"},{\"attributes\":{},\"id\":\"1025\",\"type\":\"WheelZoomTool\"},{\"attributes\":{},\"id\":\"1046\",\"type\":\"Selection\"},{\"attributes\":{\"source\":{\"id\":\"1001\"}},\"id\":\"1005\",\"type\":\"CDSView\"},{\"attributes\":{},\"id\":\"1026\",\"type\":\"ResetTool\"},{\"attributes\":{\"editor\":{\"id\":\"1056\"},\"field\":\"0\",\"formatter\":{\"id\":\"1057\"},\"title\":\"\"},\"id\":\"1002\",\"type\":\"TableColumn\"},{\"attributes\":{},\"id\":\"1055\",\"type\":\"UnionRenderers\"},{\"attributes\":{},\"id\":\"1012\",\"type\":\"LinearScale\"},{\"attributes\":{},\"id\":\"1027\",\"type\":\"PanTool\"},{\"attributes\":{},\"id\":\"1010\",\"type\":\"DataRange1d\"},{\"attributes\":{},\"id\":\"1045\",\"type\":\"BasicTickFormatter\"},{\"attributes\":{},\"id\":\"1056\",\"type\":\"StringEditor\"}],\"root_ids\":[\"1052\"]},\"title\":\"Bokeh Application\",\"version\":\"2.2.3\"}};\n",
       "  var render_items = [{\"docid\":\"deddb8dd-f041-4a08-8b47-dcd05677128d\",\"root_ids\":[\"1052\"],\"roots\":{\"1052\":\"7057ff50-d518-4dcb-b076-feaf2cdf126f\"}}];\n",
       "  root.Bokeh.embed.embed_items_notebook(docs_json, render_items);\n",
       "\n",
       "  }\n",
       "  if (root.Bokeh !== undefined) {\n",
       "    embed_document(root);\n",
       "  } else {\n",
       "    var attempts = 0;\n",
       "    var timer = setInterval(function(root) {\n",
       "      if (root.Bokeh !== undefined) {\n",
       "        clearInterval(timer);\n",
       "        embed_document(root);\n",
       "      } else {\n",
       "        attempts++;\n",
       "        if (attempts > 100) {\n",
       "          clearInterval(timer);\n",
       "          console.log(\"Bokeh: ERROR: Unable to run BokehJS code because BokehJS library is missing\");\n",
       "        }\n",
       "      }\n",
       "    }, 10, root)\n",
       "  }\n",
       "})(window);"
      ],
      "application/vnd.bokehjs_exec.v0+json": ""
     },
     "metadata": {
      "application/vnd.bokehjs_exec.v0+json": {
       "id": "1052"
      }
     },
     "output_type": "display_data"
    }
   ],
   "source": [
    "if report:\n",
    "    text =  \"\"\"The following table gives a summary about the training job. The table includes information about when the training job started and ended, how much time initialization, training loop and finalization took.\"\"\"\n",
    "    if len(job_statistics) > 0:\n",
    "        df = pd.DataFrame.from_dict(job_statistics, orient='index')\n",
    "        start_time = us_since_epoch_to_human_readable_time(report['Details']['job_start'] * 1000000)\n",
    "        date = datetime.datetime.strptime(start_time, '%Y-%m-%dT%H:%M:%S:%f')\n",
    "        day = date.date().strftime(\"%m/%d/%Y\")\n",
    "        hour = date.time().strftime(\"%H:%M:%S\")\n",
    "        duration = job_duration_in_seconds\n",
    "        text = f\"\"\"{text} \\n Your training job started on {day} at {hour} and ran for {duration} seconds.\"\"\"\n",
    "\n",
    "        #pretty_print(df)\n",
    "        if \"first\" in report['Details'][\"step_num\"] and \"last\" in report['Details'][\"step_num\"]:\n",
    "            if finalization_perc  < 0:\n",
    "                job_statistics[\"Finalization%\"]  = 0\n",
    "            if training_loop_perc < 0:\n",
    "                job_statistics[\"Training loop\"] = 0\n",
    "            if initialization_perc < 0:\n",
    "                job_statistics[\"Initialization\"] = 0\n",
    "        else:\n",
    "            text = f\"\"\"{text} \\n Your training job started on {day} at {hour} and ran for {duration} seconds.\"\"\"\n",
    "            \n",
    "    if len(job_statistics) > 0:\n",
    "        df2 = df.reset_index()\n",
    "        df2.columns = [\"0\", \"1\"]\n",
    "        source = ColumnDataSource(data=df2)\n",
    "        columns = [TableColumn(field='0', title=\"\"),\n",
    "                   TableColumn(field='1', title=\"Job Statistics\"),]\n",
    "        table = DataTable(source=source, columns=columns, width=450, height=380)\n",
    "\n",
    "    plot = None\n",
    "\n",
    "    if \"Initialization\" in job_statistics:\n",
    "        piechart_data = {}\n",
    "        piechart_data[\"Initialization\"] = initialization_perc  \n",
    "        piechart_data[\"Training loop\"]  = training_loop_perc\n",
    "        piechart_data[\"Finalization\"]  = finalization_perc \n",
    "\n",
    "        plot = create_piechart(piechart_data, \n",
    "                               height=350,\n",
    "                               width=500,\n",
    "                               x1=0.15,\n",
    "                               x2=0.15,\n",
    "                               radius=0.15, \n",
    "                               toolbar_location=None)\n",
    "\n",
    "    if plot != None:\n",
    "        paragraph = Paragraph(text=f\"\"\"{text}\"\"\", width = 800)\n",
    "        show(column(paragraph, row(table, plot)))\n",
    "    else:\n",
    "        paragraph = Paragraph(text=f\"\"\"{text}. No step information was profiled from your training job. The time spent on initialization and finalization cannot be computed.\"\"\" , width = 800)\n",
    "        show(column(paragraph, row(table)))"
   ]
  },
  {
   "cell_type": "markdown",
   "metadata": {
    "papermill": {
     "duration": 0.019811,
     "end_time": "2023-10-20T21:01:42.510798",
     "exception": false,
     "start_time": "2023-10-20T21:01:42.490987",
     "status": "completed"
    },
    "tags": []
   },
   "source": [
    "## System usage statistics"
   ]
  },
  {
   "cell_type": "code",
   "execution_count": 11,
   "metadata": {
    "execution": {
     "iopub.execute_input": "2023-10-20T21:01:42.553559Z",
     "iopub.status.busy": "2023-10-20T21:01:42.553073Z",
     "iopub.status.idle": "2023-10-20T21:01:42.555667Z",
     "shell.execute_reply": "2023-10-20T21:01:42.555264Z"
    },
    "papermill": {
     "duration": 0.02513,
     "end_time": "2023-10-20T21:01:42.555763",
     "exception": false,
     "start_time": "2023-10-20T21:01:42.530633",
     "status": "completed"
    },
    "tags": [
     "hide-input"
    ]
   },
   "outputs": [],
   "source": [
    "report = load_report('OverallSystemUsage')"
   ]
  },
  {
   "cell_type": "code",
   "execution_count": 12,
   "metadata": {
    "execution": {
     "iopub.execute_input": "2023-10-20T21:01:42.604182Z",
     "iopub.status.busy": "2023-10-20T21:01:42.603650Z",
     "iopub.status.idle": "2023-10-20T21:01:42.605872Z",
     "shell.execute_reply": "2023-10-20T21:01:42.605452Z"
    },
    "papermill": {
     "duration": 0.030364,
     "end_time": "2023-10-20T21:01:42.605967",
     "exception": false,
     "start_time": "2023-10-20T21:01:42.575603",
     "status": "completed"
    },
    "tags": [
     "hide-input"
    ]
   },
   "outputs": [],
   "source": [
    "text1 = ''\n",
    "if report:\n",
    "    if \"GPU\" in report[\"Details\"]:\n",
    "        for node_id in report[\"Details\"][\"GPU\"]:\n",
    "            gpu_p95 = report[\"Details\"][\"GPU\"][node_id][\"p95\"]\n",
    "            gpu_p50 = report[\"Details\"][\"GPU\"][node_id][\"p50\"]\n",
    "            cpu_p95 = report[\"Details\"][\"CPU\"][node_id][\"p95\"]\n",
    "            cpu_p50 = report[\"Details\"][\"CPU\"][node_id][\"p50\"]\n",
    "            \n",
    "            if gpu_p95 < 70 and cpu_p95 < 70:\n",
    "                text1 = f\"\"\"{text1}The 95th percentile of the total GPU utilization on node {node_id} is only {int(gpu_p95)}%. \n",
    "                The 95th percentile of the total CPU utilization is only {int(cpu_p95)}%. Node {node_id} is underutilized. \n",
    "                You may want to consider switching to a smaller instance type.\"\"\"\n",
    "            elif gpu_p95 < 70 and cpu_p95 > 70:\n",
    "                text1 = f\"\"\"{text1}The 95th percentile of the total GPU utilization on node {node_id} is only {int(gpu_p95)}%. \n",
    "                However, the 95th percentile of the total CPU utilization is {int(cpu_p95)}%. GPUs on node {node_id} are underutilized, \n",
    "                likely because of CPU bottlenecks.\"\"\"\n",
    "            elif gpu_p50 > 70:\n",
    "                text1 = f\"\"\"{text1}The median total GPU utilization on node {node_id} is {int(gpu_p50)}%. \n",
    "                GPUs on node {node_id} are well utilized.\"\"\"\n",
    "            else:\n",
    "                text1 = f\"\"\"{text1}The median total GPU utilization on node {node_id} is {int(gpu_p50)}%. \n",
    "                The median total CPU utilization is {int(cpu_p50)}%.\"\"\"\n",
    "    else:\n",
    "        for node_id in report[\"Details\"][\"CPU\"]:\n",
    "            cpu_p95 = report[\"Details\"][\"CPU\"][node_id][\"p95\"]\n",
    "            if cpu_p95 > 70:\n",
    "                text1 = f\"\"\"{text1}The 95th percentile of the total CPU utilization on node {node_id} is {int**(cpu_p95)}%. CPUs on node {node_id} are well utilized.\"\"\"\n",
    "    text1 = Paragraph(text=f\"\"\"{text1}\"\"\", width=1100)\n",
    "    text2 = Paragraph(text=f\"\"\"The following table shows statistics of resource utilization per worker (node), \n",
    "    such as the total CPU and GPU utilization, and the memory utilization on CPU and GPU. \n",
    "    The table also includes the total I/O wait time and the total amount of data sent or received in bytes.\n",
    "    The table shows min and max values as well as p99, p90 and p50 percentiles.\"\"\", width=900)\n"
   ]
  },
  {
   "cell_type": "code",
   "execution_count": 13,
   "metadata": {
    "execution": {
     "iopub.execute_input": "2023-10-20T21:01:42.665906Z",
     "iopub.status.busy": "2023-10-20T21:01:42.654047Z",
     "iopub.status.idle": "2023-10-20T21:01:42.675800Z",
     "shell.execute_reply": "2023-10-20T21:01:42.675388Z"
    },
    "papermill": {
     "duration": 0.049713,
     "end_time": "2023-10-20T21:01:42.675896",
     "exception": false,
     "start_time": "2023-10-20T21:01:42.626183",
     "status": "completed"
    },
    "tags": [
     "hide-input"
    ]
   },
   "outputs": [
    {
     "data": {
      "text/html": [
       "\n",
       "\n",
       "\n",
       "\n",
       "\n",
       "\n",
       "  <div class=\"bk-root\" id=\"edc71f41-e92b-4fae-9589-8a2ee8b890da\" data-root-id=\"1145\"></div>\n"
      ]
     },
     "metadata": {},
     "output_type": "display_data"
    },
    {
     "data": {
      "application/javascript": [
       "(function(root) {\n",
       "  function embed_document(root) {\n",
       "    \n",
       "  var docs_json = {\"0aaaa1bb-2f2f-4732-a0f0-95694390be3f\":{\"roots\":{\"references\":[{\"attributes\":{\"children\":[{\"id\":\"1131\"},{\"id\":\"1132\"},{\"id\":\"1144\"}]},\"id\":\"1145\",\"type\":\"Column\"},{\"attributes\":{\"editor\":{\"id\":\"1167\"},\"field\":\"max\",\"formatter\":{\"id\":\"1168\"},\"title\":\"max\"},\"id\":\"1137\",\"type\":\"TableColumn\"},{\"attributes\":{},\"id\":\"1165\",\"type\":\"StringEditor\"},{\"attributes\":{\"text\":\"The 95th percentile of the total GPU utilization on node algo-1 is only 0%. \\n                The 95th percentile of the total CPU utilization is only 43%. Node algo-1 is underutilized. \\n                You may want to consider switching to a smaller instance type.\",\"width\":1100},\"id\":\"1131\",\"type\":\"Paragraph\"},{\"attributes\":{\"editor\":{\"id\":\"1169\"},\"field\":\"p99\",\"formatter\":{\"id\":\"1170\"},\"title\":\"p99\"},\"id\":\"1138\",\"type\":\"TableColumn\"},{\"attributes\":{\"editor\":{\"id\":\"1175\"},\"field\":\"min\",\"formatter\":{\"id\":\"1176\"},\"title\":\"min\"},\"id\":\"1141\",\"type\":\"TableColumn\"},{\"attributes\":{\"children\":[{\"id\":\"1142\"}]},\"id\":\"1144\",\"type\":\"Row\"},{\"attributes\":{\"text\":\"The following table shows statistics of resource utilization per worker (node), \\n    such as the total CPU and GPU utilization, and the memory utilization on CPU and GPU. \\n    The table also includes the total I/O wait time and the total amount of data sent or received in bytes.\\n    The table shows min and max values as well as p99, p90 and p50 percentiles.\",\"width\":900},\"id\":\"1132\",\"type\":\"Paragraph\"},{\"attributes\":{},\"id\":\"1162\",\"type\":\"StringFormatter\"},{\"attributes\":{},\"id\":\"1161\",\"type\":\"StringEditor\"},{\"attributes\":{},\"id\":\"1159\",\"type\":\"Selection\"},{\"attributes\":{},\"id\":\"1164\",\"type\":\"StringFormatter\"},{\"attributes\":{\"editor\":{\"id\":\"1163\"},\"field\":\"metric\",\"formatter\":{\"id\":\"1164\"},\"title\":\"metric\"},\"id\":\"1135\",\"type\":\"TableColumn\"},{\"attributes\":{\"editor\":{\"id\":\"1171\"},\"field\":\"p95\",\"formatter\":{\"id\":\"1172\"},\"title\":\"p95\"},\"id\":\"1139\",\"type\":\"TableColumn\"},{\"attributes\":{\"editor\":{\"id\":\"1165\"},\"field\":\"unit\",\"formatter\":{\"id\":\"1166\"},\"title\":\"unit\"},\"id\":\"1136\",\"type\":\"TableColumn\"},{\"attributes\":{\"columns\":[{\"id\":\"1134\"},{\"id\":\"1135\"},{\"id\":\"1136\"},{\"id\":\"1137\"},{\"id\":\"1138\"},{\"id\":\"1139\"},{\"id\":\"1140\"},{\"id\":\"1141\"}],\"height\":180,\"source\":{\"id\":\"1133\"},\"view\":{\"id\":\"1143\"},\"width\":800},\"id\":\"1142\",\"type\":\"DataTable\"},{\"attributes\":{},\"id\":\"1168\",\"type\":\"StringFormatter\"},{\"attributes\":{},\"id\":\"1160\",\"type\":\"UnionRenderers\"},{\"attributes\":{\"editor\":{\"id\":\"1173\"},\"field\":\"p50\",\"formatter\":{\"id\":\"1174\"},\"title\":\"p50\"},\"id\":\"1140\",\"type\":\"TableColumn\"},{\"attributes\":{\"data\":{\"Node\":[\"algo-1\",\"algo-1\",\"algo-1\",\"algo-1\",\"algo-1\",\"algo-1\"],\"index\":[0,1,2,3,4,5],\"level_0\":[0,1,2,3,4,5],\"max\":{\"__ndarray__\":\"KVyPKjGnikEAAAAAAIBVQGZmZmZmBlRAAAAAAAAAMUAAAAAAAABRQOxRuB6F6zhA\",\"dtype\":\"float64\",\"order\":\"little\",\"shape\":[6]},\"metric\":[\"Network\",\"GPU\",\"CPU\",\"CPU memory\",\"GPU memory\",\"I/O\"],\"min\":{\"__ndarray__\":\"AAAAAAAAAAAAAAAAAAAAAAAAAAAAAAAA16NwPQrX8z8AAAAAAAAAAAAAAAAAAAAA\",\"dtype\":\"float64\",\"order\":\"little\",\"shape\":[6]},\"p50\":{\"__ndarray__\":\"AAAAAAAAAAAAAAAAAAAAAB+F61G4HjZA16NwPQrXIUAAAAAAAAAAAAAAAAAAAAAA\",\"dtype\":\"float64\",\"order\":\"little\",\"shape\":[6]},\"p95\":{\"__ndarray__\":\"AAAAAAAAAAAAAAAAAAAAAOxRuB6Fy0VAuB6F61E4IkAAAAAAAAAAAHsUrkfh+iFA\",\"dtype\":\"float64\",\"order\":\"little\",\"shape\":[6]},\"p99\":{\"__ndarray__\":\"AAAAAAAAAAApXI/C9ShMQDMzMzMzM0tAcT0K16PwJEBI4XoUrudGQPYoXI/CdShA\",\"dtype\":\"float64\",\"order\":\"little\",\"shape\":[6]},\"unit\":[\"bytes\",\"percentage\",\"percentage\",\"percentage\",\"percentage\",\"percentage\"]},\"selected\":{\"id\":\"1159\"},\"selection_policy\":{\"id\":\"1160\"}},\"id\":\"1133\",\"type\":\"ColumnDataSource\"},{\"attributes\":{},\"id\":\"1172\",\"type\":\"StringFormatter\"},{\"attributes\":{},\"id\":\"1169\",\"type\":\"StringEditor\"},{\"attributes\":{},\"id\":\"1167\",\"type\":\"StringEditor\"},{\"attributes\":{},\"id\":\"1163\",\"type\":\"StringEditor\"},{\"attributes\":{},\"id\":\"1176\",\"type\":\"StringFormatter\"},{\"attributes\":{\"editor\":{\"id\":\"1161\"},\"field\":\"Node\",\"formatter\":{\"id\":\"1162\"},\"title\":\"node\"},\"id\":\"1134\",\"type\":\"TableColumn\"},{\"attributes\":{},\"id\":\"1170\",\"type\":\"StringFormatter\"},{\"attributes\":{\"source\":{\"id\":\"1133\"}},\"id\":\"1143\",\"type\":\"CDSView\"},{\"attributes\":{},\"id\":\"1173\",\"type\":\"StringEditor\"},{\"attributes\":{},\"id\":\"1175\",\"type\":\"StringEditor\"},{\"attributes\":{},\"id\":\"1166\",\"type\":\"StringFormatter\"},{\"attributes\":{},\"id\":\"1174\",\"type\":\"StringFormatter\"},{\"attributes\":{},\"id\":\"1171\",\"type\":\"StringEditor\"}],\"root_ids\":[\"1145\"]},\"title\":\"Bokeh Application\",\"version\":\"2.2.3\"}};\n",
       "  var render_items = [{\"docid\":\"0aaaa1bb-2f2f-4732-a0f0-95694390be3f\",\"root_ids\":[\"1145\"],\"roots\":{\"1145\":\"edc71f41-e92b-4fae-9589-8a2ee8b890da\"}}];\n",
       "  root.Bokeh.embed.embed_items_notebook(docs_json, render_items);\n",
       "\n",
       "  }\n",
       "  if (root.Bokeh !== undefined) {\n",
       "    embed_document(root);\n",
       "  } else {\n",
       "    var attempts = 0;\n",
       "    var timer = setInterval(function(root) {\n",
       "      if (root.Bokeh !== undefined) {\n",
       "        clearInterval(timer);\n",
       "        embed_document(root);\n",
       "      } else {\n",
       "        attempts++;\n",
       "        if (attempts > 100) {\n",
       "          clearInterval(timer);\n",
       "          console.log(\"Bokeh: ERROR: Unable to run BokehJS code because BokehJS library is missing\");\n",
       "        }\n",
       "      }\n",
       "    }, 10, root)\n",
       "  }\n",
       "})(window);"
      ],
      "application/vnd.bokehjs_exec.v0+json": ""
     },
     "metadata": {
      "application/vnd.bokehjs_exec.v0+json": {
       "id": "1145"
      }
     },
     "output_type": "display_data"
    }
   ],
   "source": [
    "pd.set_option('display.float_format', lambda x: '%.2f' % x)\n",
    "rows = [] \n",
    "units = {\"CPU\": \"percentage\", \"CPU memory\": \"percentage\", \"GPU\": \"percentage\", \"Network\": \"bytes\", \"GPU memory\": \"percentage\", \"I/O\": \"percentage\"}\n",
    "if report:\n",
    "    for metric in report['Details']:\n",
    "        for node_id in report['Details'][metric]:\n",
    "            values = report['Details'][metric][node_id]\n",
    "            rows.append([node_id, metric, units[metric], values['max'], values['p99'], values['p95'], values['p50'], values['min']])\n",
    "\n",
    "    df = pd.DataFrame(rows) \n",
    "    df.columns = ['Node', 'metric', 'unit', 'max', 'p99', 'p95', 'p50', 'min']\n",
    "    df2 = df.reset_index()\n",
    "    source = ColumnDataSource(data=df2)\n",
    "    columns = [TableColumn(field='Node', title=\"node\"),\n",
    "               TableColumn(field='metric', title=\"metric\"),\n",
    "               TableColumn(field='unit', title=\"unit\"),\n",
    "               TableColumn(field='max', title=\"max\"),\n",
    "               TableColumn(field='p99', title=\"p99\"),\n",
    "               TableColumn(field='p95', title=\"p95\"),\n",
    "               TableColumn(field='p50', title=\"p50\"),\n",
    "               TableColumn(field='min', title=\"min\"),]\n",
    "    table = DataTable(source=source, columns=columns, width=800, height=df2.shape[0]*30)\n",
    "\n",
    "    show(column( text1, text2, row(table)))"
   ]
  },
  {
   "cell_type": "code",
   "execution_count": 14,
   "metadata": {
    "execution": {
     "iopub.execute_input": "2023-10-20T21:01:42.735490Z",
     "iopub.status.busy": "2023-10-20T21:01:42.719155Z",
     "iopub.status.idle": "2023-10-20T21:01:42.826662Z",
     "shell.execute_reply": "2023-10-20T21:01:42.826242Z"
    },
    "papermill": {
     "duration": 0.130133,
     "end_time": "2023-10-20T21:01:42.826764",
     "exception": false,
     "start_time": "2023-10-20T21:01:42.696631",
     "status": "completed"
    },
    "tags": [
     "hide-input"
    ]
   },
   "outputs": [
    {
     "data": {
      "text/markdown": [
       "## Framework metrics summary"
      ],
      "text/plain": [
       "<IPython.core.display.Markdown object>"
      ]
     },
     "metadata": {},
     "output_type": "display_data"
    },
    {
     "data": {
      "text/html": [
       "\n",
       "\n",
       "\n",
       "\n",
       "\n",
       "\n",
       "  <div class=\"bk-root\" id=\"20e8c824-e2d8-4c69-96f8-d152079c0ca1\" data-root-id=\"1314\"></div>\n"
      ]
     },
     "metadata": {},
     "output_type": "display_data"
    },
    {
     "data": {
      "application/javascript": [
       "(function(root) {\n",
       "  function embed_document(root) {\n",
       "    \n",
       "  var docs_json = {\"ed34f4fa-051d-4757-91c0-c6ebcce6ba16\":{\"roots\":{\"references\":[{\"attributes\":{\"children\":[{\"id\":\"1312\"},{\"id\":\"1313\"}]},\"id\":\"1314\",\"type\":\"Column\"},{\"attributes\":{},\"id\":\"1283\",\"type\":\"BasicTicker\"},{\"attributes\":{\"axis\":{\"id\":\"1278\"},\"grid_line_color\":null,\"ticker\":null},\"id\":\"1281\",\"type\":\"Grid\"},{\"attributes\":{},\"id\":\"1308\",\"type\":\"Selection\"},{\"attributes\":{\"axis\":{\"id\":\"1282\"},\"dimension\":1,\"grid_line_color\":null,\"ticker\":null},\"id\":\"1285\",\"type\":\"Grid\"},{\"attributes\":{\"end\":0.8999999999999999,\"start\":-0.5},\"id\":\"1270\",\"type\":\"Range1d\"},{\"attributes\":{\"field\":\"angle\",\"include_zero\":true},\"id\":\"1295\",\"type\":\"CumSum\"},{\"attributes\":{\"axis_label\":null,\"formatter\":{\"id\":\"1307\"},\"ticker\":{\"id\":\"1283\"},\"visible\":false},\"id\":\"1282\",\"type\":\"LinearAxis\"},{\"attributes\":{},\"id\":\"1274\",\"type\":\"LinearScale\"},{\"attributes\":{\"active_drag\":\"auto\",\"active_inspect\":\"auto\",\"active_multi\":null,\"active_scroll\":\"auto\",\"active_tap\":\"auto\",\"tools\":[{\"id\":\"1286\"},{\"id\":\"1287\"},{\"id\":\"1288\"},{\"id\":\"1289\"}]},\"id\":\"1290\",\"type\":\"Toolbar\"},{\"attributes\":{},\"id\":\"1272\",\"type\":\"DataRange1d\"},{\"attributes\":{},\"id\":\"1309\",\"type\":\"UnionRenderers\"},{\"attributes\":{\"end_angle\":{\"expr\":{\"id\":\"1296\"},\"units\":\"rad\"},\"fill_alpha\":{\"value\":0.1},\"fill_color\":{\"field\":\"color\"},\"line_alpha\":{\"value\":0.1},\"line_color\":{\"value\":\"white\"},\"radius\":{\"units\":\"data\",\"value\":0.3},\"start_angle\":{\"expr\":{\"id\":\"1295\"},\"units\":\"rad\"},\"x\":{\"value\":0},\"y\":{\"value\":0.0}},\"id\":\"1300\",\"type\":\"Wedge\"},{\"attributes\":{\"field\":\"angle\"},\"id\":\"1296\",\"type\":\"CumSum\"},{\"attributes\":{\"text\":\"The ratio between the time spent on the TRAIN/EVAL phase and others\"},\"id\":\"1268\",\"type\":\"Title\"},{\"attributes\":{\"source\":{\"id\":\"1297\"}},\"id\":\"1302\",\"type\":\"CDSView\"},{\"attributes\":{\"data\":{\"angle\":{\"__ndarray__\":\"cAB+q0CzCUCEDby6CFkFQN5hchJqvdk/\",\"dtype\":\"float64\",\"order\":\"little\",\"shape\":[3]},\"color\":[\"#440154\",\"#208F8C\",\"#FDE724\"],\"index\":[0,1,2],\"phase\":[\"Step:ModeKeys.TRAIN\",\"others\",\"Step:ModeKeys.EVAL\"],\"value\":{\"__ndarray__\":\"a9zZ64CQSUB2AHeBKzxFQO8YeZWcmhlA\",\"dtype\":\"float64\",\"order\":\"little\",\"shape\":[3]}},\"selected\":{\"id\":\"1308\"},\"selection_policy\":{\"id\":\"1309\"}},\"id\":\"1297\",\"type\":\"ColumnDataSource\"},{\"attributes\":{\"callback\":null,\"tooltips\":\"@phase:@value\"},\"id\":\"1286\",\"type\":\"HoverTool\"},{\"attributes\":{},\"id\":\"1287\",\"type\":\"WheelZoomTool\"},{\"attributes\":{\"text\":\"The following two pie charts show the time spent on the TRAIN phase, the EVAL phase, \\n            and others. The 'others' includes the time spent between steps (after one step has finished and before\\n            the next step has started). Ideally, most of the training time should be spent on the \\n            TRAIN and EVAL phases. If TRAIN/EVAL were not specified in the training script, steps will be recorded as \\n            GLOBAL. Your training job spent quite a significant amount of time (42.47%) in phase \\\"others\\\".\\n                    You should check what is happening in between the steps.\",\"width\":1100},\"id\":\"1312\",\"type\":\"Paragraph\"},{\"attributes\":{\"children\":[{\"id\":\"1267\"}]},\"id\":\"1313\",\"type\":\"Row\"},{\"attributes\":{},\"id\":\"1288\",\"type\":\"ResetTool\"},{\"attributes\":{\"data_source\":{\"id\":\"1297\"},\"glyph\":{\"id\":\"1299\"},\"hover_glyph\":null,\"muted_glyph\":null,\"nonselection_glyph\":{\"id\":\"1300\"},\"selection_glyph\":null,\"view\":{\"id\":\"1302\"}},\"id\":\"1301\",\"type\":\"GlyphRenderer\"},{\"attributes\":{},\"id\":\"1289\",\"type\":\"PanTool\"},{\"attributes\":{\"items\":[{\"id\":\"1311\"}],\"label_text_font_size\":\"8pt\",\"location\":\"center_right\"},\"id\":\"1310\",\"type\":\"Legend\"},{\"attributes\":{},\"id\":\"1305\",\"type\":\"BasicTickFormatter\"},{\"attributes\":{\"end_angle\":{\"expr\":{\"id\":\"1296\"},\"units\":\"rad\"},\"fill_color\":{\"field\":\"color\"},\"line_color\":{\"value\":\"white\"},\"radius\":{\"units\":\"data\",\"value\":0.3},\"start_angle\":{\"expr\":{\"id\":\"1295\"},\"units\":\"rad\"},\"x\":{\"value\":0},\"y\":{\"value\":0.0}},\"id\":\"1299\",\"type\":\"Wedge\"},{\"attributes\":{\"label\":{\"field\":\"phase\"},\"renderers\":[{\"id\":\"1301\"}]},\"id\":\"1311\",\"type\":\"LegendItem\"},{\"attributes\":{\"below\":[{\"id\":\"1278\"}],\"center\":[{\"id\":\"1281\"},{\"id\":\"1285\"},{\"id\":\"1310\"}],\"left\":[{\"id\":\"1282\"}],\"outline_line_color\":\"white\",\"plot_height\":350,\"renderers\":[{\"id\":\"1301\"}],\"title\":{\"id\":\"1268\"},\"toolbar\":{\"id\":\"1290\"},\"x_range\":{\"id\":\"1270\"},\"x_scale\":{\"id\":\"1274\"},\"y_range\":{\"id\":\"1272\"},\"y_scale\":{\"id\":\"1276\"}},\"id\":\"1267\",\"subtype\":\"Figure\",\"type\":\"Plot\"},{\"attributes\":{},\"id\":\"1307\",\"type\":\"BasicTickFormatter\"},{\"attributes\":{},\"id\":\"1276\",\"type\":\"LinearScale\"},{\"attributes\":{},\"id\":\"1279\",\"type\":\"BasicTicker\"},{\"attributes\":{\"axis_label\":null,\"formatter\":{\"id\":\"1305\"},\"ticker\":{\"id\":\"1279\"},\"visible\":false},\"id\":\"1278\",\"type\":\"LinearAxis\"}],\"root_ids\":[\"1314\"]},\"title\":\"Bokeh Application\",\"version\":\"2.2.3\"}};\n",
       "  var render_items = [{\"docid\":\"ed34f4fa-051d-4757-91c0-c6ebcce6ba16\",\"root_ids\":[\"1314\"],\"roots\":{\"1314\":\"20e8c824-e2d8-4c69-96f8-d152079c0ca1\"}}];\n",
       "  root.Bokeh.embed.embed_items_notebook(docs_json, render_items);\n",
       "\n",
       "  }\n",
       "  if (root.Bokeh !== undefined) {\n",
       "    embed_document(root);\n",
       "  } else {\n",
       "    var attempts = 0;\n",
       "    var timer = setInterval(function(root) {\n",
       "      if (root.Bokeh !== undefined) {\n",
       "        clearInterval(timer);\n",
       "        embed_document(root);\n",
       "      } else {\n",
       "        attempts++;\n",
       "        if (attempts > 100) {\n",
       "          clearInterval(timer);\n",
       "          console.log(\"Bokeh: ERROR: Unable to run BokehJS code because BokehJS library is missing\");\n",
       "        }\n",
       "      }\n",
       "    }, 10, root)\n",
       "  }\n",
       "})(window);"
      ],
      "application/vnd.bokehjs_exec.v0+json": ""
     },
     "metadata": {
      "application/vnd.bokehjs_exec.v0+json": {
       "id": "1314"
      }
     },
     "output_type": "display_data"
    },
    {
     "data": {
      "text/html": [
       "\n",
       "\n",
       "\n",
       "\n",
       "\n",
       "\n",
       "  <div class=\"bk-root\" id=\"5efe961c-c248-4bca-a0f6-f63fdbf86738\" data-root-id=\"1480\"></div>\n"
      ]
     },
     "metadata": {},
     "output_type": "display_data"
    },
    {
     "data": {
      "application/javascript": [
       "(function(root) {\n",
       "  function embed_document(root) {\n",
       "    \n",
       "  var docs_json = {\"659c4a64-368b-4f50-83a0-0deb2cc737d7\":{\"roots\":{\"references\":[{\"attributes\":{\"children\":[{\"id\":\"1478\"},{\"id\":\"1479\"}]},\"id\":\"1480\",\"type\":\"Column\"},{\"attributes\":{\"axis\":{\"id\":\"1399\"},\"grid_line_color\":null,\"ticker\":null},\"id\":\"1402\",\"type\":\"Grid\"},{\"attributes\":{},\"id\":\"1393\",\"type\":\"DataRange1d\"},{\"attributes\":{\"data\":{\"angle\":{\"__ndarray__\":\"szp3y/009j5+Y62r6Zf8P1thGVz7+xFA\",\"dtype\":\"float64\",\"order\":\"little\",\"shape\":[3]},\"color\":[\"#440154\",\"#208F8C\",\"#FDE724\"],\"index\":[0,1,2],\"phase\":[\"DataLoaderIterInitialize\",\"DataLoaderIter\",\"Forward\"],\"value\":{\"__ndarray__\":\"Bmk2K/cWNj9eFmd7QHE8QJtvaFuq41FA\",\"dtype\":\"float64\",\"order\":\"little\",\"shape\":[3]}},\"selected\":{\"id\":\"1474\"},\"selection_policy\":{\"id\":\"1475\"}},\"id\":\"1463\",\"type\":\"ColumnDataSource\"},{\"attributes\":{},\"id\":\"1428\",\"type\":\"BasicTickFormatter\"},{\"attributes\":{},\"id\":\"1453\",\"type\":\"WheelZoomTool\"},{\"attributes\":{},\"id\":\"1400\",\"type\":\"BasicTicker\"},{\"attributes\":{},\"id\":\"1404\",\"type\":\"BasicTicker\"},{\"attributes\":{\"end_angle\":{\"expr\":{\"id\":\"1417\"},\"units\":\"rad\"},\"fill_color\":{\"field\":\"color\"},\"line_color\":{\"value\":\"white\"},\"radius\":{\"units\":\"data\",\"value\":0.3},\"start_angle\":{\"expr\":{\"id\":\"1416\"},\"units\":\"rad\"},\"x\":{\"value\":0},\"y\":{\"value\":0.0}},\"id\":\"1420\",\"type\":\"Wedge\"},{\"attributes\":{},\"id\":\"1454\",\"type\":\"ResetTool\"},{\"attributes\":{},\"id\":\"1430\",\"type\":\"UnionRenderers\"},{\"attributes\":{},\"id\":\"1455\",\"type\":\"PanTool\"},{\"attributes\":{},\"id\":\"1440\",\"type\":\"LinearScale\"},{\"attributes\":{\"axis_label\":null,\"formatter\":{\"id\":\"1428\"},\"ticker\":{\"id\":\"1404\"},\"visible\":false},\"id\":\"1403\",\"type\":\"LinearAxis\"},{\"attributes\":{\"axis\":{\"id\":\"1403\"},\"dimension\":1,\"grid_line_color\":null,\"ticker\":null},\"id\":\"1406\",\"type\":\"Grid\"},{\"attributes\":{\"field\":\"angle\"},\"id\":\"1417\",\"type\":\"CumSum\"},{\"attributes\":{},\"id\":\"1438\",\"type\":\"DataRange1d\"},{\"attributes\":{\"text\":\"General framework operations\"},\"id\":\"1434\",\"type\":\"Title\"},{\"attributes\":{\"end_angle\":{\"expr\":{\"id\":\"1417\"},\"units\":\"rad\"},\"fill_alpha\":{\"value\":0.1},\"fill_color\":{\"field\":\"color\"},\"line_alpha\":{\"value\":0.1},\"line_color\":{\"value\":\"white\"},\"radius\":{\"units\":\"data\",\"value\":0.3},\"start_angle\":{\"expr\":{\"id\":\"1416\"},\"units\":\"rad\"},\"x\":{\"value\":0},\"y\":{\"value\":0.0}},\"id\":\"1421\",\"type\":\"Wedge\"},{\"attributes\":{\"end\":0.8999999999999999,\"start\":-0.5},\"id\":\"1391\",\"type\":\"Range1d\"},{\"attributes\":{\"axis_label\":null,\"formatter\":{\"id\":\"1473\"},\"ticker\":{\"id\":\"1449\"},\"visible\":false},\"id\":\"1448\",\"type\":\"LinearAxis\"},{\"attributes\":{},\"id\":\"1408\",\"type\":\"WheelZoomTool\"},{\"attributes\":{\"end_angle\":{\"expr\":{\"id\":\"1462\"},\"units\":\"rad\"},\"fill_alpha\":{\"value\":0.1},\"fill_color\":{\"field\":\"color\"},\"line_alpha\":{\"value\":0.1},\"line_color\":{\"value\":\"white\"},\"radius\":{\"units\":\"data\",\"value\":0.3},\"start_angle\":{\"expr\":{\"id\":\"1461\"},\"units\":\"rad\"},\"x\":{\"value\":0},\"y\":{\"value\":0.0}},\"id\":\"1466\",\"type\":\"Wedge\"},{\"attributes\":{\"axis\":{\"id\":\"1448\"},\"dimension\":1,\"grid_line_color\":null,\"ticker\":null},\"id\":\"1451\",\"type\":\"Grid\"},{\"attributes\":{\"items\":[{\"id\":\"1477\"}],\"label_text_font_size\":\"8pt\",\"location\":\"center_right\"},\"id\":\"1476\",\"type\":\"Legend\"},{\"attributes\":{},\"id\":\"1473\",\"type\":\"BasicTickFormatter\"},{\"attributes\":{\"callback\":null,\"tooltips\":\"@phase:@value\"},\"id\":\"1407\",\"type\":\"HoverTool\"},{\"attributes\":{\"end\":0.8999999999999999,\"start\":-0.5},\"id\":\"1436\",\"type\":\"Range1d\"},{\"attributes\":{},\"id\":\"1410\",\"type\":\"PanTool\"},{\"attributes\":{\"field\":\"angle\",\"include_zero\":true},\"id\":\"1416\",\"type\":\"CumSum\"},{\"attributes\":{\"below\":[{\"id\":\"1399\"}],\"center\":[{\"id\":\"1402\"},{\"id\":\"1406\"},{\"id\":\"1431\"}],\"left\":[{\"id\":\"1403\"}],\"outline_line_color\":\"white\",\"plot_height\":350,\"renderers\":[{\"id\":\"1422\"}],\"title\":{\"id\":\"1389\"},\"toolbar\":{\"id\":\"1411\"},\"x_range\":{\"id\":\"1391\"},\"x_scale\":{\"id\":\"1395\"},\"y_range\":{\"id\":\"1393\"},\"y_scale\":{\"id\":\"1397\"}},\"id\":\"1388\",\"subtype\":\"Figure\",\"type\":\"Plot\"},{\"attributes\":{\"active_drag\":\"auto\",\"active_inspect\":\"auto\",\"active_multi\":null,\"active_scroll\":\"auto\",\"active_tap\":\"auto\",\"tools\":[{\"id\":\"1407\"},{\"id\":\"1408\"},{\"id\":\"1409\"},{\"id\":\"1410\"}]},\"id\":\"1411\",\"type\":\"Toolbar\"},{\"attributes\":{\"children\":[{\"id\":\"1388\"},{\"id\":\"1433\"}]},\"id\":\"1479\",\"type\":\"Row\"},{\"attributes\":{\"data_source\":{\"id\":\"1463\"},\"glyph\":{\"id\":\"1465\"},\"hover_glyph\":null,\"muted_glyph\":null,\"nonselection_glyph\":{\"id\":\"1466\"},\"selection_glyph\":null,\"view\":{\"id\":\"1468\"}},\"id\":\"1467\",\"type\":\"GlyphRenderer\"},{\"attributes\":{\"text\":\"The ratio between the time spent on CPU/GPU operators\"},\"id\":\"1389\",\"type\":\"Title\"},{\"attributes\":{},\"id\":\"1442\",\"type\":\"LinearScale\"},{\"attributes\":{},\"id\":\"1409\",\"type\":\"ResetTool\"},{\"attributes\":{},\"id\":\"1471\",\"type\":\"BasicTickFormatter\"},{\"attributes\":{\"axis_label\":null,\"formatter\":{\"id\":\"1471\"},\"ticker\":{\"id\":\"1445\"},\"visible\":false},\"id\":\"1444\",\"type\":\"LinearAxis\"},{\"attributes\":{},\"id\":\"1426\",\"type\":\"BasicTickFormatter\"},{\"attributes\":{\"end_angle\":{\"expr\":{\"id\":\"1462\"},\"units\":\"rad\"},\"fill_color\":{\"field\":\"color\"},\"line_color\":{\"value\":\"white\"},\"radius\":{\"units\":\"data\",\"value\":0.3},\"start_angle\":{\"expr\":{\"id\":\"1461\"},\"units\":\"rad\"},\"x\":{\"value\":0},\"y\":{\"value\":0.0}},\"id\":\"1465\",\"type\":\"Wedge\"},{\"attributes\":{\"label\":{\"field\":\"phase\"},\"renderers\":[{\"id\":\"1467\"}]},\"id\":\"1477\",\"type\":\"LegendItem\"},{\"attributes\":{\"data\":{\"angle\":{\"__ndarray__\":\"GC1EVPshGUA=\",\"dtype\":\"float64\",\"order\":\"little\",\"shape\":[1]},\"color\":[\"#440154\"],\"index\":[0],\"phase\":[\"cpu_functions\"],\"value\":{\"__ndarray__\":\"AAAAAAAAWUA=\",\"dtype\":\"float64\",\"order\":\"little\",\"shape\":[1]}},\"selected\":{\"id\":\"1429\"},\"selection_policy\":{\"id\":\"1430\"}},\"id\":\"1418\",\"type\":\"ColumnDataSource\"},{\"attributes\":{},\"id\":\"1449\",\"type\":\"BasicTicker\"},{\"attributes\":{\"source\":{\"id\":\"1463\"}},\"id\":\"1468\",\"type\":\"CDSView\"},{\"attributes\":{},\"id\":\"1429\",\"type\":\"Selection\"},{\"attributes\":{},\"id\":\"1395\",\"type\":\"LinearScale\"},{\"attributes\":{\"label\":{\"field\":\"phase\"},\"renderers\":[{\"id\":\"1422\"}]},\"id\":\"1432\",\"type\":\"LegendItem\"},{\"attributes\":{},\"id\":\"1445\",\"type\":\"BasicTicker\"},{\"attributes\":{\"source\":{\"id\":\"1418\"}},\"id\":\"1423\",\"type\":\"CDSView\"},{\"attributes\":{\"axis\":{\"id\":\"1444\"},\"grid_line_color\":null,\"ticker\":null},\"id\":\"1447\",\"type\":\"Grid\"},{\"attributes\":{\"field\":\"angle\",\"include_zero\":true},\"id\":\"1461\",\"type\":\"CumSum\"},{\"attributes\":{\"active_drag\":\"auto\",\"active_inspect\":\"auto\",\"active_multi\":null,\"active_scroll\":\"auto\",\"active_tap\":\"auto\",\"tools\":[{\"id\":\"1452\"},{\"id\":\"1453\"},{\"id\":\"1454\"},{\"id\":\"1455\"}]},\"id\":\"1456\",\"type\":\"Toolbar\"},{\"attributes\":{},\"id\":\"1474\",\"type\":\"Selection\"},{\"attributes\":{\"field\":\"angle\"},\"id\":\"1462\",\"type\":\"CumSum\"},{\"attributes\":{\"below\":[{\"id\":\"1444\"}],\"center\":[{\"id\":\"1447\"},{\"id\":\"1451\"},{\"id\":\"1476\"}],\"left\":[{\"id\":\"1448\"}],\"outline_line_color\":\"white\",\"plot_height\":350,\"renderers\":[{\"id\":\"1467\"}],\"title\":{\"id\":\"1434\"},\"toolbar\":{\"id\":\"1456\"},\"x_range\":{\"id\":\"1436\"},\"x_scale\":{\"id\":\"1440\"},\"y_range\":{\"id\":\"1438\"},\"y_scale\":{\"id\":\"1442\"}},\"id\":\"1433\",\"subtype\":\"Figure\",\"type\":\"Plot\"},{\"attributes\":{\"data_source\":{\"id\":\"1418\"},\"glyph\":{\"id\":\"1420\"},\"hover_glyph\":null,\"muted_glyph\":null,\"nonselection_glyph\":{\"id\":\"1421\"},\"selection_glyph\":null,\"view\":{\"id\":\"1423\"}},\"id\":\"1422\",\"type\":\"GlyphRenderer\"},{\"attributes\":{},\"id\":\"1475\",\"type\":\"UnionRenderers\"},{\"attributes\":{\"axis_label\":null,\"formatter\":{\"id\":\"1426\"},\"ticker\":{\"id\":\"1400\"},\"visible\":false},\"id\":\"1399\",\"type\":\"LinearAxis\"},{\"attributes\":{\"items\":[{\"id\":\"1432\"}],\"label_text_font_size\":\"8pt\",\"location\":\"center_right\"},\"id\":\"1431\",\"type\":\"Legend\"},{\"attributes\":{\"callback\":null,\"tooltips\":\"@phase:@value\"},\"id\":\"1452\",\"type\":\"HoverTool\"},{\"attributes\":{\"text\":\"The following piechart shows a breakdown of the CPU/GPU operators. \\n                It shows that 100% of training time was spent on executing the \\\"cpu_functions\\\" operator.\",\"width\":1100},\"id\":\"1478\",\"type\":\"Paragraph\"},{\"attributes\":{},\"id\":\"1397\",\"type\":\"LinearScale\"}],\"root_ids\":[\"1480\"]},\"title\":\"Bokeh Application\",\"version\":\"2.2.3\"}};\n",
       "  var render_items = [{\"docid\":\"659c4a64-368b-4f50-83a0-0deb2cc737d7\",\"root_ids\":[\"1480\"],\"roots\":{\"1480\":\"5efe961c-c248-4bca-a0f6-f63fdbf86738\"}}];\n",
       "  root.Bokeh.embed.embed_items_notebook(docs_json, render_items);\n",
       "\n",
       "  }\n",
       "  if (root.Bokeh !== undefined) {\n",
       "    embed_document(root);\n",
       "  } else {\n",
       "    var attempts = 0;\n",
       "    var timer = setInterval(function(root) {\n",
       "      if (root.Bokeh !== undefined) {\n",
       "        clearInterval(timer);\n",
       "        embed_document(root);\n",
       "      } else {\n",
       "        attempts++;\n",
       "        if (attempts > 100) {\n",
       "          clearInterval(timer);\n",
       "          console.log(\"Bokeh: ERROR: Unable to run BokehJS code because BokehJS library is missing\");\n",
       "        }\n",
       "      }\n",
       "    }, 10, root)\n",
       "  }\n",
       "})(window);"
      ],
      "application/vnd.bokehjs_exec.v0+json": ""
     },
     "metadata": {
      "application/vnd.bokehjs_exec.v0+json": {
       "id": "1480"
      }
     },
     "output_type": "display_data"
    }
   ],
   "source": [
    "report = load_report('OverallFrameworkMetrics')\n",
    "if report:\n",
    "    if 'Details' in report:\n",
    "\n",
    "        display(Markdown(f\"\"\"## Framework metrics summary\"\"\"))\n",
    "        plots = []\n",
    "        text = ''\n",
    "        if 'phase' in report['Details']:\n",
    "            text = f\"\"\"The following two pie charts show the time spent on the TRAIN phase, the EVAL phase, \n",
    "            and others. The 'others' includes the time spent between steps (after one step has finished and before\n",
    "            the next step has started). Ideally, most of the training time should be spent on the \n",
    "            TRAIN and EVAL phases. If TRAIN/EVAL were not specified in the training script, steps will be recorded as \n",
    "            GLOBAL.\"\"\"\n",
    "\n",
    "            if 'others' in report['Details']['phase']:\n",
    "                others = float(report['Details']['phase']['others'])\n",
    "\n",
    "                if others > 25:\n",
    "                    text = f\"\"\"{text} Your training job spent quite a significant amount of time ({round(others,2)}%) in phase \"others\".\n",
    "                    You should check what is happening in between the steps.\"\"\"\n",
    "\n",
    "                plot = create_piechart(report['Details']['phase'], \n",
    "                                    height=350,\n",
    "                                    width=600,\n",
    "                                    x1=0.2,\n",
    "                                    x2=0.6,\n",
    "                                    radius=0.3, \n",
    "                                    title=\"The ratio between the time spent on the TRAIN/EVAL phase and others\")\n",
    "                plots.append(plot)\n",
    "\n",
    "        if 'forward_backward' in report['Details']:\n",
    "\n",
    "            event = max(report['Details']['forward_backward'], key=report['Details']['forward_backward'].get)\n",
    "            perc = report['Details']['forward_backward'][event]\n",
    "\n",
    "            text = f\"\"\"{text} The pie chart on the right shows a more detailed breakdown. \n",
    "            It shows that {int(perc)}% of the time was spent in event \"{event}\".\"\"\"\n",
    "\n",
    "            if perc > 70:\n",
    "                text = f\"\"\"There is quite a significant difference between the time spent on forward and backward\n",
    "                pass.\"\"\"\n",
    "            else:\n",
    "                text = f\"\"\"{text} It shows that {int(perc)}% of the training time\n",
    "                was spent on \"{event}\".\"\"\"\n",
    "\n",
    "            plot = create_piechart(report['Details']['forward_backward'], \n",
    "                                height=350,\n",
    "                                width=600,\n",
    "                                x1=0.2,\n",
    "                                x2=0.6,\n",
    "                                radius=0.3, \n",
    "                                title=\"The ratio between forward and backward pass\") \n",
    "            plots.append(plot)\n",
    "\n",
    "        if len(plots) > 0:\n",
    "            paragraph = Paragraph(text=text, width=1100)\n",
    "            show(column(paragraph, row(plots)))\n",
    "\n",
    "        plots = []\n",
    "        text=''\n",
    "        if 'ratio' in report['Details'] and len(report['Details']['ratio']) > 0:\n",
    "\n",
    "            key = list(report['Details']['ratio'].keys())[0]\n",
    "            ratio = report['Details']['ratio'][key]\n",
    "\n",
    "            text = f\"\"\"The following piechart shows a breakdown of the CPU/GPU operators. \n",
    "                It shows that {int(ratio)}% of training time was spent on executing the \"{key}\" operator.\"\"\"\n",
    "\n",
    "            plot = create_piechart(report['Details']['ratio'], \n",
    "                                    height=350,\n",
    "                                    width=600,\n",
    "                                    x1=0.2,\n",
    "                                    x2=0.6,\n",
    "                                    radius=0.3, \n",
    "                                    title=\"The ratio between the time spent on CPU/GPU operators\")\n",
    "            plots.append(plot)\n",
    "\n",
    "\n",
    "        if 'general' in report['Details']:\n",
    "            event = max(report['Details']['general'], key=report['Details']['general'].get)\n",
    "            perc = report['Details']['general'][event]\n",
    "\n",
    "            plot = create_piechart(report['Details']['general'], \n",
    "                                height=350,\n",
    "                                width=600,\n",
    "                                x1=0.2,\n",
    "                                x2=0.6,\n",
    "                                radius=0.3, \n",
    "                                title=\"General framework operations\")\n",
    "            plots.append(plot)\n",
    "\n",
    "        if len(plots) > 0:\n",
    "            paragraph = Paragraph(text=text, width=1100)\n",
    "            show(column(paragraph, row(plots)))\n",
    "\n",
    "        plots = []\n",
    "        text = ''\n",
    "        if 'horovod' in report['Details']:\n",
    "            display(Markdown(f\"\"\"#### Overview: Horovod metrics\"\"\"))\n",
    "            event = max(report['Details']['horovod'], key=report['Details']['horovod'].get)\n",
    "            perc = report['Details']['horovod'][event]\n",
    "            text = f\"\"\"{text} The following pie chart shows a detailed breakdown of the Horovod metrics profiled\n",
    "            from your training job. The most expensive function was \"{event}\" with {int(perc)}%.\"\"\"\n",
    "\n",
    "            plot = create_piechart(report['Details']['horovod'], \n",
    "                                height=350,\n",
    "                                width=600,\n",
    "                                x1=0.2,\n",
    "                                x2=0.6,\n",
    "                                radius=0.3, \n",
    "                                title=\"Horovod metrics \")\n",
    "\n",
    "            paragraph = Paragraph(text=text, width=1100)\n",
    "            show(column(paragraph, row(plot)))\n"
   ]
  },
  {
   "cell_type": "code",
   "execution_count": 15,
   "metadata": {
    "execution": {
     "iopub.execute_input": "2023-10-20T21:01:42.880462Z",
     "iopub.status.busy": "2023-10-20T21:01:42.879869Z",
     "iopub.status.idle": "2023-10-20T21:01:42.923399Z",
     "shell.execute_reply": "2023-10-20T21:01:42.923806Z"
    },
    "papermill": {
     "duration": 0.074312,
     "end_time": "2023-10-20T21:01:42.923929",
     "exception": false,
     "start_time": "2023-10-20T21:01:42.849617",
     "status": "completed"
    },
    "tags": [
     "hide-input"
    ]
   },
   "outputs": [
    {
     "data": {
      "text/markdown": [
       "#### Overview: CPU operators"
      ],
      "text/plain": [
       "<IPython.core.display.Markdown object>"
      ]
     },
     "metadata": {},
     "output_type": "display_data"
    },
    {
     "data": {
      "text/html": [
       "\n",
       "\n",
       "\n",
       "\n",
       "\n",
       "\n",
       "  <div class=\"bk-root\" id=\"5f212cc4-1833-4b0e-b828-f57991d3247b\" data-root-id=\"1655\"></div>\n"
      ]
     },
     "metadata": {},
     "output_type": "display_data"
    },
    {
     "data": {
      "application/javascript": [
       "(function(root) {\n",
       "  function embed_document(root) {\n",
       "    \n",
       "  var docs_json = {\"689956fc-bceb-4e75-89bc-8ad3308d9bdd\":{\"roots\":{\"references\":[{\"attributes\":{\"children\":[{\"id\":\"1609\"},{\"id\":\"1654\"}]},\"id\":\"1655\",\"type\":\"Column\"},{\"attributes\":{\"axis\":{\"id\":\"1620\"},\"grid_line_color\":null,\"ticker\":null},\"id\":\"1623\",\"type\":\"Grid\"},{\"attributes\":{},\"id\":\"1712\",\"type\":\"StringFormatter\"},{\"attributes\":{\"axis_label\":null,\"formatter\":{\"id\":\"1649\"},\"ticker\":{\"id\":\"1625\"},\"visible\":false},\"id\":\"1624\",\"type\":\"LinearAxis\"},{\"attributes\":{\"data\":{\"angle\":{\"__ndarray__\":\"LDjjTysh0j/aUhI9eT/UPzFOQbl3bxVAZ2M4I5XH1D8=\",\"dtype\":\"float64\",\"order\":\"little\",\"shape\":[4]},\"color\":[\"#440154\",\"#30678D\",\"#35B778\",\"#FDE724\"],\"index\":[0,1,2,3],\"phase\":[\"aten::to\",\"aten::copy_\",\"enumerate(DataLoader)#_SingleProcessDataLoaderIter.__next__\",\"aten::flip\"],\"value\":{\"__ndarray__\":\"paNaB6gIEkCCKNa1GCQUQAss7yp8UlVALXPck3yrFEA=\",\"dtype\":\"float64\",\"order\":\"little\",\"shape\":[4]}},\"selected\":{\"id\":\"1650\"},\"selection_policy\":{\"id\":\"1651\"}},\"id\":\"1639\",\"type\":\"ColumnDataSource\"},{\"attributes\":{\"field\":\"angle\",\"include_zero\":true},\"id\":\"1637\",\"type\":\"CumSum\"},{\"attributes\":{\"data\":{\"index\":[2,3,1,0],\"operator\":[\"enumerate(DataLoader)#_SingleProcessDataLoaderIter.__next__\",\"aten::flip\",\"aten::copy_\",\"aten::to\"],\"percentage\":{\"__ndarray__\":\"w/UoXI9SVUCuR+F6FK4UQClcj8L1KBRACtejcD0KEkA=\",\"dtype\":\"float64\",\"order\":\"little\",\"shape\":[4]},\"time\":[83411746,5053739,4924432,4409229]},\"selected\":{\"id\":\"1709\"},\"selection_policy\":{\"id\":\"1710\"}},\"id\":\"1603\",\"type\":\"ColumnDataSource\"},{\"attributes\":{\"end\":0.8999999999999999,\"start\":-0.5},\"id\":\"1612\",\"type\":\"Range1d\"},{\"attributes\":{\"end_angle\":{\"expr\":{\"id\":\"1638\"},\"units\":\"rad\"},\"fill_color\":{\"field\":\"color\"},\"line_color\":{\"value\":\"white\"},\"radius\":{\"units\":\"data\",\"value\":0.3},\"start_angle\":{\"expr\":{\"id\":\"1637\"},\"units\":\"rad\"},\"x\":{\"value\":0},\"y\":{\"value\":0.0}},\"id\":\"1641\",\"type\":\"Wedge\"},{\"attributes\":{\"field\":\"angle\"},\"id\":\"1638\",\"type\":\"CumSum\"},{\"attributes\":{},\"id\":\"1629\",\"type\":\"WheelZoomTool\"},{\"attributes\":{},\"id\":\"1713\",\"type\":\"StringEditor\"},{\"attributes\":{},\"id\":\"1649\",\"type\":\"BasicTickFormatter\"},{\"attributes\":{},\"id\":\"1651\",\"type\":\"UnionRenderers\"},{\"attributes\":{\"editor\":{\"id\":\"1713\"},\"field\":\"time\",\"formatter\":{\"id\":\"1714\"},\"title\":\"Cumulative time in microseconds\"},\"id\":\"1605\",\"type\":\"TableColumn\"},{\"attributes\":{\"active_drag\":\"auto\",\"active_inspect\":\"auto\",\"active_multi\":null,\"active_scroll\":\"auto\",\"active_tap\":\"auto\",\"tools\":[{\"id\":\"1628\"},{\"id\":\"1629\"},{\"id\":\"1630\"},{\"id\":\"1631\"}]},\"id\":\"1632\",\"type\":\"Toolbar\"},{\"attributes\":{\"text\":\"The following table shows a list of operators that ran on the CPUs.\\n        The most expensive operator on the CPUs was \\\"enumerate(DataLoader)#_SingleProcessDataLoaderIter.__next__\\\" with 85 %.\"},\"id\":\"1609\",\"type\":\"Paragraph\"},{\"attributes\":{},\"id\":\"1710\",\"type\":\"UnionRenderers\"},{\"attributes\":{\"below\":[{\"id\":\"1620\"}],\"center\":[{\"id\":\"1623\"},{\"id\":\"1627\"},{\"id\":\"1652\"}],\"left\":[{\"id\":\"1624\"}],\"outline_line_color\":\"white\",\"plot_height\":350,\"renderers\":[{\"id\":\"1643\"}],\"title\":null,\"toolbar\":{\"id\":\"1632\"},\"x_range\":{\"id\":\"1612\"},\"x_scale\":{\"id\":\"1616\"},\"y_range\":{\"id\":\"1614\"},\"y_scale\":{\"id\":\"1618\"}},\"id\":\"1610\",\"subtype\":\"Figure\",\"type\":\"Plot\"},{\"attributes\":{\"editor\":{\"id\":\"1715\"},\"field\":\"operator\",\"formatter\":{\"id\":\"1716\"},\"title\":\"CPU operator\"},\"id\":\"1606\",\"type\":\"TableColumn\"},{\"attributes\":{},\"id\":\"1714\",\"type\":\"StringFormatter\"},{\"attributes\":{\"end_angle\":{\"expr\":{\"id\":\"1638\"},\"units\":\"rad\"},\"fill_alpha\":{\"value\":0.1},\"fill_color\":{\"field\":\"color\"},\"line_alpha\":{\"value\":0.1},\"line_color\":{\"value\":\"white\"},\"radius\":{\"units\":\"data\",\"value\":0.3},\"start_angle\":{\"expr\":{\"id\":\"1637\"},\"units\":\"rad\"},\"x\":{\"value\":0},\"y\":{\"value\":0.0}},\"id\":\"1642\",\"type\":\"Wedge\"},{\"attributes\":{},\"id\":\"1625\",\"type\":\"BasicTicker\"},{\"attributes\":{},\"id\":\"1650\",\"type\":\"Selection\"},{\"attributes\":{},\"id\":\"1616\",\"type\":\"LinearScale\"},{\"attributes\":{},\"id\":\"1709\",\"type\":\"Selection\"},{\"attributes\":{},\"id\":\"1711\",\"type\":\"StringEditor\"},{\"attributes\":{\"callback\":null,\"tooltips\":\"@phase:@value\"},\"id\":\"1628\",\"type\":\"HoverTool\"},{\"attributes\":{},\"id\":\"1614\",\"type\":\"DataRange1d\"},{\"attributes\":{\"editor\":{\"id\":\"1711\"},\"field\":\"percentage\",\"formatter\":{\"id\":\"1712\"},\"title\":\"Percentage\"},\"id\":\"1604\",\"type\":\"TableColumn\"},{\"attributes\":{\"children\":[{\"id\":\"1607\"},{\"id\":\"1610\"}]},\"id\":\"1654\",\"type\":\"Row\"},{\"attributes\":{\"items\":[{\"id\":\"1653\"}],\"label_text_font_size\":\"8pt\",\"location\":\"center_right\"},\"id\":\"1652\",\"type\":\"Legend\"},{\"attributes\":{\"columns\":[{\"id\":\"1604\"},{\"id\":\"1605\"},{\"id\":\"1606\"}],\"height\":350,\"source\":{\"id\":\"1603\"},\"view\":{\"id\":\"1608\"},\"width\":550},\"id\":\"1607\",\"type\":\"DataTable\"},{\"attributes\":{},\"id\":\"1618\",\"type\":\"LinearScale\"},{\"attributes\":{\"source\":{\"id\":\"1639\"}},\"id\":\"1644\",\"type\":\"CDSView\"},{\"attributes\":{},\"id\":\"1715\",\"type\":\"StringEditor\"},{\"attributes\":{},\"id\":\"1630\",\"type\":\"ResetTool\"},{\"attributes\":{\"source\":{\"id\":\"1603\"}},\"id\":\"1608\",\"type\":\"CDSView\"},{\"attributes\":{\"data_source\":{\"id\":\"1639\"},\"glyph\":{\"id\":\"1641\"},\"hover_glyph\":null,\"muted_glyph\":null,\"nonselection_glyph\":{\"id\":\"1642\"},\"selection_glyph\":null,\"view\":{\"id\":\"1644\"}},\"id\":\"1643\",\"type\":\"GlyphRenderer\"},{\"attributes\":{\"axis\":{\"id\":\"1624\"},\"dimension\":1,\"grid_line_color\":null,\"ticker\":null},\"id\":\"1627\",\"type\":\"Grid\"},{\"attributes\":{},\"id\":\"1631\",\"type\":\"PanTool\"},{\"attributes\":{\"axis_label\":null,\"formatter\":{\"id\":\"1647\"},\"ticker\":{\"id\":\"1621\"},\"visible\":false},\"id\":\"1620\",\"type\":\"LinearAxis\"},{\"attributes\":{},\"id\":\"1647\",\"type\":\"BasicTickFormatter\"},{\"attributes\":{\"label\":{\"field\":\"phase\"},\"renderers\":[{\"id\":\"1643\"}]},\"id\":\"1653\",\"type\":\"LegendItem\"},{\"attributes\":{},\"id\":\"1716\",\"type\":\"StringFormatter\"},{\"attributes\":{},\"id\":\"1621\",\"type\":\"BasicTicker\"}],\"root_ids\":[\"1655\"]},\"title\":\"Bokeh Application\",\"version\":\"2.2.3\"}};\n",
       "  var render_items = [{\"docid\":\"689956fc-bceb-4e75-89bc-8ad3308d9bdd\",\"root_ids\":[\"1655\"],\"roots\":{\"1655\":\"5f212cc4-1833-4b0e-b828-f57991d3247b\"}}];\n",
       "  root.Bokeh.embed.embed_items_notebook(docs_json, render_items);\n",
       "\n",
       "  }\n",
       "  if (root.Bokeh !== undefined) {\n",
       "    embed_document(root);\n",
       "  } else {\n",
       "    var attempts = 0;\n",
       "    var timer = setInterval(function(root) {\n",
       "      if (root.Bokeh !== undefined) {\n",
       "        clearInterval(timer);\n",
       "        embed_document(root);\n",
       "      } else {\n",
       "        attempts++;\n",
       "        if (attempts > 100) {\n",
       "          clearInterval(timer);\n",
       "          console.log(\"Bokeh: ERROR: Unable to run BokehJS code because BokehJS library is missing\");\n",
       "        }\n",
       "      }\n",
       "    }, 10, root)\n",
       "  }\n",
       "})(window);"
      ],
      "application/vnd.bokehjs_exec.v0+json": ""
     },
     "metadata": {
      "application/vnd.bokehjs_exec.v0+json": {
       "id": "1655"
      }
     },
     "output_type": "display_data"
    }
   ],
   "source": [
    "pd.set_option('display.float_format', lambda x: '%.2f' % x)\n",
    "rows = [] \n",
    "values = []\n",
    "if report:\n",
    "    if 'CPU_total' in report['Details']:\n",
    "        display(Markdown(f\"\"\"#### Overview: CPU operators\"\"\"))\n",
    "        event = max(report['Details']['CPU'], key=report['Details']['CPU'].get)\n",
    "        perc = report['Details']['CPU'][event]\n",
    "\n",
    "        for function in report['Details']['CPU']:\n",
    "            percentage = round(report['Details']['CPU'][function],2)\n",
    "            time = report['Details']['CPU_total'][function]               \n",
    "            rows.append([percentage, time, function])\n",
    "\n",
    "        df = pd.DataFrame(rows) \n",
    "        df.columns = ['percentage', 'time', 'operator']\n",
    "\n",
    "        df = df.sort_values(by=['percentage'], ascending=False)\n",
    "        source = ColumnDataSource(data=df)\n",
    "        columns = [TableColumn(field='percentage', title=\"Percentage\"),\n",
    "                   TableColumn(field='time', title=\"Cumulative time in microseconds\"),\n",
    "                  TableColumn(field='operator', title=\"CPU operator\"),]\n",
    "\n",
    "        table = DataTable(source=source, columns=columns, width=550, height=350)\n",
    "\n",
    "        text = Paragraph(text=f\"\"\"The following table shows a list of operators that ran on the CPUs.\n",
    "        The most expensive operator on the CPUs was \"{event}\" with {int(perc)} %.\"\"\")\n",
    "\n",
    "        plot = create_piechart(report['Details']['CPU'],\n",
    "                                height=350,\n",
    "                                width=600,\n",
    "                                x1=0.2,\n",
    "                                x2=0.6,\n",
    "                                radius=0.3, \n",
    "                               )\n",
    "\n",
    "        show(column(text, row(table, plot)))\n"
   ]
  },
  {
   "cell_type": "code",
   "execution_count": 16,
   "metadata": {
    "execution": {
     "iopub.execute_input": "2023-10-20T21:01:42.979278Z",
     "iopub.status.busy": "2023-10-20T21:01:42.978783Z",
     "iopub.status.idle": "2023-10-20T21:01:42.981027Z",
     "shell.execute_reply": "2023-10-20T21:01:42.980614Z"
    },
    "papermill": {
     "duration": 0.033759,
     "end_time": "2023-10-20T21:01:42.981126",
     "exception": false,
     "start_time": "2023-10-20T21:01:42.947367",
     "status": "completed"
    },
    "tags": [
     "hide-input"
    ]
   },
   "outputs": [],
   "source": [
    "pd.set_option('display.float_format', lambda x: '%.2f' % x)\n",
    "rows = [] \n",
    "values = []\n",
    "if report:\n",
    "    if 'GPU_total' in report['Details']:\n",
    "        display(Markdown(f\"\"\"#### Overview: GPU operators\"\"\"))\n",
    "        event = max(report['Details']['GPU'], key=report['Details']['GPU'].get)\n",
    "        perc = report['Details']['GPU'][event]\n",
    "\n",
    "        for function in report['Details']['GPU']:\n",
    "            percentage = round(report['Details']['GPU'][function],2)\n",
    "            time = report['Details']['GPU_total'][function]               \n",
    "            rows.append([percentage, time, function])\n",
    "\n",
    "        df = pd.DataFrame(rows) \n",
    "        df.columns = ['percentage', 'time', 'operator']\n",
    "\n",
    "        df = df.sort_values(by=['percentage'], ascending=False)\n",
    "        source = ColumnDataSource(data=df)\n",
    "        columns = [TableColumn(field='percentage', title=\"Percentage\"),\n",
    "                   TableColumn(field='time', title=\"Cumulative time in microseconds\"),\n",
    "                  TableColumn(field='operator', title=\"GPU operator\"),]\n",
    "        table = DataTable(source=source, columns=columns, width=450, height=350)\n",
    "\n",
    "        text = Paragraph(text=f\"\"\"The following table shows a list of operators that your training job ran on GPU.\n",
    "        The most expensive operator on GPU was \"{event}\" with {int(perc)} %\"\"\")\n",
    "\n",
    "        plot = create_piechart(report['Details']['GPU'],\n",
    "                                height=350,\n",
    "                                width=600,\n",
    "                                x1=0.2,\n",
    "                                x2=0.6,\n",
    "                                radius=0.3, \n",
    "                               )\n",
    "\n",
    "        show(column(text, row(table, plot)))"
   ]
  },
  {
   "cell_type": "markdown",
   "metadata": {
    "papermill": {
     "duration": 0.023424,
     "end_time": "2023-10-20T21:01:43.028157",
     "exception": false,
     "start_time": "2023-10-20T21:01:43.004733",
     "status": "completed"
    },
    "tags": []
   },
   "source": [
    "## Rules summary"
   ]
  },
  {
   "cell_type": "code",
   "execution_count": 17,
   "metadata": {
    "execution": {
     "iopub.execute_input": "2023-10-20T21:01:43.080871Z",
     "iopub.status.busy": "2023-10-20T21:01:43.080356Z",
     "iopub.status.idle": "2023-10-20T21:01:43.082322Z",
     "shell.execute_reply": "2023-10-20T21:01:43.082715Z"
    },
    "papermill": {
     "duration": 0.031209,
     "end_time": "2023-10-20T21:01:43.082829",
     "exception": false,
     "start_time": "2023-10-20T21:01:43.051620",
     "status": "completed"
    },
    "tags": [
     "hide-input"
    ]
   },
   "outputs": [],
   "source": [
    "description = {}\n",
    "description['CPUBottleneck'] = 'Checks if the CPU utilization is high and the GPU utilization is low. \\\n",
    "It might indicate CPU bottlenecks, where the GPUs are waiting for data to arrive \\\n",
    "from the CPUs. The rule evaluates the CPU and GPU utilization rates, and triggers the issue \\\n",
    "if the time spent on the CPU bottlenecks exceeds a threshold percent of the total training time. The default threshold is 50 percent.'\n",
    "description['IOBottleneck'] =  'Checks if the data I/O wait time is high and the GPU utilization is low. \\\n",
    "It might indicate IO bottlenecks where GPU is waiting for data to arrive from storage. \\\n",
    "The rule evaluates the I/O and GPU utilization rates and triggers the issue \\\n",
    "if the time spent on the IO bottlenecks exceeds a threshold percent of the total training time. The default threshold is 50 percent.'\n",
    "description['Dataloader'] = 'Checks how many data loaders are running in parallel and whether the total number is equal the number \\\n",
    "of available CPU cores. The rule triggers if number is much smaller or larger than the number of available cores. \\\n",
    "If too small, it might lead to low GPU utilization. If too large, it might impact other compute intensive operations on CPU.'\n",
    "description['GPUMemoryIncrease'] = 'Measures the average GPU memory footprint and triggers if there is a large increase.'\n",
    "description['BatchSize'] = 'Checks if GPUs are underutilized because the batch size is too small. \\\n",
    "To detect this problem, the rule analyzes the average GPU memory footprint, \\\n",
    "the CPU and the GPU utilization. '\n",
    "description['LowGPUUtilization'] = 'Checks if the GPU utilization is low or fluctuating. \\\n",
    "This can happen due to bottlenecks, blocking calls for synchronizations, \\\n",
    "or a small batch size.'\n",
    "description['MaxInitializationTime'] = 'Checks if the time spent on initialization exceeds a threshold percent of the total training time. \\\n",
    "The rule waits until the first step of training loop starts. The initialization can take longer \\\n",
    "if downloading the entire dataset from Amazon S3 in File mode. The default threshold is 20 minutes.'\n",
    "description['LoadBalancing'] = 'Detects workload balancing issues across GPUs. \\\n",
    "Workload imbalance can occur in training jobs with data parallelism. \\\n",
    "The gradients are accumulated on a primary GPU, and this GPU might be overused \\\n",
    "with regard to other GPUs, resulting in reducing the efficiency of data parallelization.'\n",
    "description['StepOutlier'] = 'Detects outliers in step duration. The step duration for forward and backward pass should be \\\n",
    "roughly the same throughout the training. If there are significant outliers, \\\n",
    "it may indicate a system stall or bottleneck issues.'"
   ]
  },
  {
   "cell_type": "code",
   "execution_count": 18,
   "metadata": {
    "execution": {
     "iopub.execute_input": "2023-10-20T21:01:43.134972Z",
     "iopub.status.busy": "2023-10-20T21:01:43.134343Z",
     "iopub.status.idle": "2023-10-20T21:01:43.136415Z",
     "shell.execute_reply": "2023-10-20T21:01:43.136808Z"
    },
    "papermill": {
     "duration": 0.030456,
     "end_time": "2023-10-20T21:01:43.136921",
     "exception": false,
     "start_time": "2023-10-20T21:01:43.106465",
     "status": "completed"
    },
    "tags": [
     "hide-input"
    ]
   },
   "outputs": [],
   "source": [
    "recommendation = {}\n",
    "recommendation['CPUBottleneck'] = 'Consider increasing the number of data loaders \\\n",
    "or applying data pre-fetching.'\n",
    "recommendation['IOBottleneck'] = 'Pre-fetch data or choose different file formats, such as binary formats that \\\n",
    "improve I/O performance.'\n",
    "recommendation['Dataloader'] = 'Change the number of data loader processes.'\n",
    "recommendation['GPUMemoryIncrease'] = 'Choose a larger instance type with more memory if footprint is close to maximum available memory.'\n",
    "recommendation['BatchSize'] = 'The batch size is too small, and GPUs are underutilized. Consider running on a smaller instance type or increasing the batch size.'\n",
    "recommendation['LowGPUUtilization'] = 'Check if there are bottlenecks, minimize blocking calls, \\\n",
    "change distributed training strategy, or increase the batch size.'\n",
    "recommendation['MaxInitializationTime'] = 'Initialization takes too long. \\\n",
    "If using File mode, consider switching to Pipe mode in case you are using TensorFlow framework.'\n",
    "recommendation['LoadBalancing'] = 'Choose a different distributed training strategy or \\\n",
    "a different distributed training framework.'\n",
    "recommendation['StepOutlier'] = 'Check if there are any bottlenecks (CPU, I/O) correlated to the step outliers.'"
   ]
  },
  {
   "cell_type": "code",
   "execution_count": 19,
   "metadata": {
    "execution": {
     "iopub.execute_input": "2023-10-20T21:01:43.191235Z",
     "iopub.status.busy": "2023-10-20T21:01:43.190407Z",
     "iopub.status.idle": "2023-10-20T21:01:43.201782Z",
     "shell.execute_reply": "2023-10-20T21:01:43.202182Z"
    },
    "papermill": {
     "duration": 0.041708,
     "end_time": "2023-10-20T21:01:43.202296",
     "exception": false,
     "start_time": "2023-10-20T21:01:43.160588",
     "status": "completed"
    },
    "tags": [
     "hide-input"
    ]
   },
   "outputs": [
    {
     "data": {
      "text/markdown": [
       "The following table shows a profiling summary of the Debugger built-in rules. \n",
       "The table is sorted by the rules that triggered the most frequently. During your training job, the GPUMemoryIncrease rule\n",
       "was the most frequently triggered. It processed 1718 datapoints and was triggered 26 times."
      ],
      "text/plain": [
       "<IPython.core.display.Markdown object>"
      ]
     },
     "metadata": {},
     "output_type": "display_data"
    },
    {
     "data": {
      "text/html": [
       "<table border=\"1\" class=\"dataframe\">\n",
       "  <thead>\n",
       "    <tr style=\"text-align: left;\">\n",
       "      <th></th>\n",
       "      <th>Description</th>\n",
       "      <th>Recommendation</th>\n",
       "      <th>Number of times rule triggered</th>\n",
       "      <th>Number of datapoints</th>\n",
       "      <th>Rule parameters</th>\n",
       "    </tr>\n",
       "  </thead>\n",
       "  <tbody>\n",
       "    <tr style=\"text-align: left;\">\n",
       "      <th>GPUMemoryIncrease</th>\n",
       "      <td>Measures the average GPU memory footprint and triggers if there is a large increase.</td>\n",
       "      <td>Choose a larger instance type with more memory if footprint is close to maximum available memory.</td>\n",
       "      <td>26</td>\n",
       "      <td>1718</td>\n",
       "      <td>increase:5<br>patience:1000<br>window:10</td>\n",
       "    </tr>\n",
       "    <tr style=\"text-align: left;\">\n",
       "      <th>BatchSize</th>\n",
       "      <td>Checks if GPUs are underutilized because the batch size is too small. To detect this problem, the rule analyzes the average GPU memory footprint, the CPU and the GPU utilization.</td>\n",
       "      <td>The batch size is too small, and GPUs are underutilized. Consider running on a smaller instance type or increasing the batch size.</td>\n",
       "      <td>6</td>\n",
       "      <td>1717</td>\n",
       "      <td>cpu_threshold_p95:70<br>gpu_threshold_p95:70<br>gpu_memory_threshold_p95:70<br>patience:1000<br>window:500</td>\n",
       "    </tr>\n",
       "    <tr style=\"text-align: left;\">\n",
       "      <th>LowGPUUtilization</th>\n",
       "      <td>Checks if the GPU utilization is low or fluctuating. This can happen due to bottlenecks, blocking calls for synchronizations, or a small batch size.</td>\n",
       "      <td>Check if there are bottlenecks, minimize blocking calls, change distributed training strategy, or increase the batch size.</td>\n",
       "      <td>6</td>\n",
       "      <td>1718</td>\n",
       "      <td>threshold_p95:70<br>threshold_p5:10<br>window:500<br>patience:1000</td>\n",
       "    </tr>\n",
       "    <tr style=\"text-align: left;\">\n",
       "      <th>IOBottleneck</th>\n",
       "      <td>Checks if the data I/O wait time is high and the GPU utilization is low. It might indicate IO bottlenecks where GPU is waiting for data to arrive from storage. The rule evaluates the I/O and GPU utilization rates and triggers the issue if the time spent on the IO bottlenecks exceeds a threshold percent of the total training time. The default threshold is 50 percent.</td>\n",
       "      <td>Pre-fetch data or choose different file formats, such as binary formats that improve I/O performance.</td>\n",
       "      <td>0</td>\n",
       "      <td>1719</td>\n",
       "      <td>threshold:50<br>io_threshold:50<br>gpu_threshold:10<br>patience:1000</td>\n",
       "    </tr>\n",
       "    <tr style=\"text-align: left;\">\n",
       "      <th>CPUBottleneck</th>\n",
       "      <td>Checks if the CPU utilization is high and the GPU utilization is low. It might indicate CPU bottlenecks, where the GPUs are waiting for data to arrive from the CPUs. The rule evaluates the CPU and GPU utilization rates, and triggers the issue if the time spent on the CPU bottlenecks exceeds a threshold percent of the total training time. The default threshold is 50 percent.</td>\n",
       "      <td>Consider increasing the number of data loaders or applying data pre-fetching.</td>\n",
       "      <td>0</td>\n",
       "      <td>1719</td>\n",
       "      <td>threshold:50<br>cpu_threshold:90<br>gpu_threshold:10<br>patience:1000</td>\n",
       "    </tr>\n",
       "    <tr style=\"text-align: left;\">\n",
       "      <th>Dataloader</th>\n",
       "      <td>Checks how many data loaders are running in parallel and whether the total number is equal the number of available CPU cores. The rule triggers if number is much smaller or larger than the number of available cores. If too small, it might lead to low GPU utilization. If too large, it might impact other compute intensive operations on CPU.</td>\n",
       "      <td>Change the number of data loader processes.</td>\n",
       "      <td>0</td>\n",
       "      <td>10</td>\n",
       "      <td>min_threshold:70<br>max_threshold:200</td>\n",
       "    </tr>\n",
       "    <tr style=\"text-align: left;\">\n",
       "      <th>MaxInitializationTime</th>\n",
       "      <td>Checks if the time spent on initialization exceeds a threshold percent of the total training time. The rule waits until the first step of training loop starts. The initialization can take longer if downloading the entire dataset from Amazon S3 in File mode. The default threshold is 20 minutes.</td>\n",
       "      <td>Initialization takes too long. If using File mode, consider switching to Pipe mode in case you are using TensorFlow framework.</td>\n",
       "      <td>0</td>\n",
       "      <td>60</td>\n",
       "      <td>threshold:20</td>\n",
       "    </tr>\n",
       "    <tr style=\"text-align: left;\">\n",
       "      <th>LoadBalancing</th>\n",
       "      <td>Detects workload balancing issues across GPUs. Workload imbalance can occur in training jobs with data parallelism. The gradients are accumulated on a primary GPU, and this GPU might be overused with regard to other GPUs, resulting in reducing the efficiency of data parallelization.</td>\n",
       "      <td>Choose a different distributed training strategy or a different distributed training framework.</td>\n",
       "      <td>0</td>\n",
       "      <td>1718</td>\n",
       "      <td>threshold:0.2<br>patience:1000</td>\n",
       "    </tr>\n",
       "    <tr style=\"text-align: left;\">\n",
       "      <th>StepOutlier</th>\n",
       "      <td>Detects outliers in step duration. The step duration for forward and backward pass should be roughly the same throughout the training. If there are significant outliers, it may indicate a system stall or bottleneck issues.</td>\n",
       "      <td>Check if there are any bottlenecks (CPU, I/O) correlated to the step outliers.</td>\n",
       "      <td>0</td>\n",
       "      <td>60</td>\n",
       "      <td>threshold:3<br>mode:None<br>n_outliers:10<br>stddev:3</td>\n",
       "    </tr>\n",
       "  </tbody>\n",
       "</table>"
      ],
      "text/plain": [
       "<IPython.core.display.HTML object>"
      ]
     },
     "metadata": {},
     "output_type": "display_data"
    }
   ],
   "source": [
    "files = glob.glob('/opt/ml/processing/output/rule/profiler-output/profiler-reports/*json')\n",
    "summary = {}\n",
    "for i in files:\n",
    "    rule_name = i.split('/')[-1].replace('.json','')\n",
    "    if rule_name == \"OverallSystemUsage\" or rule_name == \"OverallFrameworkMetrics\":\n",
    "        continue\n",
    "    rule_report = json.load(open(i))\n",
    "    summary[rule_name] = {}\n",
    "    summary[rule_name]['Description'] = description[rule_name]\n",
    "    summary[rule_name]['Recommendation'] = recommendation[rule_name]\n",
    "    summary[rule_name]['Number of times rule triggered'] = rule_report['RuleTriggered'] \n",
    "    #summary[rule_name]['Number of violations'] = rule_report['Violations'] \n",
    "    summary[rule_name]['Number of datapoints'] = rule_report['Datapoints']\n",
    "    summary[rule_name]['Rule parameters'] = rule_report['RuleParameters']\n",
    "\n",
    "df = pd.DataFrame.from_dict(summary, orient='index')\n",
    "df = df.sort_values(by=['Number of times rule triggered'], ascending=False)\n",
    "\n",
    "\n",
    "display(Markdown(f\"\"\"The following table shows a profiling summary of the Debugger built-in rules. \n",
    "The table is sorted by the rules that triggered the most frequently. During your training job, the {df.index[0]} rule\n",
    "was the most frequently triggered. It processed {df.values[0,3]} datapoints and was triggered {df.values[0,2]} times.\"\"\"))\n",
    "\n",
    "with pd.option_context('display.colheader_justify','left'):    \n",
    "    pretty_print(df)"
   ]
  },
  {
   "cell_type": "code",
   "execution_count": 20,
   "metadata": {
    "execution": {
     "iopub.execute_input": "2023-10-20T21:01:43.257303Z",
     "iopub.status.busy": "2023-10-20T21:01:43.256614Z",
     "iopub.status.idle": "2023-10-20T21:01:43.259431Z",
     "shell.execute_reply": "2023-10-20T21:01:43.259827Z"
    },
    "papermill": {
     "duration": 0.033064,
     "end_time": "2023-10-20T21:01:43.259961",
     "exception": false,
     "start_time": "2023-10-20T21:01:43.226897",
     "status": "completed"
    },
    "tags": [
     "hide-input"
    ]
   },
   "outputs": [
    {
     "data": {
      "text/markdown": [
       "## Analyzing the training loop\n",
       "\n"
      ],
      "text/plain": [
       "<IPython.core.display.Markdown object>"
      ]
     },
     "metadata": {},
     "output_type": "display_data"
    }
   ],
   "source": [
    "analyse_phase = \"training\"\n",
    "if job_statistics and \"initialization_in_seconds\" in job_statistics:\n",
    "    if job_statistics[\"initialization_in_seconds\"] > job_statistics[\"training_loop_duration_in_seconds\"]:\n",
    "        analyse_phase = \"initialization\"\n",
    "        time = job_statistics[\"initialization_in_seconds\"]\n",
    "        perc = job_statistics[\"initialization_%\"]\n",
    "        display(Markdown(f\"\"\"The initialization phase took {int(time)} seconds, which is {int(perc)}%*\n",
    "        of the total training time. Since the training loop has taken the most time, \n",
    "        we dive deep into the events occurring during this phase\"\"\"))\n",
    "        display(Markdown(\"\"\"## Analyzing initialization\\n\\n\"\"\"))\n",
    "    time = job_statistics[\"training_loop_duration_in_seconds\"]\n",
    "    perc = job_statistics[\"training_loop_%\"]\n",
    "    display(Markdown(f\"\"\"The training loop lasted for {int(time)} seconds which is {int(perc)}% of the training job time.\n",
    "                    Since the training loop has taken the most time, we dive deep into the events occured during this phase.\"\"\"))\n",
    "if analyse_phase == 'training':\n",
    "    display(Markdown(\"\"\"## Analyzing the training loop\\n\\n\"\"\"))"
   ]
  },
  {
   "cell_type": "code",
   "execution_count": 21,
   "metadata": {
    "execution": {
     "iopub.execute_input": "2023-10-20T21:01:43.313019Z",
     "iopub.status.busy": "2023-10-20T21:01:43.312504Z",
     "iopub.status.idle": "2023-10-20T21:01:43.314669Z",
     "shell.execute_reply": "2023-10-20T21:01:43.314173Z"
    },
    "papermill": {
     "duration": 0.030203,
     "end_time": "2023-10-20T21:01:43.314769",
     "exception": false,
     "start_time": "2023-10-20T21:01:43.284566",
     "status": "completed"
    },
    "tags": [
     "hide-input"
    ]
   },
   "outputs": [],
   "source": [
    "if analyse_phase == \"initialization\":\n",
    "    display(Markdown(\"\"\"### MaxInitializationTime\\n\\nThis rule helps to detect if the training initialization is taking too much time. \\nThe rule waits until first step is available. The rule takes the parameter `threshold` that defines how many minutes to wait for the first step to become available. Default is 20 minutes.\\nYou can run the rule locally in the following way:\n",
    "    \"\"\"))\n",
    "    \n",
    "    _ = load_report(\"MaxInitializationTime\")"
   ]
  },
  {
   "cell_type": "code",
   "execution_count": 22,
   "metadata": {
    "execution": {
     "iopub.execute_input": "2023-10-20T21:01:43.391142Z",
     "iopub.status.busy": "2023-10-20T21:01:43.383470Z",
     "iopub.status.idle": "2023-10-20T21:01:43.408535Z",
     "shell.execute_reply": "2023-10-20T21:01:43.408023Z"
    },
    "papermill": {
     "duration": 0.068399,
     "end_time": "2023-10-20T21:01:43.408637",
     "exception": false,
     "start_time": "2023-10-20T21:01:43.340238",
     "status": "completed"
    },
    "tags": [
     "hide-input"
    ]
   },
   "outputs": [
    {
     "data": {
      "text/markdown": [
       "### Step duration analysis"
      ],
      "text/plain": [
       "<IPython.core.display.Markdown object>"
      ]
     },
     "metadata": {},
     "output_type": "display_data"
    },
    {
     "data": {
      "text/html": [
       "\n",
       "\n",
       "\n",
       "\n",
       "\n",
       "\n",
       "  <div class=\"bk-root\" id=\"91a88214-3687-493e-8431-e612f5c7a453\" data-root-id=\"1799\"></div>\n"
      ]
     },
     "metadata": {},
     "output_type": "display_data"
    },
    {
     "data": {
      "application/javascript": [
       "(function(root) {\n",
       "  function embed_document(root) {\n",
       "    \n",
       "  var docs_json = {\"3249c0b2-e31f-4083-956e-65ab092c2669\":{\"roots\":{\"references\":[{\"attributes\":{\"children\":[{\"id\":\"1798\"}]},\"id\":\"1799\",\"type\":\"Column\"},{\"attributes\":{\"text\":\"The StepOutlier rule measures step durations and checks for outliers. The rule \\n        returns True if duration is larger than 3 times the standard deviation. The rule \\n        also takes the parameter mode, that specifies whether steps from training or validation phase \\n        should be checked. In your processing job mode was specified as None. \\n        Typically the first step is taking significantly more time and to avoid the \\n        rule triggering immediately, one can use n_outliers to specify the number of outliers to ignore. \\n        n_outliers was set to 10.\\n        The rule analysed 60 datapoints and triggered 0 times.\\n        \",\"width\":900},\"id\":\"1798\",\"type\":\"Paragraph\"}],\"root_ids\":[\"1799\"]},\"title\":\"Bokeh Application\",\"version\":\"2.2.3\"}};\n",
       "  var render_items = [{\"docid\":\"3249c0b2-e31f-4083-956e-65ab092c2669\",\"root_ids\":[\"1799\"],\"roots\":{\"1799\":\"91a88214-3687-493e-8431-e612f5c7a453\"}}];\n",
       "  root.Bokeh.embed.embed_items_notebook(docs_json, render_items);\n",
       "\n",
       "  }\n",
       "  if (root.Bokeh !== undefined) {\n",
       "    embed_document(root);\n",
       "  } else {\n",
       "    var attempts = 0;\n",
       "    var timer = setInterval(function(root) {\n",
       "      if (root.Bokeh !== undefined) {\n",
       "        clearInterval(timer);\n",
       "        embed_document(root);\n",
       "      } else {\n",
       "        attempts++;\n",
       "        if (attempts > 100) {\n",
       "          clearInterval(timer);\n",
       "          console.log(\"Bokeh: ERROR: Unable to run BokehJS code because BokehJS library is missing\");\n",
       "        }\n",
       "      }\n",
       "    }, 10, root)\n",
       "  }\n",
       "})(window);"
      ],
      "application/vnd.bokehjs_exec.v0+json": ""
     },
     "metadata": {
      "application/vnd.bokehjs_exec.v0+json": {
       "id": "1799"
      }
     },
     "output_type": "display_data"
    }
   ],
   "source": [
    "if analyse_phase == \"training\":\n",
    "    display(Markdown(\"\"\"### Step duration analysis\"\"\"))\n",
    "    report = load_report('StepOutlier')\n",
    "    if report:\n",
    "        parameters = report['RuleParameters']\n",
    "        params = report['RuleParameters'].split('\\n')\n",
    "        stddev = params[3].split(':')[1]\n",
    "        mode = params[1].split(':')[1]\n",
    "        n_outlier = params[2].split(':')[1]\n",
    "        triggered = report['RuleTriggered']\n",
    "        datapoints = report['Datapoints']\n",
    "\n",
    "        text = f\"\"\"The StepOutlier rule measures step durations and checks for outliers. The rule \n",
    "        returns True if duration is larger than {stddev} times the standard deviation. The rule \n",
    "        also takes the parameter mode, that specifies whether steps from training or validation phase \n",
    "        should be checked. In your processing job mode was specified as {mode}. \n",
    "        Typically the first step is taking significantly more time and to avoid the \n",
    "        rule triggering immediately, one can use n_outliers to specify the number of outliers to ignore. \n",
    "        n_outliers was set to {n_outlier}.\n",
    "        The rule analysed {datapoints} datapoints and triggered {triggered} times.\n",
    "        \"\"\"\n",
    "\n",
    "        paragraph = Paragraph(text=text, width=900)\n",
    "        show(column(paragraph))\n",
    "\n",
    "        if report and len(report['Details']['step_details']) > 0:\n",
    "            for node_id in report['Details']['step_details']:\n",
    "                tmp = report['RuleParameters'].split('threshold:')\n",
    "                threshold = tmp[1].split('\\n')[0]\n",
    "                n_outliers = report['Details']['step_details'][node_id]['number_of_outliers']\n",
    "                mean = report['Details']['step_details'][node_id]['step_stats']['mean']\n",
    "                stddev = report['Details']['step_details'][node_id]['stddev']\n",
    "                phase = report['Details']['step_details'][node_id]['phase']\n",
    "                display(Markdown(f\"\"\"**Step durations on node {node_id}:**\"\"\"))\n",
    "                display(Markdown(f\"\"\"The following table is a summary of the statistics of step durations measured on node {node_id}.\n",
    "                The rule has analyzed the step duration from {phase} phase.\n",
    "                The average step duration on node {node_id} was {round(mean, 2)}s. \n",
    "                The rule detected {n_outliers} outliers, where step duration was larger than {threshold} times the standard deviation of {stddev}s\n",
    "                                 \\n\"\"\"))\n",
    "                step_stats_df = pd.DataFrame.from_dict(report['Details']['step_details'][node_id]['step_stats'], orient='index').T\n",
    "                step_stats_df.index = ['Step Durations in [s]']\n",
    "                pretty_print(step_stats_df)\n",
    "\n",
    "            display(Markdown(f\"\"\"The following histogram shows the step durations measured on the different nodes. \n",
    "                You can turn on or turn off the visualization of histograms by selecting or unselecting the labels in the legend.\"\"\"))\n",
    "\n",
    "            plot = figure(plot_height=450, \n",
    "                              plot_width=850, \n",
    "                              title=f\"\"\"Step durations\"\"\")  \n",
    "\n",
    "            colors = bokeh.palettes.viridis(len(report['Details']['step_details']))\n",
    "\n",
    "            for index, node_id in enumerate(report['Details']['step_details']):\n",
    "                probs = report['Details']['step_details'][node_id]['probs']\n",
    "                binedges = report['Details']['step_details'][node_id]['binedges']\n",
    "\n",
    "                plot.quad( top=probs,\n",
    "                        bottom=0,\n",
    "                        left=binedges[:-1],\n",
    "                        right=binedges[1:],\n",
    "                        line_color=\"white\",\n",
    "                        fill_color=colors[index],\n",
    "                        fill_alpha=0.7,\n",
    "                        legend=node_id)\n",
    "\n",
    "            plot.add_layout(Legend(), 'right')    \n",
    "            plot.y_range.start = 0\n",
    "            plot.xaxis.axis_label = f\"\"\"Step durations in [s]\"\"\"\n",
    "            plot.yaxis.axis_label = \"Occurrences\"\n",
    "            plot.grid.grid_line_color = \"white\"\n",
    "            plot.legend.click_policy=\"hide\"\n",
    "            plot.legend.location = 'center_right'\n",
    "            show(plot)\n",
    "\n",
    "        if report['RuleTriggered'] > 0:\n",
    "\n",
    "            text=f\"\"\"To get a better understanding of what may have caused those outliers,\n",
    "            we correlate the timestamps of step outliers with other framework metrics that happened at the same time.\n",
    "            The left chart shows how much time was spent in the different framework\n",
    "            metrics aggregated by event phase. The chart on the right shows the histogram of normal step durations (without\n",
    "            outliers). The following chart shows how much time was spent in the different \n",
    "            framework metrics when step outliers occurred. In this chart framework metrics are not aggregated byphase.\"\"\"\n",
    "            plots = []\n",
    "            if 'phase' in report['Details']:\n",
    "                text = f\"\"\"{text} The chart (in the middle) shows whether step outliers mainly happened during TRAIN or EVAL phase.\n",
    "                \"\"\"\n",
    "\n",
    "                plot = create_piechart(report['Details']['phase'], \n",
    "                                    height=350,\n",
    "                                    width=600,\n",
    "                                    x1=0.2,\n",
    "                                    x2=0.6,\n",
    "                                    radius=0.3, \n",
    "                                    title=\"The ratio between the time spent on the TRAIN/EVAL phase\")\n",
    "                plots.append(plot)\n",
    "\n",
    "            if 'forward_backward' in report['Details'] and  len(report['Details']['forward_backward']) > 0:\n",
    "\n",
    "                event = max(report['Details']['forward_backward'], key=report['Details']['forward_backward'].get)\n",
    "                perc = report['Details']['forward_backward'][event]\n",
    "\n",
    "                text = f\"\"\"{text} The pie chart on the right shows a detailed breakdown. \n",
    "                It shows that {int(perc)}% of the training time was spent on event \"{event}\".\"\"\"\n",
    "\n",
    "                plot = create_piechart(report['Details']['forward_backward'], \n",
    "                                    height=350,\n",
    "                                    width=600,\n",
    "                                    x1=0.2,\n",
    "                                    x2=0.6,\n",
    "                                    radius=0.3, \n",
    "                                    title=\"The Ratio between forward and backward pass\") \n",
    "                plots.append(plot)\n",
    "\n",
    "            if len(plots) > 0:\n",
    "                paragraph = Paragraph(text=text, width=900)\n",
    "                show(column(paragraph, row(plots)))\n",
    "\n",
    "            plots = []\n",
    "            text = \"\"\n",
    "            if 'ratio' in report['Details'] and len(report['Details']['ratio']) > 0:\n",
    "\n",
    "                key = list(report['Details']['ratio'].keys())[0]\n",
    "                ratio = report['Details']['ratio'][key]\n",
    "\n",
    "                text = f\"\"\"The following pie chart shows a breakdown of the CPU/GPU operators executed during the step outliers. \n",
    "                    It shows that {int(ratio)}% of the training time was spent on executing operators in \"{key}\".\"\"\"\n",
    "\n",
    "                plot = create_piechart(report['Details']['ratio'], \n",
    "                                        height=350,\n",
    "                                        width=600,\n",
    "                                        x1=0.2,\n",
    "                                        x2=0.6,\n",
    "                                        radius=0.3, \n",
    "                                        title=\"The ratio between CPU/GPU operators\")\n",
    "                plots.append(plot)\n",
    "\n",
    "\n",
    "            if 'general' in report['Details'] and len(report['Details']['general']) > 0:\n",
    "\n",
    "                event = max(report['Details']['general'], key=report['Details']['general'].get)\n",
    "                perc = report['Details']['general'][event]\n",
    "\n",
    "                plot = create_piechart(report['Details']['general'], \n",
    "                                    height=350,\n",
    "                                    width=600,\n",
    "                                    x1=0.2,\n",
    "                                    x2=0.6,\n",
    "                                    radius=0.3, \n",
    "                                    title=\"General metrics recorded in framework \")\n",
    "                plots.append(plot)\n",
    "\n",
    "            if len(plots) > 0:\n",
    "                paragraph = Paragraph(text=text, width=900)\n",
    "                show(column(paragraph, row(plots)))\n",
    "\n",
    "            plots = []\n",
    "            text = \"\"\n",
    "            if 'horovod' in report['Details'] and len(report['Details']['horovod']) > 0:\n",
    "\n",
    "                event = max(report['Details']['horovod'], key=report['Details']['horovod'].get)\n",
    "                perc = report['Details']['horovod'][event]\n",
    "                text = f\"\"\"The following pie chart shows a detailed breakdown of the Horovod metrics that have been\n",
    "                recorded when step outliers happened. The most expensive function was {event} with {int(perc)}%\"\"\"\n",
    "\n",
    "                plot = create_piechart(report['Details']['horovod'], \n",
    "                                    height=350,\n",
    "                                    width=600,\n",
    "                                    x1=0.2,\n",
    "                                    x2=0.6,\n",
    "                                    radius=0.3, \n",
    "                                    title=\"General metrics recorded in framework \")\n",
    "\n",
    "                paragraph = Paragraph(text=text, width=900)\n",
    "                show(column(paragraph, row(plot)))      "
   ]
  },
  {
   "cell_type": "code",
   "execution_count": 23,
   "metadata": {
    "execution": {
     "iopub.execute_input": "2023-10-20T21:01:43.478998Z",
     "iopub.status.busy": "2023-10-20T21:01:43.474568Z",
     "iopub.status.idle": "2023-10-20T21:01:43.573747Z",
     "shell.execute_reply": "2023-10-20T21:01:43.574142Z"
    },
    "papermill": {
     "duration": 0.139145,
     "end_time": "2023-10-20T21:01:43.574259",
     "exception": false,
     "start_time": "2023-10-20T21:01:43.435114",
     "status": "completed"
    },
    "tags": [
     "hide-input"
    ]
   },
   "outputs": [
    {
     "data": {
      "text/markdown": [
       "### GPU utilization analysis\n",
       "\n"
      ],
      "text/plain": [
       "<IPython.core.display.Markdown object>"
      ]
     },
     "metadata": {},
     "output_type": "display_data"
    },
    {
     "data": {
      "text/markdown": [
       "**Usage per GPU** \n",
       "\n"
      ],
      "text/plain": [
       "<IPython.core.display.Markdown object>"
      ]
     },
     "metadata": {},
     "output_type": "display_data"
    },
    {
     "data": {
      "text/html": [
       "\n",
       "\n",
       "\n",
       "\n",
       "\n",
       "\n",
       "  <div class=\"bk-root\" id=\"401d3ed0-e355-4985-a731-e8dfff68af1e\" data-root-id=\"1867\"></div>\n"
      ]
     },
     "metadata": {},
     "output_type": "display_data"
    },
    {
     "data": {
      "application/javascript": [
       "(function(root) {\n",
       "  function embed_document(root) {\n",
       "    \n",
       "  var docs_json = {\"06613c2d-db2b-4791-be6d-5619dfa00aa4\":{\"roots\":{\"references\":[{\"attributes\":{\"text\":\"The LowGPUUtilization rule checks for a low and fluctuating GPU usage. If the GPU usage is \\n        consistently low, it might be caused by bottlenecks or a small batch size. If usage is heavily \\n        fluctuating, it can be due to bottlenecks or blocking calls. The rule computed the 95th and 5th \\n        percentile of GPU utilization on 500 continuous datapoints and found 6 cases where \\n        p95 was above 70% and p5 was below 10%. If p95 is high and p5 is low,\\n        it might indicate that the GPU usage is highly fluctuating. If both values are very low, \\n        it would mean that the machine is underutilized. During initialization, the GPU usage is likely zero, \\n        so the rule skipped the first 1000 data points.\\n        The rule analysed 1718 datapoints and triggered 6 times.\",\"width\":800},\"id\":\"1867\",\"type\":\"Paragraph\"}],\"root_ids\":[\"1867\"]},\"title\":\"Bokeh Application\",\"version\":\"2.2.3\"}};\n",
       "  var render_items = [{\"docid\":\"06613c2d-db2b-4791-be6d-5619dfa00aa4\",\"root_ids\":[\"1867\"],\"roots\":{\"1867\":\"401d3ed0-e355-4985-a731-e8dfff68af1e\"}}];\n",
       "  root.Bokeh.embed.embed_items_notebook(docs_json, render_items);\n",
       "\n",
       "  }\n",
       "  if (root.Bokeh !== undefined) {\n",
       "    embed_document(root);\n",
       "  } else {\n",
       "    var attempts = 0;\n",
       "    var timer = setInterval(function(root) {\n",
       "      if (root.Bokeh !== undefined) {\n",
       "        clearInterval(timer);\n",
       "        embed_document(root);\n",
       "      } else {\n",
       "        attempts++;\n",
       "        if (attempts > 100) {\n",
       "          clearInterval(timer);\n",
       "          console.log(\"Bokeh: ERROR: Unable to run BokehJS code because BokehJS library is missing\");\n",
       "        }\n",
       "      }\n",
       "    }, 10, root)\n",
       "  }\n",
       "})(window);"
      ],
      "application/vnd.bokehjs_exec.v0+json": ""
     },
     "metadata": {
      "application/vnd.bokehjs_exec.v0+json": {
       "id": "1867"
      }
     },
     "output_type": "display_data"
    },
    {
     "data": {
      "text/html": [
       "\n",
       "\n",
       "\n",
       "\n",
       "\n",
       "\n",
       "  <div class=\"bk-root\" id=\"8e8d634b-d20c-44a6-a685-77bb351ba5df\" data-root-id=\"1935\"></div>\n"
      ]
     },
     "metadata": {},
     "output_type": "display_data"
    },
    {
     "data": {
      "application/javascript": [
       "(function(root) {\n",
       "  function embed_document(root) {\n",
       "    \n",
       "  var docs_json = {\"1d0847c2-edce-4f70-b797-3a7596607cfc\":{\"roots\":{\"references\":[{\"attributes\":{\"text\":\"Your training job is underutilizing the instance. You may want to consider\\n            to either switch to a smaller instance type or to increase the batch size. \\n            The last time that the LowGPUUtilization rule was triggered in your training job was on 10/20/2023 at 21:00:00.\\n            The following boxplots are a snapshot from the timestamps. \\n            They show the utilization per GPU (without outliers).\\n            To get a better understanding of the workloads throughout the whole training,\\n            you can check the workload histogram in the next section.\",\"width\":800},\"id\":\"1935\",\"type\":\"Paragraph\"}],\"root_ids\":[\"1935\"]},\"title\":\"Bokeh Application\",\"version\":\"2.2.3\"}};\n",
       "  var render_items = [{\"docid\":\"1d0847c2-edce-4f70-b797-3a7596607cfc\",\"root_ids\":[\"1935\"],\"roots\":{\"1935\":\"8e8d634b-d20c-44a6-a685-77bb351ba5df\"}}];\n",
       "  root.Bokeh.embed.embed_items_notebook(docs_json, render_items);\n",
       "\n",
       "  }\n",
       "  if (root.Bokeh !== undefined) {\n",
       "    embed_document(root);\n",
       "  } else {\n",
       "    var attempts = 0;\n",
       "    var timer = setInterval(function(root) {\n",
       "      if (root.Bokeh !== undefined) {\n",
       "        clearInterval(timer);\n",
       "        embed_document(root);\n",
       "      } else {\n",
       "        attempts++;\n",
       "        if (attempts > 100) {\n",
       "          clearInterval(timer);\n",
       "          console.log(\"Bokeh: ERROR: Unable to run BokehJS code because BokehJS library is missing\");\n",
       "        }\n",
       "      }\n",
       "    }, 10, root)\n",
       "  }\n",
       "})(window);"
      ],
      "application/vnd.bokehjs_exec.v0+json": ""
     },
     "metadata": {
      "application/vnd.bokehjs_exec.v0+json": {
       "id": "1935"
      }
     },
     "output_type": "display_data"
    },
    {
     "data": {
      "text/markdown": [
       "**GPU utilization of gpu0 on node algo-1:**"
      ],
      "text/plain": [
       "<IPython.core.display.Markdown object>"
      ]
     },
     "metadata": {},
     "output_type": "display_data"
    },
    {
     "data": {
      "text/html": [
       "\n",
       "\n",
       "\n",
       "\n",
       "\n",
       "\n",
       "  <div class=\"bk-root\" id=\"8fd4a630-b29f-4800-9093-1929e281d222\" data-root-id=\"2061\"></div>\n"
      ]
     },
     "metadata": {},
     "output_type": "display_data"
    },
    {
     "data": {
      "application/javascript": [
       "(function(root) {\n",
       "  function embed_document(root) {\n",
       "    \n",
       "  var docs_json = {\"2064e7c2-fd33-4278-be76-d361d43634cb\":{\"roots\":{\"references\":[{\"attributes\":{\"text\":\" The max utilization of gpu0 on node algo-1 was 86.0% and the 95th percentile was only 17.0%. \\n                        gpu0 on node algo-1 is underutilized and the 5th percentile was only 0.0%\",\"width\":900},\"id\":\"2061\",\"type\":\"Paragraph\"}],\"root_ids\":[\"2061\"]},\"title\":\"Bokeh Application\",\"version\":\"2.2.3\"}};\n",
       "  var render_items = [{\"docid\":\"2064e7c2-fd33-4278-be76-d361d43634cb\",\"root_ids\":[\"2061\"],\"roots\":{\"2061\":\"8fd4a630-b29f-4800-9093-1929e281d222\"}}];\n",
       "  root.Bokeh.embed.embed_items_notebook(docs_json, render_items);\n",
       "\n",
       "  }\n",
       "  if (root.Bokeh !== undefined) {\n",
       "    embed_document(root);\n",
       "  } else {\n",
       "    var attempts = 0;\n",
       "    var timer = setInterval(function(root) {\n",
       "      if (root.Bokeh !== undefined) {\n",
       "        clearInterval(timer);\n",
       "        embed_document(root);\n",
       "      } else {\n",
       "        attempts++;\n",
       "        if (attempts > 100) {\n",
       "          clearInterval(timer);\n",
       "          console.log(\"Bokeh: ERROR: Unable to run BokehJS code because BokehJS library is missing\");\n",
       "        }\n",
       "      }\n",
       "    }, 10, root)\n",
       "  }\n",
       "})(window);"
      ],
      "application/vnd.bokehjs_exec.v0+json": ""
     },
     "metadata": {
      "application/vnd.bokehjs_exec.v0+json": {
       "id": "2061"
      }
     },
     "output_type": "display_data"
    },
    {
     "data": {
      "text/html": [
       "\n",
       "\n",
       "\n",
       "\n",
       "\n",
       "\n",
       "  <div class=\"bk-root\" id=\"001140e6-32d7-429b-941b-52bd57e589f9\" data-root-id=\"2003\"></div>\n"
      ]
     },
     "metadata": {},
     "output_type": "display_data"
    },
    {
     "data": {
      "application/javascript": [
       "(function(root) {\n",
       "  function embed_document(root) {\n",
       "    \n",
       "  var docs_json = {\"e39a80e8-f6d5-4e10-85a6-6caf6ac2e253\":{\"roots\":{\"references\":[{\"attributes\":{\"below\":[{\"id\":\"2014\"}],\"center\":[{\"id\":\"2017\"},{\"id\":\"2021\"}],\"left\":[{\"id\":\"2018\"}],\"plot_height\":350,\"plot_width\":1000,\"renderers\":[{\"id\":\"2034\"},{\"id\":\"2039\"},{\"id\":\"2044\"},{\"id\":\"2049\"},{\"id\":\"2054\"},{\"id\":\"2059\"}],\"title\":{\"id\":\"2004\"},\"toolbar\":{\"id\":\"2026\"},\"x_range\":{\"id\":\"2006\"},\"x_scale\":{\"id\":\"2010\"},\"y_range\":{\"id\":\"2008\"},\"y_scale\":{\"id\":\"2012\"}},\"id\":\"2003\",\"subtype\":\"Figure\",\"type\":\"Plot\"},{\"attributes\":{\"source\":{\"id\":\"2041\"}},\"id\":\"2045\",\"type\":\"CDSView\"},{\"attributes\":{\"fill_color\":{\"value\":\"#440154\"},\"top\":{\"value\":0.0},\"width\":{\"value\":0.7},\"x\":{\"value\":1}},\"id\":\"2047\",\"type\":\"VBar\"},{\"attributes\":{},\"id\":\"2209\",\"type\":\"UnionRenderers\"},{\"attributes\":{\"fill_alpha\":{\"value\":0.1},\"fill_color\":{\"value\":\"#1f77b4\"},\"height\":{\"units\":\"data\",\"value\":0.01},\"line_alpha\":{\"value\":0.1},\"width\":{\"units\":\"data\",\"value\":0.2},\"x\":{\"value\":1},\"y\":{\"value\":0.0}},\"id\":\"2058\",\"type\":\"Rect\"},{\"attributes\":{},\"id\":\"2207\",\"type\":\"UnionRenderers\"},{\"attributes\":{},\"id\":\"2019\",\"type\":\"BasicTicker\"},{\"attributes\":{},\"id\":\"2208\",\"type\":\"Selection\"},{\"attributes\":{},\"id\":\"2008\",\"type\":\"DataRange1d\"},{\"attributes\":{\"data\":{},\"selected\":{\"id\":\"2208\"},\"selection_policy\":{\"id\":\"2209\"}},\"id\":\"2046\",\"type\":\"ColumnDataSource\"},{\"attributes\":{},\"id\":\"2206\",\"type\":\"Selection\"},{\"attributes\":{\"axis\":{\"id\":\"2014\"},\"grid_line_color\":null,\"grid_line_width\":0,\"ticker\":null},\"id\":\"2017\",\"type\":\"Grid\"},{\"attributes\":{},\"id\":\"2205\",\"type\":\"UnionRenderers\"},{\"attributes\":{},\"id\":\"2212\",\"type\":\"Selection\"},{\"attributes\":{\"source\":{\"id\":\"2046\"}},\"id\":\"2050\",\"type\":\"CDSView\"},{\"attributes\":{\"data_source\":{\"id\":\"2031\"},\"glyph\":{\"id\":\"2032\"},\"hover_glyph\":null,\"muted_glyph\":null,\"nonselection_glyph\":{\"id\":\"2033\"},\"selection_glyph\":null,\"view\":{\"id\":\"2035\"}},\"id\":\"2034\",\"type\":\"GlyphRenderer\"},{\"attributes\":{\"axis\":{\"id\":\"2018\"},\"dimension\":1,\"grid_line_color\":\"white\",\"grid_line_width\":0,\"ticker\":null},\"id\":\"2021\",\"type\":\"Grid\"},{\"attributes\":{\"fill_color\":{\"value\":\"#1f77b4\"},\"height\":{\"units\":\"data\",\"value\":0.01},\"width\":{\"units\":\"data\",\"value\":0.2},\"x\":{\"value\":1},\"y\":{\"value\":0.0}},\"id\":\"2052\",\"type\":\"Rect\"},{\"attributes\":{},\"id\":\"2202\",\"type\":\"Selection\"},{\"attributes\":{\"axis_label\":\"Utilization in %\",\"formatter\":{\"id\":\"2201\"},\"ticker\":{\"id\":\"2019\"}},\"id\":\"2018\",\"type\":\"LinearAxis\"},{\"attributes\":{},\"id\":\"2204\",\"type\":\"Selection\"},{\"attributes\":{\"active_drag\":\"auto\",\"active_inspect\":\"auto\",\"active_multi\":null,\"active_scroll\":\"auto\",\"active_tap\":\"auto\",\"tools\":[{\"id\":\"2022\"},{\"id\":\"2023\"},{\"id\":\"2024\"},{\"id\":\"2025\"}]},\"id\":\"2026\",\"type\":\"Toolbar\"},{\"attributes\":{\"data_source\":{\"id\":\"2046\"},\"glyph\":{\"id\":\"2047\"},\"hover_glyph\":null,\"muted_glyph\":null,\"nonselection_glyph\":{\"id\":\"2048\"},\"selection_glyph\":null,\"view\":{\"id\":\"2050\"}},\"id\":\"2049\",\"type\":\"GlyphRenderer\"},{\"attributes\":{},\"id\":\"2201\",\"type\":\"BasicTickFormatter\"},{\"attributes\":{},\"id\":\"2010\",\"type\":\"LinearScale\"},{\"attributes\":{\"x0\":{\"value\":1},\"x1\":{\"value\":1},\"y0\":{\"value\":0.0},\"y1\":{\"value\":0.0}},\"id\":\"2037\",\"type\":\"Segment\"},{\"attributes\":{},\"id\":\"2203\",\"type\":\"UnionRenderers\"},{\"attributes\":{},\"id\":\"2199\",\"type\":\"BasicTickFormatter\"},{\"attributes\":{\"fill_alpha\":{\"value\":0.1},\"fill_color\":{\"value\":\"#440154\"},\"line_alpha\":{\"value\":0.1},\"top\":{\"value\":0.0},\"width\":{\"value\":0.7},\"x\":{\"value\":1}},\"id\":\"2048\",\"type\":\"VBar\"},{\"attributes\":{\"end\":17},\"id\":\"2006\",\"type\":\"Range1d\"},{\"attributes\":{\"source\":{\"id\":\"2031\"}},\"id\":\"2035\",\"type\":\"CDSView\"},{\"attributes\":{\"line_alpha\":{\"value\":0.1},\"x0\":{\"value\":1},\"x1\":{\"value\":1},\"y0\":{\"value\":0.0},\"y1\":{\"value\":0.0}},\"id\":\"2033\",\"type\":\"Segment\"},{\"attributes\":{\"data\":{},\"selected\":{\"id\":\"2210\"},\"selection_policy\":{\"id\":\"2211\"}},\"id\":\"2051\",\"type\":\"ColumnDataSource\"},{\"attributes\":{\"text\":\"Node algo-1\"},\"id\":\"2004\",\"type\":\"Title\"},{\"attributes\":{\"data\":{},\"selected\":{\"id\":\"2204\"},\"selection_policy\":{\"id\":\"2205\"}},\"id\":\"2036\",\"type\":\"ColumnDataSource\"},{\"attributes\":{\"source\":{\"id\":\"2051\"}},\"id\":\"2055\",\"type\":\"CDSView\"},{\"attributes\":{\"callback\":null},\"id\":\"2022\",\"type\":\"HoverTool\"},{\"attributes\":{\"data_source\":{\"id\":\"2041\"},\"glyph\":{\"id\":\"2042\"},\"hover_glyph\":null,\"muted_glyph\":null,\"nonselection_glyph\":{\"id\":\"2043\"},\"selection_glyph\":null,\"view\":{\"id\":\"2045\"}},\"id\":\"2044\",\"type\":\"GlyphRenderer\"},{\"attributes\":{\"data_source\":{\"id\":\"2051\"},\"glyph\":{\"id\":\"2052\"},\"hover_glyph\":null,\"muted_glyph\":null,\"nonselection_glyph\":{\"id\":\"2053\"},\"selection_glyph\":null,\"view\":{\"id\":\"2055\"}},\"id\":\"2054\",\"type\":\"GlyphRenderer\"},{\"attributes\":{\"source\":{\"id\":\"2036\"}},\"id\":\"2040\",\"type\":\"CDSView\"},{\"attributes\":{},\"id\":\"2023\",\"type\":\"WheelZoomTool\"},{\"attributes\":{\"data_source\":{\"id\":\"2036\"},\"glyph\":{\"id\":\"2037\"},\"hover_glyph\":null,\"muted_glyph\":null,\"nonselection_glyph\":{\"id\":\"2038\"},\"selection_glyph\":null,\"view\":{\"id\":\"2040\"}},\"id\":\"2039\",\"type\":\"GlyphRenderer\"},{\"attributes\":{\"x0\":{\"value\":1},\"x1\":{\"value\":1},\"y0\":{\"value\":0.0},\"y1\":{\"value\":0.0}},\"id\":\"2032\",\"type\":\"Segment\"},{\"attributes\":{\"data\":{},\"selected\":{\"id\":\"2202\"},\"selection_policy\":{\"id\":\"2203\"}},\"id\":\"2031\",\"type\":\"ColumnDataSource\"},{\"attributes\":{},\"id\":\"2024\",\"type\":\"ResetTool\"},{\"attributes\":{},\"id\":\"2012\",\"type\":\"LinearScale\"},{\"attributes\":{},\"id\":\"2025\",\"type\":\"PanTool\"},{\"attributes\":{\"fill_color\":{\"value\":\"#FDE725\"},\"top\":{\"value\":0.0},\"width\":{\"value\":0.7},\"x\":{\"value\":1}},\"id\":\"2042\",\"type\":\"VBar\"},{\"attributes\":{\"fill_alpha\":{\"value\":0.1},\"fill_color\":{\"value\":\"#1f77b4\"},\"height\":{\"units\":\"data\",\"value\":0.01},\"line_alpha\":{\"value\":0.1},\"width\":{\"units\":\"data\",\"value\":0.2},\"x\":{\"value\":1},\"y\":{\"value\":0.0}},\"id\":\"2053\",\"type\":\"Rect\"},{\"attributes\":{\"line_alpha\":{\"value\":0.1},\"x0\":{\"value\":1},\"x1\":{\"value\":1},\"y0\":{\"value\":0.0},\"y1\":{\"value\":0.0}},\"id\":\"2038\",\"type\":\"Segment\"},{\"attributes\":{\"formatter\":{\"id\":\"2199\"},\"major_label_overrides\":{\"1\":\"gpu0\"},\"major_label_text_font_size\":\"10px\",\"ticker\":{\"id\":\"2129\"}},\"id\":\"2014\",\"type\":\"LinearAxis\"},{\"attributes\":{\"fill_color\":{\"value\":\"#1f77b4\"},\"height\":{\"units\":\"data\",\"value\":0.01},\"width\":{\"units\":\"data\",\"value\":0.2},\"x\":{\"value\":1},\"y\":{\"value\":0.0}},\"id\":\"2057\",\"type\":\"Rect\"},{\"attributes\":{\"data\":{},\"selected\":{\"id\":\"2206\"},\"selection_policy\":{\"id\":\"2207\"}},\"id\":\"2041\",\"type\":\"ColumnDataSource\"},{\"attributes\":{\"data\":{},\"selected\":{\"id\":\"2212\"},\"selection_policy\":{\"id\":\"2213\"}},\"id\":\"2056\",\"type\":\"ColumnDataSource\"},{\"attributes\":{},\"id\":\"2210\",\"type\":\"Selection\"},{\"attributes\":{},\"id\":\"2213\",\"type\":\"UnionRenderers\"},{\"attributes\":{\"fill_alpha\":{\"value\":0.1},\"fill_color\":{\"value\":\"#FDE725\"},\"line_alpha\":{\"value\":0.1},\"top\":{\"value\":0.0},\"width\":{\"value\":0.7},\"x\":{\"value\":1}},\"id\":\"2043\",\"type\":\"VBar\"},{\"attributes\":{\"source\":{\"id\":\"2056\"}},\"id\":\"2060\",\"type\":\"CDSView\"},{\"attributes\":{\"ticks\":[0,1]},\"id\":\"2129\",\"type\":\"FixedTicker\"},{\"attributes\":{\"data_source\":{\"id\":\"2056\"},\"glyph\":{\"id\":\"2057\"},\"hover_glyph\":null,\"muted_glyph\":null,\"nonselection_glyph\":{\"id\":\"2058\"},\"selection_glyph\":null,\"view\":{\"id\":\"2060\"}},\"id\":\"2059\",\"type\":\"GlyphRenderer\"},{\"attributes\":{},\"id\":\"2211\",\"type\":\"UnionRenderers\"}],\"root_ids\":[\"2003\"]},\"title\":\"Bokeh Application\",\"version\":\"2.2.3\"}};\n",
       "  var render_items = [{\"docid\":\"e39a80e8-f6d5-4e10-85a6-6caf6ac2e253\",\"root_ids\":[\"2003\"],\"roots\":{\"2003\":\"001140e6-32d7-429b-941b-52bd57e589f9\"}}];\n",
       "  root.Bokeh.embed.embed_items_notebook(docs_json, render_items);\n",
       "\n",
       "  }\n",
       "  if (root.Bokeh !== undefined) {\n",
       "    embed_document(root);\n",
       "  } else {\n",
       "    var attempts = 0;\n",
       "    var timer = setInterval(function(root) {\n",
       "      if (root.Bokeh !== undefined) {\n",
       "        clearInterval(timer);\n",
       "        embed_document(root);\n",
       "      } else {\n",
       "        attempts++;\n",
       "        if (attempts > 100) {\n",
       "          clearInterval(timer);\n",
       "          console.log(\"Bokeh: ERROR: Unable to run BokehJS code because BokehJS library is missing\");\n",
       "        }\n",
       "      }\n",
       "    }, 10, root)\n",
       "  }\n",
       "})(window);"
      ],
      "application/vnd.bokehjs_exec.v0+json": ""
     },
     "metadata": {
      "application/vnd.bokehjs_exec.v0+json": {
       "id": "2003"
      }
     },
     "output_type": "display_data"
    }
   ],
   "source": [
    "if analyse_phase == \"training\":\n",
    "    display(Markdown(\"\"\"### GPU utilization analysis\\n\\n\"\"\"))\n",
    "    display(Markdown(\"\"\"**Usage per GPU** \\n\\n\"\"\"))\n",
    "    report = load_report('LowGPUUtilization')\n",
    "    if report:\n",
    "        params = report['RuleParameters'].split('\\n')\n",
    "        threshold_p95 = params[0].split(':')[1]\n",
    "        threshold_p5 = params[1].split(':')[1]\n",
    "        window = params[2].split(':')[1]\n",
    "        patience = params[3].split(':')[1]\n",
    "        violations = report['Violations']\n",
    "        triggered = report['RuleTriggered']\n",
    "        datapoints = report['Datapoints']\n",
    "        \n",
    "        text=Paragraph(text=f\"\"\"The LowGPUUtilization rule checks for a low and fluctuating GPU usage. If the GPU usage is \n",
    "        consistently low, it might be caused by bottlenecks or a small batch size. If usage is heavily \n",
    "        fluctuating, it can be due to bottlenecks or blocking calls. The rule computed the 95th and 5th \n",
    "        percentile of GPU utilization on {window} continuous datapoints and found {violations} cases where \n",
    "        p95 was above {threshold_p95}% and p5 was below {threshold_p5}%. If p95 is high and p5 is low,\n",
    "        it might indicate that the GPU usage is highly fluctuating. If both values are very low, \n",
    "        it would mean that the machine is underutilized. During initialization, the GPU usage is likely zero, \n",
    "        so the rule skipped the first {patience} data points.\n",
    "        The rule analysed {datapoints} datapoints and triggered {triggered} times.\"\"\", width=800)\n",
    "        show(text)\n",
    "\n",
    "        \n",
    "        if len(report['Details']) > 0:\n",
    "            \n",
    "            timestamp = us_since_epoch_to_human_readable_time(report['Details']['last_timestamp'])\n",
    "            date = datetime.datetime.strptime(timestamp, '%Y-%m-%dT%H:%M:%S:%f')\n",
    "            day = date.date().strftime(\"%m/%d/%Y\")\n",
    "            hour = date.time().strftime(\"%H:%M:%S\")\n",
    "            text = Paragraph(text=f\"\"\"Your training job is underutilizing the instance. You may want to consider\n",
    "            to either switch to a smaller instance type or to increase the batch size. \n",
    "            The last time that the LowGPUUtilization rule was triggered in your training job was on {day} at {hour}.\n",
    "            The following boxplots are a snapshot from the timestamps. \n",
    "            They show the utilization per GPU (without outliers).\n",
    "            To get a better understanding of the workloads throughout the whole training,\n",
    "            you can check the workload histogram in the next section.\"\"\", width=800)\n",
    "            show(text)\n",
    "            \n",
    "            del report['Details']['last_timestamp']\n",
    "            \n",
    "            for node_id in report['Details']:\n",
    "                \n",
    "                plot = figure(plot_height=350, \n",
    "                          plot_width=1000,\n",
    "                          toolbar_location='right',\n",
    "                          tools=\"hover,wheel_zoom,reset,pan\", \n",
    "                          title=f\"Node {node_id}\",\n",
    "                          x_range=(0,17),\n",
    "                          )\n",
    "                \n",
    "                for index, key in enumerate(report['Details'][node_id]):\n",
    "                    display(Markdown(f\"\"\"**GPU utilization of {key} on node {node_id}:**\"\"\"))\n",
    "                    text = \"\"\n",
    "                    gpu_max = report['Details'][node_id][key]['gpu_max']\n",
    "                    p_95 = report['Details'][node_id][key]['gpu_95']\n",
    "                    p_5 = report['Details'][node_id][key]['gpu_5']\n",
    "                    text = f\"\"\"{text} The max utilization of {key} on node {node_id} was {gpu_max}%\"\"\"\n",
    "                    if p_95 < int(threshold_p95): \n",
    "                        text = f\"\"\"{text} and the 95th percentile was only {p_95}%. \n",
    "                        {key} on node {node_id} is underutilized\"\"\"\n",
    "                    if p_5 < int(threshold_p5): \n",
    "                        text = f\"\"\"{text} and the 5th percentile was only {p_5}%\"\"\"\n",
    "                    if p_95 - p_5 > 50:\n",
    "                        text = f\"\"\"{text} The difference between 5th percentile {p_5}% and 95th percentile {p_95}% is quite \n",
    "                        significant, which means that utilization on {key} is fluctuating quite a lot.\\n\"\"\"\n",
    "     \n",
    "                    upper = report['Details'][node_id][key]['upper']\n",
    "                    lower = report['Details'][node_id][key]['lower']\n",
    "                    p75 = report['Details'][node_id][key]['p75']\n",
    "                    p25 = report['Details'][node_id][key]['p25']\n",
    "                    p50 = report['Details'][node_id][key]['p50']\n",
    "\n",
    "                    plot.segment(index+1, upper, index+1, p75, line_color=\"black\")\n",
    "                    plot.segment(index+1, lower, index+1, p25, line_color=\"black\")\n",
    "\n",
    "                    plot.vbar(index+1, 0.7, p50, p75, fill_color=\"#FDE725\", line_color=\"black\")\n",
    "                    plot.vbar(index+1, 0.7, p25, p50, fill_color=\"#440154\", line_color=\"black\")\n",
    "\n",
    "                    plot.rect(index+1, lower, 0.2, 0.01, line_color=\"black\")\n",
    "                    plot.rect(index+1, upper, 0.2, 0.01, line_color=\"black\")\n",
    "\n",
    "                    plot.xaxis.major_label_overrides[index+1] = key\n",
    "                    plot.xgrid.grid_line_color = None\n",
    "                    plot.ygrid.grid_line_color = \"white\"\n",
    "                    plot.grid.grid_line_width = 0\n",
    "\n",
    "                    plot.xaxis.major_label_text_font_size=\"10px\"\n",
    "                    text=Paragraph(text=f\"\"\"{text}\"\"\", width=900)\n",
    "                    show(text)\n",
    "                plot.yaxis.axis_label = \"Utilization in %\"\n",
    "                plot.xaxis.ticker = np.arange(index+2)\n",
    "                \n",
    "                show(plot)"
   ]
  },
  {
   "cell_type": "code",
   "execution_count": 24,
   "metadata": {
    "execution": {
     "iopub.execute_input": "2023-10-20T21:01:43.645533Z",
     "iopub.status.busy": "2023-10-20T21:01:43.644958Z",
     "iopub.status.idle": "2023-10-20T21:01:43.705864Z",
     "shell.execute_reply": "2023-10-20T21:01:43.705430Z"
    },
    "papermill": {
     "duration": 0.102215,
     "end_time": "2023-10-20T21:01:43.705967",
     "exception": false,
     "start_time": "2023-10-20T21:01:43.603752",
     "status": "completed"
    },
    "tags": [
     "hide-input"
    ]
   },
   "outputs": [
    {
     "data": {
      "text/markdown": [
       "**Workload balancing**\n",
       "\n"
      ],
      "text/plain": [
       "<IPython.core.display.Markdown object>"
      ]
     },
     "metadata": {},
     "output_type": "display_data"
    },
    {
     "data": {
      "text/html": [
       "\n",
       "\n",
       "\n",
       "\n",
       "\n",
       "\n",
       "  <div class=\"bk-root\" id=\"776d8804-6b3f-4e83-af38-c86571c08d45\" data-root-id=\"2294\"></div>\n"
      ]
     },
     "metadata": {},
     "output_type": "display_data"
    },
    {
     "data": {
      "application/javascript": [
       "(function(root) {\n",
       "  function embed_document(root) {\n",
       "    \n",
       "  var docs_json = {\"c1e87953-a688-4637-827a-d4235358e664\":{\"roots\":{\"references\":[{\"attributes\":{\"text\":\"The LoadBalancing rule helps to detect issues in workload balancing \\n        between multiple GPUs. \\n        It computes a histogram of GPU utilization values for each GPU and compares then the \\n        similarity between histograms. The rule checked if the distance of histograms is larger than the \\n        threshold of 0.2.\\n        During initialization utilization is likely zero, so the rule skipped the first 1000 data points.\\n        \",\"width\":900},\"id\":\"2294\",\"type\":\"Paragraph\"}],\"root_ids\":[\"2294\"]},\"title\":\"Bokeh Application\",\"version\":\"2.2.3\"}};\n",
       "  var render_items = [{\"docid\":\"c1e87953-a688-4637-827a-d4235358e664\",\"root_ids\":[\"2294\"],\"roots\":{\"2294\":\"776d8804-6b3f-4e83-af38-c86571c08d45\"}}];\n",
       "  root.Bokeh.embed.embed_items_notebook(docs_json, render_items);\n",
       "\n",
       "  }\n",
       "  if (root.Bokeh !== undefined) {\n",
       "    embed_document(root);\n",
       "  } else {\n",
       "    var attempts = 0;\n",
       "    var timer = setInterval(function(root) {\n",
       "      if (root.Bokeh !== undefined) {\n",
       "        clearInterval(timer);\n",
       "        embed_document(root);\n",
       "      } else {\n",
       "        attempts++;\n",
       "        if (attempts > 100) {\n",
       "          clearInterval(timer);\n",
       "          console.log(\"Bokeh: ERROR: Unable to run BokehJS code because BokehJS library is missing\");\n",
       "        }\n",
       "      }\n",
       "    }, 10, root)\n",
       "  }\n",
       "})(window);"
      ],
      "application/vnd.bokehjs_exec.v0+json": ""
     },
     "metadata": {
      "application/vnd.bokehjs_exec.v0+json": {
       "id": "2294"
      }
     },
     "output_type": "display_data"
    },
    {
     "data": {
      "text/html": [
       "\n",
       "\n",
       "\n",
       "\n",
       "\n",
       "\n",
       "  <div class=\"bk-root\" id=\"045e8ba6-6c2b-499b-9a56-9452d7b1013c\" data-root-id=\"2427\"></div>\n"
      ]
     },
     "metadata": {},
     "output_type": "display_data"
    },
    {
     "data": {
      "application/javascript": [
       "(function(root) {\n",
       "  function embed_document(root) {\n",
       "    \n",
       "  var docs_json = {\"40eb05f9-3e6a-4fa8-b9c4-f67aeb3e6e4d\":{\"roots\":{\"references\":[{\"attributes\":{\"children\":[{\"id\":\"2426\"},{\"id\":\"2378\"}]},\"id\":\"2427\",\"type\":\"Column\"},{\"attributes\":{\"axis\":{\"id\":\"2393\"},\"dimension\":1,\"grid_line_color\":\"white\",\"ticker\":null},\"id\":\"2396\",\"type\":\"Grid\"},{\"attributes\":{\"axis_label\":\"Occurrences\",\"formatter\":{\"id\":\"2420\"},\"ticker\":{\"id\":\"2394\"}},\"id\":\"2393\",\"type\":\"LinearAxis\"},{\"attributes\":{\"end\":100,\"start\":-1},\"id\":\"2381\",\"type\":\"Range1d\"},{\"attributes\":{},\"id\":\"2421\",\"type\":\"Selection\"},{\"attributes\":{\"active_drag\":\"auto\",\"active_inspect\":\"auto\",\"active_multi\":null,\"active_scroll\":\"auto\",\"active_tap\":\"auto\",\"tools\":[{\"id\":\"2397\"},{\"id\":\"2398\"},{\"id\":\"2399\"},{\"id\":\"2400\"},{\"id\":\"2401\"},{\"id\":\"2402\"}]},\"id\":\"2404\",\"type\":\"Toolbar\"},{\"attributes\":{\"bottom_units\":\"screen\",\"fill_alpha\":0.5,\"fill_color\":\"lightgrey\",\"left_units\":\"screen\",\"level\":\"overlay\",\"line_alpha\":1.0,\"line_color\":\"black\",\"line_dash\":[4,4],\"line_width\":2,\"right_units\":\"screen\",\"top_units\":\"screen\"},\"id\":\"2403\",\"type\":\"BoxAnnotation\"},{\"attributes\":{\"data\":{\"left\":[0,2,4,6,8,10,12,14,16,18,20,22,24,26,28,30,32,34,36,38,40,42,44,46,48,50,52,54,56,58,60,62,64,66,68,70,72,74,76,78,80,82,84,86,88,90,92,94,96],\"right\":[2,4,6,8,10,12,14,16,18,20,22,24,26,28,30,32,34,36,38,40,42,44,46,48,50,52,54,56,58,60,62,64,66,68,70,72,74,76,78,80,82,84,86,88,90,92,94,96,98],\"top\":[1644,5,6,3,5,11,1,0,11,1,1,1,2,0,1,0,1,0,1,0,1,3,0,0,1,0,1,0,1,0,0,1,1,3,1,3,1,1,0,0,2,2,1,1,0,0,0,0,0]},\"selected\":{\"id\":\"2421\"},\"selection_policy\":{\"id\":\"2422\"}},\"id\":\"2411\",\"type\":\"ColumnDataSource\"},{\"attributes\":{\"bottom\":{\"value\":0},\"fill_alpha\":{\"value\":0.8},\"fill_color\":{\"value\":\"#440154\"},\"left\":{\"field\":\"left\"},\"line_color\":{\"value\":\"white\"},\"right\":{\"field\":\"right\"},\"top\":{\"field\":\"top\"}},\"id\":\"2412\",\"type\":\"Quad\"},{\"attributes\":{},\"id\":\"2397\",\"type\":\"PanTool\"},{\"attributes\":{},\"id\":\"2385\",\"type\":\"LinearScale\"},{\"attributes\":{\"text\":\"The following histogram shows the workload per GPU on node algo-1. \\n                You can enable/disable the visualization of a workload by clicking on the label in the legend.\\n                 Your training job only used one GPU so there is no workload balancing issue.\"},\"id\":\"2426\",\"type\":\"Paragraph\"},{\"attributes\":{},\"id\":\"2418\",\"type\":\"BasicTickFormatter\"},{\"attributes\":{},\"id\":\"2398\",\"type\":\"WheelZoomTool\"},{\"attributes\":{\"text\":\"Workloads on node algo-1\"},\"id\":\"2379\",\"type\":\"Title\"},{\"attributes\":{\"overlay\":{\"id\":\"2403\"}},\"id\":\"2399\",\"type\":\"BoxZoomTool\"},{\"attributes\":{},\"id\":\"2400\",\"type\":\"SaveTool\"},{\"attributes\":{},\"id\":\"2420\",\"type\":\"BasicTickFormatter\"},{\"attributes\":{},\"id\":\"2401\",\"type\":\"ResetTool\"},{\"attributes\":{\"below\":[{\"id\":\"2389\"}],\"center\":[{\"id\":\"2392\"},{\"id\":\"2396\"},{\"id\":\"2424\"}],\"left\":[{\"id\":\"2393\"}],\"plot_height\":450,\"plot_width\":850,\"renderers\":[{\"id\":\"2414\"}],\"title\":{\"id\":\"2379\"},\"toolbar\":{\"id\":\"2404\"},\"x_range\":{\"id\":\"2381\"},\"x_scale\":{\"id\":\"2385\"},\"y_range\":{\"id\":\"2383\"},\"y_scale\":{\"id\":\"2387\"}},\"id\":\"2378\",\"subtype\":\"Figure\",\"type\":\"Plot\"},{\"attributes\":{},\"id\":\"2387\",\"type\":\"LinearScale\"},{\"attributes\":{},\"id\":\"2422\",\"type\":\"UnionRenderers\"},{\"attributes\":{},\"id\":\"2402\",\"type\":\"HelpTool\"},{\"attributes\":{\"axis_label\":\"Utilization\",\"formatter\":{\"id\":\"2418\"},\"ticker\":{\"id\":\"2390\"}},\"id\":\"2389\",\"type\":\"LinearAxis\"},{\"attributes\":{\"bottom\":{\"value\":0},\"fill_alpha\":{\"value\":0.1},\"fill_color\":{\"value\":\"#440154\"},\"left\":{\"field\":\"left\"},\"line_alpha\":{\"value\":0.1},\"line_color\":{\"value\":\"white\"},\"right\":{\"field\":\"right\"},\"top\":{\"field\":\"top\"}},\"id\":\"2413\",\"type\":\"Quad\"},{\"attributes\":{\"click_policy\":\"hide\",\"items\":[{\"id\":\"2425\"}]},\"id\":\"2424\",\"type\":\"Legend\"},{\"attributes\":{\"source\":{\"id\":\"2411\"}},\"id\":\"2415\",\"type\":\"CDSView\"},{\"attributes\":{\"start\":0},\"id\":\"2383\",\"type\":\"DataRange1d\"},{\"attributes\":{},\"id\":\"2394\",\"type\":\"BasicTicker\"},{\"attributes\":{\"data_source\":{\"id\":\"2411\"},\"glyph\":{\"id\":\"2412\"},\"hover_glyph\":null,\"muted_glyph\":null,\"nonselection_glyph\":{\"id\":\"2413\"},\"selection_glyph\":null,\"view\":{\"id\":\"2415\"}},\"id\":\"2414\",\"type\":\"GlyphRenderer\"},{\"attributes\":{\"label\":{\"value\":\"gpu0\"},\"renderers\":[{\"id\":\"2414\"}]},\"id\":\"2425\",\"type\":\"LegendItem\"},{\"attributes\":{},\"id\":\"2390\",\"type\":\"BasicTicker\"},{\"attributes\":{\"axis\":{\"id\":\"2389\"},\"grid_line_color\":\"white\",\"ticker\":null},\"id\":\"2392\",\"type\":\"Grid\"}],\"root_ids\":[\"2427\"]},\"title\":\"Bokeh Application\",\"version\":\"2.2.3\"}};\n",
       "  var render_items = [{\"docid\":\"40eb05f9-3e6a-4fa8-b9c4-f67aeb3e6e4d\",\"root_ids\":[\"2427\"],\"roots\":{\"2427\":\"045e8ba6-6c2b-499b-9a56-9452d7b1013c\"}}];\n",
       "  root.Bokeh.embed.embed_items_notebook(docs_json, render_items);\n",
       "\n",
       "  }\n",
       "  if (root.Bokeh !== undefined) {\n",
       "    embed_document(root);\n",
       "  } else {\n",
       "    var attempts = 0;\n",
       "    var timer = setInterval(function(root) {\n",
       "      if (root.Bokeh !== undefined) {\n",
       "        clearInterval(timer);\n",
       "        embed_document(root);\n",
       "      } else {\n",
       "        attempts++;\n",
       "        if (attempts > 100) {\n",
       "          clearInterval(timer);\n",
       "          console.log(\"Bokeh: ERROR: Unable to run BokehJS code because BokehJS library is missing\");\n",
       "        }\n",
       "      }\n",
       "    }, 10, root)\n",
       "  }\n",
       "})(window);"
      ],
      "application/vnd.bokehjs_exec.v0+json": ""
     },
     "metadata": {
      "application/vnd.bokehjs_exec.v0+json": {
       "id": "2427"
      }
     },
     "output_type": "display_data"
    }
   ],
   "source": [
    " \n",
    "if analyse_phase == \"training\": \n",
    "    display(Markdown(\"\"\"**Workload balancing**\\n\\n\"\"\")) \n",
    "    report = load_report('LoadBalancing')\n",
    "    if report:\n",
    "        params = report['RuleParameters'].split('\\n')\n",
    "        threshold = params[0].split(':')[1]\n",
    "        patience = params[1].split(':')[1]\n",
    "        triggered = report['RuleTriggered']\n",
    "        datapoints = report['Datapoints']\n",
    "    \n",
    "        paragraph = Paragraph(text=f\"\"\"The LoadBalancing rule helps to detect issues in workload balancing \n",
    "        between multiple GPUs. \n",
    "        It computes a histogram of GPU utilization values for each GPU and compares then the \n",
    "        similarity between histograms. The rule checked if the distance of histograms is larger than the \n",
    "        threshold of {threshold}.\n",
    "        During initialization utilization is likely zero, so the rule skipped the first {patience} data points.\n",
    "        \"\"\", width=900)\n",
    "        show(paragraph)\n",
    "        \n",
    "        if len(report['Details']) > 0:\n",
    "            for node_id in report['Details']: \n",
    "                \n",
    "                \n",
    "                text = f\"\"\"The following histogram shows the workload per GPU on node {node_id}. \n",
    "                You can enable/disable the visualization of a workload by clicking on the label in the legend.\n",
    "                \"\"\"\n",
    "                if len(report['Details']) == 1 and len(report['Details'][node_id]['workloads']) == 1:\n",
    "                    text = f\"\"\"{text} Your training job only used one GPU so there is no workload balancing issue.\"\"\"\n",
    "                \n",
    "                plot = figure(plot_height=450, \n",
    "                              plot_width=850, \n",
    "                              x_range=(-1,100),\n",
    "                              title=f\"\"\"Workloads on node {node_id}\"\"\")\n",
    "                \n",
    "                colors = bokeh.palettes.viridis(len(report['Details'][node_id]['workloads']))\n",
    "                \n",
    "                for index, gpu_id2 in enumerate(report['Details'][node_id]['workloads']):\n",
    "                    probs = report['Details'][node_id]['workloads'][gpu_id2]\n",
    "                    plot.quad( top=probs,\n",
    "                                bottom=0,\n",
    "                                left=np.arange(0,98,2),\n",
    "                                right=np.arange(2,100,2),\n",
    "                                line_color=\"white\",\n",
    "                                fill_color=colors[index],\n",
    "                                fill_alpha=0.8,\n",
    "                                legend=gpu_id2 )\n",
    "\n",
    "                    plot.y_range.start = 0\n",
    "                    plot.xaxis.axis_label = f\"\"\"Utilization\"\"\"\n",
    "                    plot.yaxis.axis_label = \"Occurrences\"\n",
    "                    plot.grid.grid_line_color = \"white\"\n",
    "                    plot.legend.click_policy=\"hide\"\n",
    "                \n",
    "                paragraph = Paragraph(text=text)\n",
    "                show(column(paragraph, plot))\n",
    "                \n",
    "                if \"distances\" in report['Details'][node_id]:\n",
    "                    text = f\"\"\"The rule identified workload balancing issues on node {node_id} \n",
    "                    where workloads differed by more than threshold {threshold}. \n",
    "                    \"\"\"\n",
    "                    for index, gpu_id2 in enumerate(report['Details'][node_id]['distances']):\n",
    "                        for gpu_id1 in report['Details'][node_id]['distances'][gpu_id2]:\n",
    "                            distance = round(report['Details'][node_id]['distances'][gpu_id2][gpu_id1], 2)\n",
    "                            text = f\"\"\"{text} The difference of workload between {gpu_id2} and {gpu_id1} is: {distance}.\"\"\"\n",
    "\n",
    "                    paragraph = Paragraph(text=f\"\"\"{text}\"\"\", width=900)\n",
    "                    show(column(paragraph))"
   ]
  },
  {
   "cell_type": "code",
   "execution_count": 25,
   "metadata": {
    "execution": {
     "iopub.execute_input": "2023-10-20T21:01:43.781766Z",
     "iopub.status.busy": "2023-10-20T21:01:43.781231Z",
     "iopub.status.idle": "2023-10-20T21:01:43.862951Z",
     "shell.execute_reply": "2023-10-20T21:01:43.863344Z"
    },
    "papermill": {
     "duration": 0.126602,
     "end_time": "2023-10-20T21:01:43.863462",
     "exception": false,
     "start_time": "2023-10-20T21:01:43.736860",
     "status": "completed"
    },
    "scrolled": true,
    "tags": [
     "hide-input"
    ]
   },
   "outputs": [
    {
     "data": {
      "text/markdown": [
       "### Dataloading analysis\n",
       "\n"
      ],
      "text/plain": [
       "<IPython.core.display.Markdown object>"
      ]
     },
     "metadata": {},
     "output_type": "display_data"
    },
    {
     "data": {
      "text/html": [
       "\n",
       "\n",
       "\n",
       "\n",
       "\n",
       "\n",
       "  <div class=\"bk-root\" id=\"54d7caaf-adea-40d2-834a-8e13302ec551\" data-root-id=\"2559\"></div>\n"
      ]
     },
     "metadata": {},
     "output_type": "display_data"
    },
    {
     "data": {
      "application/javascript": [
       "(function(root) {\n",
       "  function embed_document(root) {\n",
       "    \n",
       "  var docs_json = {\"6bcb23c6-aa16-4390-8f36-2e8ed90d6a4c\":{\"roots\":{\"references\":[{\"attributes\":{\"text\":\"The number of dataloader workers can greatly affect the overall performance \\n        of your training job. The rule analyzed the number of dataloading processes that have been running in \\n        parallel on the training instance and compares it against the total number of cores. \\n        The rule checked if the number of processes is smaller than 70% or larger than \\n        200% the total number of cores. Having too few dataloader workers can slowdown data preprocessing and lead to GPU \\n        underutilization. Having too many dataloader workers may hurt the\\n        overall performance if you are running other compute intensive tasks on the CPU.\\n        The rule analysed 10 datapoints and triggered 0 times.\",\"width\":900},\"id\":\"2559\",\"type\":\"Paragraph\"}],\"root_ids\":[\"2559\"]},\"title\":\"Bokeh Application\",\"version\":\"2.2.3\"}};\n",
       "  var render_items = [{\"docid\":\"6bcb23c6-aa16-4390-8f36-2e8ed90d6a4c\",\"root_ids\":[\"2559\"],\"roots\":{\"2559\":\"54d7caaf-adea-40d2-834a-8e13302ec551\"}}];\n",
       "  root.Bokeh.embed.embed_items_notebook(docs_json, render_items);\n",
       "\n",
       "  }\n",
       "  if (root.Bokeh !== undefined) {\n",
       "    embed_document(root);\n",
       "  } else {\n",
       "    var attempts = 0;\n",
       "    var timer = setInterval(function(root) {\n",
       "      if (root.Bokeh !== undefined) {\n",
       "        clearInterval(timer);\n",
       "        embed_document(root);\n",
       "      } else {\n",
       "        attempts++;\n",
       "        if (attempts > 100) {\n",
       "          clearInterval(timer);\n",
       "          console.log(\"Bokeh: ERROR: Unable to run BokehJS code because BokehJS library is missing\");\n",
       "        }\n",
       "      }\n",
       "    }, 10, root)\n",
       "  }\n",
       "})(window);"
      ],
      "application/vnd.bokehjs_exec.v0+json": ""
     },
     "metadata": {
      "application/vnd.bokehjs_exec.v0+json": {
       "id": "2559"
      }
     },
     "output_type": "display_data"
    },
    {
     "data": {
      "text/html": [
       "\n",
       "\n",
       "\n",
       "\n",
       "\n",
       "\n",
       "  <div class=\"bk-root\" id=\"d49f5d12-ab38-4086-abce-b40c129e7b50\" data-root-id=\"2651\"></div>\n"
      ]
     },
     "metadata": {},
     "output_type": "display_data"
    },
    {
     "data": {
      "application/javascript": [
       "(function(root) {\n",
       "  function embed_document(root) {\n",
       "    \n",
       "  var docs_json = {\"9f6fb9cb-6e0d-48a7-ac53-9168e2139ed8\":{\"roots\":{\"references\":[{\"attributes\":{\"text\":\" Your training instance provided 8 CPU cores, however your training job only \\n                ran on average 1 dataloader workers in parallel. We recommend you to increase the number of\\n                dataloader workers. Using pinned memory also improves performance because it enables fast data transfer to CUDA-enabled GPUs.\\n            The rule detected that your training job was not using pinned memory. \\n            In case of using PyTorch Dataloader, you can enable this by setting pin_memory=True.\",\"width\":900},\"id\":\"2651\",\"type\":\"Paragraph\"}],\"root_ids\":[\"2651\"]},\"title\":\"Bokeh Application\",\"version\":\"2.2.3\"}};\n",
       "  var render_items = [{\"docid\":\"9f6fb9cb-6e0d-48a7-ac53-9168e2139ed8\",\"root_ids\":[\"2651\"],\"roots\":{\"2651\":\"d49f5d12-ab38-4086-abce-b40c129e7b50\"}}];\n",
       "  root.Bokeh.embed.embed_items_notebook(docs_json, render_items);\n",
       "\n",
       "  }\n",
       "  if (root.Bokeh !== undefined) {\n",
       "    embed_document(root);\n",
       "  } else {\n",
       "    var attempts = 0;\n",
       "    var timer = setInterval(function(root) {\n",
       "      if (root.Bokeh !== undefined) {\n",
       "        clearInterval(timer);\n",
       "        embed_document(root);\n",
       "      } else {\n",
       "        attempts++;\n",
       "        if (attempts > 100) {\n",
       "          clearInterval(timer);\n",
       "          console.log(\"Bokeh: ERROR: Unable to run BokehJS code because BokehJS library is missing\");\n",
       "        }\n",
       "      }\n",
       "    }, 10, root)\n",
       "  }\n",
       "})(window);"
      ],
      "application/vnd.bokehjs_exec.v0+json": ""
     },
     "metadata": {
      "application/vnd.bokehjs_exec.v0+json": {
       "id": "2651"
      }
     },
     "output_type": "display_data"
    },
    {
     "data": {
      "text/html": [
       "\n",
       "\n",
       "\n",
       "\n",
       "\n",
       "\n",
       "  <div class=\"bk-root\" id=\"3a866e21-5028-49e5-9698-1c0e4c3ee095\" data-root-id=\"2785\"></div>\n"
      ]
     },
     "metadata": {},
     "output_type": "display_data"
    },
    {
     "data": {
      "application/javascript": [
       "(function(root) {\n",
       "  function embed_document(root) {\n",
       "    \n",
       "  var docs_json = {\"b0c40a45-0db1-487a-b76e-90405072aece\":{\"roots\":{\"references\":[{\"attributes\":{\"children\":[{\"id\":\"2784\"},{\"id\":\"2743\"}]},\"id\":\"2785\",\"type\":\"Column\"},{\"attributes\":{\"axis_label\":\"Occurrences\",\"formatter\":{\"id\":\"2779\"},\"ticker\":{\"id\":\"2757\"}},\"id\":\"2756\",\"type\":\"LinearAxis\"},{\"attributes\":{\"source\":{\"id\":\"2769\"}},\"id\":\"2773\",\"type\":\"CDSView\"},{\"attributes\":{\"axis\":{\"id\":\"2756\"},\"dimension\":1,\"grid_line_color\":\"white\",\"ticker\":null},\"id\":\"2759\",\"type\":\"Grid\"},{\"attributes\":{\"text\":\"\"},\"id\":\"2774\",\"type\":\"Title\"},{\"attributes\":{\"data\":{\"left\":[6.906121,6.9247383199999994,6.94335564,6.96197296,6.9805902799999995,6.9992076,7.01782492,7.0364422399999995,7.05505956,7.07367688,7.0922941999999995,7.11091152,7.12952884,7.14814616,7.16676348,7.1853808,7.20399812,7.22261544,7.24123276,7.25985008,7.2784674,7.29708472,7.31570204,7.33431936,7.35293668,7.371554,7.39017132,7.40878864,7.42740596,7.44602328,7.4646406,7.48325792,7.50187524,7.52049256,7.53910988,7.5577272,7.57634452,7.59496184,7.6135791600000005,7.63219648,7.6508138,7.6694311200000005,7.68804844,7.70666576,7.7252830800000005,7.7439004,7.76251772,7.78113504,7.79975236,7.81836968,7.836987,7.85560432,7.87422164,7.89283896,7.91145628,7.9300736,7.948690920000001,7.96730824,7.98592556,8.00454288,8.0231602,8.04177752,8.06039484,8.07901216,8.09762948,8.1162468,8.13486412,8.15348144,8.17209876,8.19071608,8.2093334,8.22795072,8.24656804,8.26518536,8.28380268,8.30242,8.32103732,8.339654640000001,8.35827196,8.37688928,8.395506600000001,8.41412392,8.43274124,8.451358560000001,8.46997588,8.4885932,8.507210520000001,8.52582784,8.54444516,8.563062480000001,8.5816798,8.60029712,8.618914440000001,8.63753176,8.65614908,8.674766400000001,8.69338372,8.71200104,8.730618360000001,8.74923568],\"right\":[6.9247383199999994,6.94335564,6.96197296,6.9805902799999995,6.9992076,7.01782492,7.0364422399999995,7.05505956,7.07367688,7.0922941999999995,7.11091152,7.12952884,7.14814616,7.16676348,7.1853808,7.20399812,7.22261544,7.24123276,7.25985008,7.2784674,7.29708472,7.31570204,7.33431936,7.35293668,7.371554,7.39017132,7.40878864,7.42740596,7.44602328,7.4646406,7.48325792,7.50187524,7.52049256,7.53910988,7.5577272,7.57634452,7.59496184,7.6135791600000005,7.63219648,7.6508138,7.6694311200000005,7.68804844,7.70666576,7.7252830800000005,7.7439004,7.76251772,7.78113504,7.79975236,7.81836968,7.836987,7.85560432,7.87422164,7.89283896,7.91145628,7.9300736,7.948690920000001,7.96730824,7.98592556,8.00454288,8.0231602,8.04177752,8.06039484,8.07901216,8.09762948,8.1162468,8.13486412,8.15348144,8.17209876,8.19071608,8.2093334,8.22795072,8.24656804,8.26518536,8.28380268,8.30242,8.32103732,8.339654640000001,8.35827196,8.37688928,8.395506600000001,8.41412392,8.43274124,8.451358560000001,8.46997588,8.4885932,8.507210520000001,8.52582784,8.54444516,8.563062480000001,8.5816798,8.60029712,8.618914440000001,8.63753176,8.65614908,8.674766400000001,8.69338372,8.71200104,8.730618360000001,8.74923568,8.767853],\"top\":[1,0,0,0,0,0,0,0,0,0,0,1,0,0,0,0,0,0,0,1,0,0,0,0,0,0,1,0,0,0,0,0,0,0,0,0,1,0,0,0,0,0,0,1,0,1,0,0,0,0,0,0,0,0,0,0,0,0,0,0,0,0,0,0,0,0,0,0,1,0,0,0,0,0,0,0,0,0,0,0,0,0,1,0,0,0,0,0,0,0,0,0,0,0,0,0,0,0,0,1]},\"selected\":{\"id\":\"2780\"},\"selection_policy\":{\"id\":\"2781\"}},\"id\":\"2769\",\"type\":\"ColumnDataSource\"},{\"attributes\":{\"end\":8.767853,\"start\":6.906121},\"id\":\"2744\",\"type\":\"Range1d\"},{\"attributes\":{},\"id\":\"2777\",\"type\":\"BasicTickFormatter\"},{\"attributes\":{},\"id\":\"2761\",\"type\":\"WheelZoomTool\"},{\"attributes\":{},\"id\":\"2762\",\"type\":\"ResetTool\"},{\"attributes\":{},\"id\":\"2780\",\"type\":\"Selection\"},{\"attributes\":{},\"id\":\"2750\",\"type\":\"LinearScale\"},{\"attributes\":{\"axis_label\":\"Dataloading in [s]\",\"formatter\":{\"id\":\"2777\"},\"ticker\":{\"id\":\"2753\"}},\"id\":\"2752\",\"type\":\"LinearAxis\"},{\"attributes\":{},\"id\":\"2763\",\"type\":\"PanTool\"},{\"attributes\":{},\"id\":\"2779\",\"type\":\"BasicTickFormatter\"},{\"attributes\":{},\"id\":\"2781\",\"type\":\"UnionRenderers\"},{\"attributes\":{\"active_drag\":\"auto\",\"active_inspect\":\"auto\",\"active_multi\":null,\"active_scroll\":\"auto\",\"active_tap\":\"auto\",\"tools\":[{\"id\":\"2760\"},{\"id\":\"2761\"},{\"id\":\"2762\"},{\"id\":\"2763\"}]},\"id\":\"2764\",\"type\":\"Toolbar\"},{\"attributes\":{\"bottom\":{\"value\":0},\"fill_alpha\":{\"value\":0.1},\"fill_color\":{\"value\":\"#440154\"},\"left\":{\"field\":\"left\"},\"line_alpha\":{\"value\":0.1},\"line_color\":{\"value\":\"white\"},\"right\":{\"field\":\"right\"},\"top\":{\"field\":\"top\"}},\"id\":\"2771\",\"type\":\"Quad\"},{\"attributes\":{},\"id\":\"2757\",\"type\":\"BasicTicker\"},{\"attributes\":{\"text\":\"The following histogram shows the distribution of dataloading times that have been measured throughout your training job. The median dataloading time was 7.6495s. \\n            The 95th percentile was 8.6213s and the 25th percentile was 7.2942s\",\"width\":900},\"id\":\"2784\",\"type\":\"Paragraph\"},{\"attributes\":{\"callback\":null},\"id\":\"2760\",\"type\":\"HoverTool\"},{\"attributes\":{\"start\":0},\"id\":\"2746\",\"type\":\"DataRange1d\"},{\"attributes\":{},\"id\":\"2748\",\"type\":\"LinearScale\"},{\"attributes\":{\"label\":{\"value\":\"Dataloading events\"},\"renderers\":[{\"id\":\"2772\"}]},\"id\":\"2783\",\"type\":\"LegendItem\"},{\"attributes\":{\"below\":[{\"id\":\"2752\"}],\"center\":[{\"id\":\"2755\"},{\"id\":\"2759\"},{\"id\":\"2782\"}],\"left\":[{\"id\":\"2756\"}],\"plot_height\":450,\"plot_width\":850,\"renderers\":[{\"id\":\"2772\"}],\"title\":{\"id\":\"2774\"},\"toolbar\":{\"id\":\"2764\"},\"x_range\":{\"id\":\"2744\"},\"x_scale\":{\"id\":\"2748\"},\"y_range\":{\"id\":\"2746\"},\"y_scale\":{\"id\":\"2750\"}},\"id\":\"2743\",\"subtype\":\"Figure\",\"type\":\"Plot\"},{\"attributes\":{\"click_policy\":\"hide\",\"items\":[{\"id\":\"2783\"}]},\"id\":\"2782\",\"type\":\"Legend\"},{\"attributes\":{\"data_source\":{\"id\":\"2769\"},\"glyph\":{\"id\":\"2770\"},\"hover_glyph\":null,\"muted_glyph\":null,\"nonselection_glyph\":{\"id\":\"2771\"},\"selection_glyph\":null,\"view\":{\"id\":\"2773\"}},\"id\":\"2772\",\"type\":\"GlyphRenderer\"},{\"attributes\":{\"bottom\":{\"value\":0},\"fill_alpha\":{\"value\":0.8},\"fill_color\":{\"value\":\"#440154\"},\"left\":{\"field\":\"left\"},\"line_color\":{\"value\":\"white\"},\"right\":{\"field\":\"right\"},\"top\":{\"field\":\"top\"}},\"id\":\"2770\",\"type\":\"Quad\"},{\"attributes\":{},\"id\":\"2753\",\"type\":\"BasicTicker\"},{\"attributes\":{\"axis\":{\"id\":\"2752\"},\"grid_line_color\":\"white\",\"ticker\":null},\"id\":\"2755\",\"type\":\"Grid\"}],\"root_ids\":[\"2785\"]},\"title\":\"Bokeh Application\",\"version\":\"2.2.3\"}};\n",
       "  var render_items = [{\"docid\":\"b0c40a45-0db1-487a-b76e-90405072aece\",\"root_ids\":[\"2785\"],\"roots\":{\"2785\":\"3a866e21-5028-49e5-9698-1c0e4c3ee095\"}}];\n",
       "  root.Bokeh.embed.embed_items_notebook(docs_json, render_items);\n",
       "\n",
       "  }\n",
       "  if (root.Bokeh !== undefined) {\n",
       "    embed_document(root);\n",
       "  } else {\n",
       "    var attempts = 0;\n",
       "    var timer = setInterval(function(root) {\n",
       "      if (root.Bokeh !== undefined) {\n",
       "        clearInterval(timer);\n",
       "        embed_document(root);\n",
       "      } else {\n",
       "        attempts++;\n",
       "        if (attempts > 100) {\n",
       "          clearInterval(timer);\n",
       "          console.log(\"Bokeh: ERROR: Unable to run BokehJS code because BokehJS library is missing\");\n",
       "        }\n",
       "      }\n",
       "    }, 10, root)\n",
       "  }\n",
       "})(window);"
      ],
      "application/vnd.bokehjs_exec.v0+json": ""
     },
     "metadata": {
      "application/vnd.bokehjs_exec.v0+json": {
       "id": "2785"
      }
     },
     "output_type": "display_data"
    }
   ],
   "source": [
    "if analyse_phase == \"training\":\n",
    "    display(Markdown(\"\"\"### Dataloading analysis\\n\\n\"\"\"))\n",
    "    report = load_report('Dataloader')\n",
    "    if report:\n",
    "        params = report['RuleParameters'].split(\"\\n\")\n",
    "        min_threshold = params[0].split(':')[1]\n",
    "        max_threshold = params[1].split(':')[1]\n",
    "        triggered = report['RuleTriggered']\n",
    "        datapoints = report['Datapoints']\n",
    "    \n",
    "        text=f\"\"\"The number of dataloader workers can greatly affect the overall performance \n",
    "        of your training job. The rule analyzed the number of dataloading processes that have been running in \n",
    "        parallel on the training instance and compares it against the total number of cores. \n",
    "        The rule checked if the number of processes is smaller than {min_threshold}% or larger than \n",
    "        {max_threshold}% the total number of cores. Having too few dataloader workers can slowdown data preprocessing and lead to GPU \n",
    "        underutilization. Having too many dataloader workers may hurt the\n",
    "        overall performance if you are running other compute intensive tasks on the CPU.\n",
    "        The rule analysed {datapoints} datapoints and triggered {triggered} times.\"\"\"\n",
    "        \n",
    "        paragraph = Paragraph(text=f\"{text}\", width=900)\n",
    "        show(paragraph)\n",
    "        text = \"\"\n",
    "        if 'cores' in report['Details']:\n",
    "            cores = int(report['Details']['cores'])\n",
    "            dataloaders = report['Details']['dataloaders']\n",
    "            if dataloaders < cores: \n",
    "                text=f\"\"\"{text} Your training instance provided {cores} CPU cores, however your training job only \n",
    "                ran on average {dataloaders} dataloader workers in parallel. We recommend you to increase the number of\n",
    "                dataloader workers.\"\"\"\n",
    "            if dataloaders > cores:\n",
    "                text=f\"\"\"{text} Your training instance provided {cores} CPU cores, however your training job ran \n",
    "                on average {dataloaders} dataloader workers. We recommed you to decrease the number of dataloader\n",
    "                workers.\"\"\"\n",
    "        if 'pin_memory' in report['Details'] and report['Details']['pin_memory'] == False:\n",
    "            text=f\"\"\"{text} Using pinned memory also improves performance because it enables fast data transfer to CUDA-enabled GPUs.\n",
    "            The rule detected that your training job was not using pinned memory. \n",
    "            In case of using PyTorch Dataloader, you can enable this by setting pin_memory=True.\"\"\"\n",
    "            \n",
    "        if 'prefetch' in report['Details'] and report['Details']['prefetch'] == False:\n",
    "            text=f\"\"\"{text} It appears that your training job did not perform any data pre-fetching. Pre-fetching can improve your\n",
    "            data input pipeline as it produces the data ahead of time.\"\"\"\n",
    "        paragraph = Paragraph(text=f\"{text}\", width=900)\n",
    "        show(paragraph)\n",
    "        \n",
    "        colors=bokeh.palettes.viridis(10)\n",
    "        if \"dataloading_time\" in report['Details']:\n",
    "            median = round(report['Details'][\"dataloading_time\"]['p50'],4)\n",
    "            p95 = round(report['Details'][\"dataloading_time\"]['p95'],4)\n",
    "            p25 = round(report['Details'][\"dataloading_time\"]['p25'],4)\n",
    "            binedges = report['Details'][\"dataloading_time\"]['binedges']\n",
    "            probs = report['Details'][\"dataloading_time\"]['probs']\n",
    "            text=f\"\"\"The following histogram shows the distribution of dataloading times that have been measured throughout your training job. The median dataloading time was {median}s. \n",
    "            The 95th percentile was {p95}s and the 25th percentile was {p25}s\"\"\"\n",
    "\n",
    "            plot = figure(plot_height=450, \n",
    "                              plot_width=850,\n",
    "                              toolbar_location='right',\n",
    "                              tools=\"hover,wheel_zoom,reset,pan\",\n",
    "                              x_range=(binedges[0], binedges[-1])\n",
    "                              )\n",
    "            \n",
    "            plot.quad( top=probs,\n",
    "                        bottom=0,\n",
    "                        left=binedges[:-1],\n",
    "                        right=binedges[1:],\n",
    "                        line_color=\"white\",\n",
    "                        fill_color=colors[0],\n",
    "                        fill_alpha=0.8,\n",
    "                        legend=\"Dataloading events\" )\n",
    "\n",
    "            plot.y_range.start = 0\n",
    "            plot.xaxis.axis_label = f\"\"\"Dataloading in [s]\"\"\"\n",
    "            plot.yaxis.axis_label = \"Occurrences\"\n",
    "            plot.grid.grid_line_color = \"white\"\n",
    "            plot.legend.click_policy=\"hide\"\n",
    "\n",
    "            paragraph = Paragraph(text=f\"{text}\", width=900)\n",
    "            show(column(paragraph, plot))"
   ]
  },
  {
   "cell_type": "code",
   "execution_count": 26,
   "metadata": {
    "execution": {
     "iopub.execute_input": "2023-10-20T21:01:43.944349Z",
     "iopub.status.busy": "2023-10-20T21:01:43.943773Z",
     "iopub.status.idle": "2023-10-20T21:01:44.097926Z",
     "shell.execute_reply": "2023-10-20T21:01:44.098320Z"
    },
    "papermill": {
     "duration": 0.201798,
     "end_time": "2023-10-20T21:01:44.098443",
     "exception": false,
     "start_time": "2023-10-20T21:01:43.896645",
     "status": "completed"
    },
    "tags": [
     "hide-input"
    ]
   },
   "outputs": [
    {
     "data": {
      "text/markdown": [
       " ### Batch size"
      ],
      "text/plain": [
       "<IPython.core.display.Markdown object>"
      ]
     },
     "metadata": {},
     "output_type": "display_data"
    },
    {
     "data": {
      "text/html": [
       "\n",
       "\n",
       "\n",
       "\n",
       "\n",
       "\n",
       "  <div class=\"bk-root\" id=\"52810a9e-6564-4067-a0b0-95e89f31fd5f\" data-root-id=\"2925\"></div>\n"
      ]
     },
     "metadata": {},
     "output_type": "display_data"
    },
    {
     "data": {
      "application/javascript": [
       "(function(root) {\n",
       "  function embed_document(root) {\n",
       "    \n",
       "  var docs_json = {\"7f8e6ba5-ff61-414d-8e4b-193b53f58007\":{\"roots\":{\"references\":[{\"attributes\":{\"text\":\"The BatchSize rule helps to detect if GPU is underutilized because of the batch size being \\n        too small. To detect this the rule analyzes the GPU memory footprint, CPU and GPU utilization. The rule checked if the 95th percentile of CPU utilization is below cpu_threshold_p95 of \\n        70%, the 95th percentile of GPU utilization is below gpu_threshold_p95 of 70% and the 95th percentile of memory footprint         below gpu_memory_threshold_p95 of 70%. In your training job this happened 6 times.         The rule skipped the first 1000 datapoints. The rule computed the percentiles over window size of 500 continuous datapoints.\\n\\n        The rule analysed 1717 datapoints and triggered 6 times.\\n        \",\"width\":800},\"id\":\"2925\",\"type\":\"Paragraph\"}],\"root_ids\":[\"2925\"]},\"title\":\"Bokeh Application\",\"version\":\"2.2.3\"}};\n",
       "  var render_items = [{\"docid\":\"7f8e6ba5-ff61-414d-8e4b-193b53f58007\",\"root_ids\":[\"2925\"],\"roots\":{\"2925\":\"52810a9e-6564-4067-a0b0-95e89f31fd5f\"}}];\n",
       "  root.Bokeh.embed.embed_items_notebook(docs_json, render_items);\n",
       "\n",
       "  }\n",
       "  if (root.Bokeh !== undefined) {\n",
       "    embed_document(root);\n",
       "  } else {\n",
       "    var attempts = 0;\n",
       "    var timer = setInterval(function(root) {\n",
       "      if (root.Bokeh !== undefined) {\n",
       "        clearInterval(timer);\n",
       "        embed_document(root);\n",
       "      } else {\n",
       "        attempts++;\n",
       "        if (attempts > 100) {\n",
       "          clearInterval(timer);\n",
       "          console.log(\"Bokeh: ERROR: Unable to run BokehJS code because BokehJS library is missing\");\n",
       "        }\n",
       "      }\n",
       "    }, 10, root)\n",
       "  }\n",
       "})(window);"
      ],
      "application/vnd.bokehjs_exec.v0+json": ""
     },
     "metadata": {
      "application/vnd.bokehjs_exec.v0+json": {
       "id": "2925"
      }
     },
     "output_type": "display_data"
    },
    {
     "data": {
      "text/html": [
       "\n",
       "\n",
       "\n",
       "\n",
       "\n",
       "\n",
       "  <div class=\"bk-root\" id=\"a19229e9-9c70-4e8e-89be-e7d6d29bd187\" data-root-id=\"3025\"></div>\n"
      ]
     },
     "metadata": {},
     "output_type": "display_data"
    },
    {
     "data": {
      "application/javascript": [
       "(function(root) {\n",
       "  function embed_document(root) {\n",
       "    \n",
       "  var docs_json = {\"7ff44b2c-0209-49c8-a980-ff03e2fc13d8\":{\"roots\":{\"references\":[{\"attributes\":{\"text\":\"Your training job is underutilizing the instance. You may want to consider\\n            either switch to a smaller instance type or to increase the batch size. \\n            The last time the BatchSize rule triggered in your training job was on 10/20/2023 at 20:46:00.\\n            The following boxplots are a snapshot from the timestamps. They the total \\n            CPU utilization, the GPU utilization, and the GPU memory usage per GPU (without outliers).\",\"width\":800},\"id\":\"3025\",\"type\":\"Paragraph\"}],\"root_ids\":[\"3025\"]},\"title\":\"Bokeh Application\",\"version\":\"2.2.3\"}};\n",
       "  var render_items = [{\"docid\":\"7ff44b2c-0209-49c8-a980-ff03e2fc13d8\",\"root_ids\":[\"3025\"],\"roots\":{\"3025\":\"a19229e9-9c70-4e8e-89be-e7d6d29bd187\"}}];\n",
       "  root.Bokeh.embed.embed_items_notebook(docs_json, render_items);\n",
       "\n",
       "  }\n",
       "  if (root.Bokeh !== undefined) {\n",
       "    embed_document(root);\n",
       "  } else {\n",
       "    var attempts = 0;\n",
       "    var timer = setInterval(function(root) {\n",
       "      if (root.Bokeh !== undefined) {\n",
       "        clearInterval(timer);\n",
       "        embed_document(root);\n",
       "      } else {\n",
       "        attempts++;\n",
       "        if (attempts > 100) {\n",
       "          clearInterval(timer);\n",
       "          console.log(\"Bokeh: ERROR: Unable to run BokehJS code because BokehJS library is missing\");\n",
       "        }\n",
       "      }\n",
       "    }, 10, root)\n",
       "  }\n",
       "})(window);"
      ],
      "application/vnd.bokehjs_exec.v0+json": ""
     },
     "metadata": {
      "application/vnd.bokehjs_exec.v0+json": {
       "id": "3025"
      }
     },
     "output_type": "display_data"
    },
    {
     "data": {
      "text/html": [
       "\n",
       "\n",
       "\n",
       "\n",
       "\n",
       "\n",
       "  <div class=\"bk-root\" id=\"ab0c1c7f-10d3-4797-9092-35694fccb830\" data-root-id=\"3125\"></div>\n"
      ]
     },
     "metadata": {},
     "output_type": "display_data"
    },
    {
     "data": {
      "application/javascript": [
       "(function(root) {\n",
       "  function embed_document(root) {\n",
       "    \n",
       "  var docs_json = {\"15f6433b-e2bc-432c-a1a9-194daaee1f6d\":{\"roots\":{\"references\":[{\"attributes\":{\"below\":[{\"id\":\"3136\"}],\"center\":[{\"id\":\"3139\"},{\"id\":\"3143\"}],\"left\":[{\"id\":\"3140\"}],\"plot_height\":350,\"plot_width\":1000,\"renderers\":[{\"id\":\"3156\"},{\"id\":\"3161\"},{\"id\":\"3166\"},{\"id\":\"3171\"},{\"id\":\"3176\"},{\"id\":\"3181\"},{\"id\":\"3186\"},{\"id\":\"3191\"},{\"id\":\"3196\"},{\"id\":\"3201\"},{\"id\":\"3206\"},{\"id\":\"3211\"},{\"id\":\"3216\"},{\"id\":\"3221\"},{\"id\":\"3226\"},{\"id\":\"3231\"},{\"id\":\"3236\"},{\"id\":\"3241\"}],\"title\":{\"id\":\"3126\"},\"toolbar\":{\"id\":\"3148\"},\"x_range\":{\"id\":\"3128\"},\"x_scale\":{\"id\":\"3132\"},\"y_range\":{\"id\":\"3130\"},\"y_scale\":{\"id\":\"3134\"}},\"id\":\"3125\",\"subtype\":\"Figure\",\"type\":\"Plot\"},{\"attributes\":{\"line_alpha\":{\"value\":0.1},\"x0\":{\"value\":3},\"x1\":{\"value\":3},\"y0\":{\"value\":0.0},\"y1\":{\"value\":0.0}},\"id\":\"3220\",\"type\":\"Segment\"},{\"attributes\":{},\"id\":\"3345\",\"type\":\"BasicTickFormatter\"},{\"attributes\":{},\"id\":\"3347\",\"type\":\"BasicTickFormatter\"},{\"attributes\":{\"data\":{},\"selected\":{\"id\":\"3362\"},\"selection_policy\":{\"id\":\"3363\"}},\"id\":\"3188\",\"type\":\"ColumnDataSource\"},{\"attributes\":{},\"id\":\"3355\",\"type\":\"UnionRenderers\"},{\"attributes\":{\"data_source\":{\"id\":\"3218\"},\"glyph\":{\"id\":\"3219\"},\"hover_glyph\":null,\"muted_glyph\":null,\"nonselection_glyph\":{\"id\":\"3220\"},\"selection_glyph\":null,\"view\":{\"id\":\"3222\"}},\"id\":\"3221\",\"type\":\"GlyphRenderer\"},{\"attributes\":{\"source\":{\"id\":\"3158\"}},\"id\":\"3162\",\"type\":\"CDSView\"},{\"attributes\":{\"source\":{\"id\":\"3188\"}},\"id\":\"3192\",\"type\":\"CDSView\"},{\"attributes\":{\"data\":{},\"selected\":{\"id\":\"3366\"},\"selection_policy\":{\"id\":\"3367\"}},\"id\":\"3198\",\"type\":\"ColumnDataSource\"},{\"attributes\":{},\"id\":\"3356\",\"type\":\"Selection\"},{\"attributes\":{\"data_source\":{\"id\":\"3153\"},\"glyph\":{\"id\":\"3154\"},\"hover_glyph\":null,\"muted_glyph\":null,\"nonselection_glyph\":{\"id\":\"3155\"},\"selection_glyph\":null,\"view\":{\"id\":\"3157\"}},\"id\":\"3156\",\"type\":\"GlyphRenderer\"},{\"attributes\":{\"data\":{},\"selected\":{\"id\":\"3352\"},\"selection_policy\":{\"id\":\"3353\"}},\"id\":\"3163\",\"type\":\"ColumnDataSource\"},{\"attributes\":{\"x0\":{\"value\":2},\"x1\":{\"value\":2},\"y0\":{\"value\":0.0},\"y1\":{\"value\":0.0}},\"id\":\"3189\",\"type\":\"Segment\"},{\"attributes\":{},\"id\":\"3357\",\"type\":\"UnionRenderers\"},{\"attributes\":{\"data_source\":{\"id\":\"3188\"},\"glyph\":{\"id\":\"3189\"},\"hover_glyph\":null,\"muted_glyph\":null,\"nonselection_glyph\":{\"id\":\"3190\"},\"selection_glyph\":null,\"view\":{\"id\":\"3192\"}},\"id\":\"3191\",\"type\":\"GlyphRenderer\"},{\"attributes\":{\"end\":20},\"id\":\"3128\",\"type\":\"Range1d\"},{\"attributes\":{\"data\":{},\"selected\":{\"id\":\"3350\"},\"selection_policy\":{\"id\":\"3351\"}},\"id\":\"3158\",\"type\":\"ColumnDataSource\"},{\"attributes\":{\"fill_color\":{\"value\":\"#FDE725\"},\"top\":{\"value\":0.0},\"width\":{\"value\":0.7},\"x\":{\"value\":3}},\"id\":\"3224\",\"type\":\"VBar\"},{\"attributes\":{\"x0\":{\"value\":1},\"x1\":{\"value\":1},\"y0\":{\"value\":49.00125},\"y1\":{\"value\":27.72375}},\"id\":\"3154\",\"type\":\"Segment\"},{\"attributes\":{\"source\":{\"id\":\"3218\"}},\"id\":\"3222\",\"type\":\"CDSView\"},{\"attributes\":{},\"id\":\"3358\",\"type\":\"Selection\"},{\"attributes\":{\"data\":{},\"selected\":{\"id\":\"3376\"},\"selection_policy\":{\"id\":\"3377\"}},\"id\":\"3223\",\"type\":\"ColumnDataSource\"},{\"attributes\":{},\"id\":\"3359\",\"type\":\"UnionRenderers\"},{\"attributes\":{\"bottom\":{\"value\":27.72375},\"fill_color\":{\"value\":\"#FDE725\"},\"top\":{\"value\":22.11625},\"width\":{\"value\":0.7},\"x\":{\"value\":1}},\"id\":\"3164\",\"type\":\"VBar\"},{\"attributes\":{\"fill_color\":{\"value\":\"#FDE725\"},\"top\":{\"value\":0.0},\"width\":{\"value\":0.7},\"x\":{\"value\":2}},\"id\":\"3194\",\"type\":\"VBar\"},{\"attributes\":{\"data_source\":{\"id\":\"3158\"},\"glyph\":{\"id\":\"3159\"},\"hover_glyph\":null,\"muted_glyph\":null,\"nonselection_glyph\":{\"id\":\"3160\"},\"selection_glyph\":null,\"view\":{\"id\":\"3162\"}},\"id\":\"3161\",\"type\":\"GlyphRenderer\"},{\"attributes\":{\"line_alpha\":{\"value\":0.1},\"x0\":{\"value\":2},\"x1\":{\"value\":2},\"y0\":{\"value\":0.0},\"y1\":{\"value\":0.0}},\"id\":\"3190\",\"type\":\"Segment\"},{\"attributes\":{\"source\":{\"id\":\"3223\"}},\"id\":\"3227\",\"type\":\"CDSView\"},{\"attributes\":{},\"id\":\"3360\",\"type\":\"Selection\"},{\"attributes\":{\"fill_color\":{\"value\":\"#440154\"},\"top\":{\"value\":0.0},\"width\":{\"value\":0.7},\"x\":{\"value\":3}},\"id\":\"3229\",\"type\":\"VBar\"},{\"attributes\":{\"line_alpha\":{\"value\":0.1},\"x0\":{\"value\":1},\"x1\":{\"value\":1},\"y0\":{\"value\":49.00125},\"y1\":{\"value\":27.72375}},\"id\":\"3155\",\"type\":\"Segment\"},{\"attributes\":{\"line_alpha\":{\"value\":0.1},\"x0\":{\"value\":1},\"x1\":{\"value\":1},\"y0\":{\"value\":0.0},\"y1\":{\"value\":13.53875}},\"id\":\"3160\",\"type\":\"Segment\"},{\"attributes\":{\"data\":{},\"selected\":{\"id\":\"3364\"},\"selection_policy\":{\"id\":\"3365\"}},\"id\":\"3193\",\"type\":\"ColumnDataSource\"},{\"attributes\":{},\"id\":\"3361\",\"type\":\"UnionRenderers\"},{\"attributes\":{\"source\":{\"id\":\"3163\"}},\"id\":\"3167\",\"type\":\"CDSView\"},{\"attributes\":{\"data_source\":{\"id\":\"3223\"},\"glyph\":{\"id\":\"3224\"},\"hover_glyph\":null,\"muted_glyph\":null,\"nonselection_glyph\":{\"id\":\"3225\"},\"selection_glyph\":null,\"view\":{\"id\":\"3227\"}},\"id\":\"3226\",\"type\":\"GlyphRenderer\"},{\"attributes\":{\"x0\":{\"value\":1},\"x1\":{\"value\":1},\"y0\":{\"value\":0.0},\"y1\":{\"value\":13.53875}},\"id\":\"3159\",\"type\":\"Segment\"},{\"attributes\":{\"source\":{\"id\":\"3193\"}},\"id\":\"3197\",\"type\":\"CDSView\"},{\"attributes\":{},\"id\":\"3362\",\"type\":\"Selection\"},{\"attributes\":{\"data_source\":{\"id\":\"3163\"},\"glyph\":{\"id\":\"3164\"},\"hover_glyph\":null,\"muted_glyph\":null,\"nonselection_glyph\":{\"id\":\"3165\"},\"selection_glyph\":null,\"view\":{\"id\":\"3167\"}},\"id\":\"3166\",\"type\":\"GlyphRenderer\"},{\"attributes\":{},\"id\":\"3363\",\"type\":\"UnionRenderers\"},{\"attributes\":{\"fill_alpha\":{\"value\":0.1},\"fill_color\":{\"value\":\"#FDE725\"},\"line_alpha\":{\"value\":0.1},\"top\":{\"value\":0.0},\"width\":{\"value\":0.7},\"x\":{\"value\":3}},\"id\":\"3225\",\"type\":\"VBar\"},{\"attributes\":{\"data_source\":{\"id\":\"3193\"},\"glyph\":{\"id\":\"3194\"},\"hover_glyph\":null,\"muted_glyph\":null,\"nonselection_glyph\":{\"id\":\"3195\"},\"selection_glyph\":null,\"view\":{\"id\":\"3197\"}},\"id\":\"3196\",\"type\":\"GlyphRenderer\"},{\"attributes\":{\"active_drag\":\"auto\",\"active_inspect\":\"auto\",\"active_multi\":null,\"active_scroll\":\"auto\",\"active_tap\":\"auto\",\"tools\":[{\"id\":\"3144\"},{\"id\":\"3145\"},{\"id\":\"3146\"},{\"id\":\"3147\"}]},\"id\":\"3148\",\"type\":\"Toolbar\"},{\"attributes\":{\"data\":{},\"selected\":{\"id\":\"3378\"},\"selection_policy\":{\"id\":\"3379\"}},\"id\":\"3228\",\"type\":\"ColumnDataSource\"},{\"attributes\":{},\"id\":\"3364\",\"type\":\"Selection\"},{\"attributes\":{\"source\":{\"id\":\"3228\"}},\"id\":\"3232\",\"type\":\"CDSView\"},{\"attributes\":{},\"id\":\"3365\",\"type\":\"UnionRenderers\"},{\"attributes\":{\"fill_alpha\":{\"value\":0.1},\"fill_color\":{\"value\":\"#FDE725\"},\"line_alpha\":{\"value\":0.1},\"top\":{\"value\":0.0},\"width\":{\"value\":0.7},\"x\":{\"value\":2}},\"id\":\"3195\",\"type\":\"VBar\"},{\"attributes\":{\"fill_color\":{\"value\":\"#1f77b4\"},\"height\":{\"units\":\"data\",\"value\":0.01},\"width\":{\"units\":\"data\",\"value\":0.2},\"x\":{\"value\":3},\"y\":{\"value\":0.0}},\"id\":\"3234\",\"type\":\"Rect\"},{\"attributes\":{\"source\":{\"id\":\"3198\"}},\"id\":\"3202\",\"type\":\"CDSView\"},{\"attributes\":{\"source\":{\"id\":\"3233\"}},\"id\":\"3237\",\"type\":\"CDSView\"},{\"attributes\":{},\"id\":\"3366\",\"type\":\"Selection\"},{\"attributes\":{\"bottom\":{\"value\":22.11625},\"fill_color\":{\"value\":\"#440154\"},\"top\":{\"value\":13.53875},\"width\":{\"value\":0.7},\"x\":{\"value\":1}},\"id\":\"3169\",\"type\":\"VBar\"},{\"attributes\":{\"data_source\":{\"id\":\"3228\"},\"glyph\":{\"id\":\"3229\"},\"hover_glyph\":null,\"muted_glyph\":null,\"nonselection_glyph\":{\"id\":\"3230\"},\"selection_glyph\":null,\"view\":{\"id\":\"3232\"}},\"id\":\"3231\",\"type\":\"GlyphRenderer\"},{\"attributes\":{\"bottom\":{\"value\":27.72375},\"fill_alpha\":{\"value\":0.1},\"fill_color\":{\"value\":\"#FDE725\"},\"line_alpha\":{\"value\":0.1},\"top\":{\"value\":22.11625},\"width\":{\"value\":0.7},\"x\":{\"value\":1}},\"id\":\"3165\",\"type\":\"VBar\"},{\"attributes\":{\"fill_color\":{\"value\":\"#1f77b4\"},\"height\":{\"units\":\"data\",\"value\":0.01},\"width\":{\"units\":\"data\",\"value\":0.2},\"x\":{\"value\":2},\"y\":{\"value\":0.0}},\"id\":\"3204\",\"type\":\"Rect\"},{\"attributes\":{},\"id\":\"3367\",\"type\":\"UnionRenderers\"},{\"attributes\":{\"source\":{\"id\":\"3203\"}},\"id\":\"3207\",\"type\":\"CDSView\"},{\"attributes\":{\"data\":{},\"selected\":{\"id\":\"3354\"},\"selection_policy\":{\"id\":\"3355\"}},\"id\":\"3168\",\"type\":\"ColumnDataSource\"},{\"attributes\":{},\"id\":\"3368\",\"type\":\"Selection\"},{\"attributes\":{\"data_source\":{\"id\":\"3198\"},\"glyph\":{\"id\":\"3199\"},\"hover_glyph\":null,\"muted_glyph\":null,\"nonselection_glyph\":{\"id\":\"3200\"},\"selection_glyph\":null,\"view\":{\"id\":\"3202\"}},\"id\":\"3201\",\"type\":\"GlyphRenderer\"},{\"attributes\":{\"fill_alpha\":{\"value\":0.1},\"fill_color\":{\"value\":\"#440154\"},\"line_alpha\":{\"value\":0.1},\"top\":{\"value\":0.0},\"width\":{\"value\":0.7},\"x\":{\"value\":3}},\"id\":\"3230\",\"type\":\"VBar\"},{\"attributes\":{\"data\":{},\"selected\":{\"id\":\"3380\"},\"selection_policy\":{\"id\":\"3381\"}},\"id\":\"3233\",\"type\":\"ColumnDataSource\"},{\"attributes\":{},\"id\":\"3369\",\"type\":\"UnionRenderers\"},{\"attributes\":{\"data_source\":{\"id\":\"3168\"},\"glyph\":{\"id\":\"3169\"},\"hover_glyph\":null,\"muted_glyph\":null,\"nonselection_glyph\":{\"id\":\"3170\"},\"selection_glyph\":null,\"view\":{\"id\":\"3172\"}},\"id\":\"3171\",\"type\":\"GlyphRenderer\"},{\"attributes\":{\"fill_alpha\":{\"value\":0.1},\"fill_color\":{\"value\":\"#440154\"},\"line_alpha\":{\"value\":0.1},\"top\":{\"value\":0.0},\"width\":{\"value\":0.7},\"x\":{\"value\":2}},\"id\":\"3200\",\"type\":\"VBar\"},{\"attributes\":{},\"id\":\"3370\",\"type\":\"Selection\"},{\"attributes\":{\"data_source\":{\"id\":\"3233\"},\"glyph\":{\"id\":\"3234\"},\"hover_glyph\":null,\"muted_glyph\":null,\"nonselection_glyph\":{\"id\":\"3235\"},\"selection_glyph\":null,\"view\":{\"id\":\"3237\"}},\"id\":\"3236\",\"type\":\"GlyphRenderer\"},{\"attributes\":{\"data\":{},\"selected\":{\"id\":\"3368\"},\"selection_policy\":{\"id\":\"3369\"}},\"id\":\"3203\",\"type\":\"ColumnDataSource\"},{\"attributes\":{\"fill_color\":{\"value\":\"#1f77b4\"},\"height\":{\"units\":\"data\",\"value\":0.01},\"width\":{\"units\":\"data\",\"value\":0.2},\"x\":{\"value\":1},\"y\":{\"value\":0.0}},\"id\":\"3174\",\"type\":\"Rect\"},{\"attributes\":{\"fill_color\":{\"value\":\"#1f77b4\"},\"height\":{\"units\":\"data\",\"value\":0.01},\"width\":{\"units\":\"data\",\"value\":0.2},\"x\":{\"value\":3},\"y\":{\"value\":0.0}},\"id\":\"3239\",\"type\":\"Rect\"},{\"attributes\":{},\"id\":\"3371\",\"type\":\"UnionRenderers\"},{\"attributes\":{\"source\":{\"id\":\"3168\"}},\"id\":\"3172\",\"type\":\"CDSView\"},{\"attributes\":{\"source\":{\"id\":\"3238\"}},\"id\":\"3242\",\"type\":\"CDSView\"},{\"attributes\":{\"data_source\":{\"id\":\"3203\"},\"glyph\":{\"id\":\"3204\"},\"hover_glyph\":null,\"muted_glyph\":null,\"nonselection_glyph\":{\"id\":\"3205\"},\"selection_glyph\":null,\"view\":{\"id\":\"3207\"}},\"id\":\"3206\",\"type\":\"GlyphRenderer\"},{\"attributes\":{},\"id\":\"3372\",\"type\":\"Selection\"},{\"attributes\":{\"bottom\":{\"value\":22.11625},\"fill_alpha\":{\"value\":0.1},\"fill_color\":{\"value\":\"#440154\"},\"line_alpha\":{\"value\":0.1},\"top\":{\"value\":13.53875},\"width\":{\"value\":0.7},\"x\":{\"value\":1}},\"id\":\"3170\",\"type\":\"VBar\"},{\"attributes\":{\"fill_color\":{\"value\":\"#1f77b4\"},\"height\":{\"units\":\"data\",\"value\":0.01},\"width\":{\"units\":\"data\",\"value\":0.2},\"x\":{\"value\":2},\"y\":{\"value\":0.0}},\"id\":\"3209\",\"type\":\"Rect\"},{\"attributes\":{\"data\":{},\"selected\":{\"id\":\"3356\"},\"selection_policy\":{\"id\":\"3357\"}},\"id\":\"3173\",\"type\":\"ColumnDataSource\"},{\"attributes\":{\"source\":{\"id\":\"3208\"}},\"id\":\"3212\",\"type\":\"CDSView\"},{\"attributes\":{\"fill_alpha\":{\"value\":0.1},\"fill_color\":{\"value\":\"#1f77b4\"},\"height\":{\"units\":\"data\",\"value\":0.01},\"line_alpha\":{\"value\":0.1},\"width\":{\"units\":\"data\",\"value\":0.2},\"x\":{\"value\":3},\"y\":{\"value\":0.0}},\"id\":\"3235\",\"type\":\"Rect\"},{\"attributes\":{},\"id\":\"3373\",\"type\":\"UnionRenderers\"},{\"attributes\":{\"source\":{\"id\":\"3173\"}},\"id\":\"3177\",\"type\":\"CDSView\"},{\"attributes\":{\"data_source\":{\"id\":\"3173\"},\"glyph\":{\"id\":\"3174\"},\"hover_glyph\":null,\"muted_glyph\":null,\"nonselection_glyph\":{\"id\":\"3175\"},\"selection_glyph\":null,\"view\":{\"id\":\"3177\"}},\"id\":\"3176\",\"type\":\"GlyphRenderer\"},{\"attributes\":{\"data\":{},\"selected\":{\"id\":\"3382\"},\"selection_policy\":{\"id\":\"3383\"}},\"id\":\"3238\",\"type\":\"ColumnDataSource\"},{\"attributes\":{},\"id\":\"3374\",\"type\":\"Selection\"},{\"attributes\":{\"fill_alpha\":{\"value\":0.1},\"fill_color\":{\"value\":\"#1f77b4\"},\"height\":{\"units\":\"data\",\"value\":0.01},\"line_alpha\":{\"value\":0.1},\"width\":{\"units\":\"data\",\"value\":0.2},\"x\":{\"value\":2},\"y\":{\"value\":0.0}},\"id\":\"3205\",\"type\":\"Rect\"},{\"attributes\":{},\"id\":\"3375\",\"type\":\"UnionRenderers\"},{\"attributes\":{\"data_source\":{\"id\":\"3238\"},\"glyph\":{\"id\":\"3239\"},\"hover_glyph\":null,\"muted_glyph\":null,\"nonselection_glyph\":{\"id\":\"3240\"},\"selection_glyph\":null,\"view\":{\"id\":\"3242\"}},\"id\":\"3241\",\"type\":\"GlyphRenderer\"},{\"attributes\":{\"fill_alpha\":{\"value\":0.1},\"fill_color\":{\"value\":\"#1f77b4\"},\"height\":{\"units\":\"data\",\"value\":0.01},\"line_alpha\":{\"value\":0.1},\"width\":{\"units\":\"data\",\"value\":0.2},\"x\":{\"value\":1},\"y\":{\"value\":0.0}},\"id\":\"3175\",\"type\":\"Rect\"},{\"attributes\":{\"fill_color\":{\"value\":\"#440154\"},\"top\":{\"value\":0.0},\"width\":{\"value\":0.7},\"x\":{\"value\":2}},\"id\":\"3199\",\"type\":\"VBar\"},{\"attributes\":{\"data\":{},\"selected\":{\"id\":\"3370\"},\"selection_policy\":{\"id\":\"3371\"}},\"id\":\"3208\",\"type\":\"ColumnDataSource\"},{\"attributes\":{},\"id\":\"3352\",\"type\":\"Selection\"},{\"attributes\":{},\"id\":\"3376\",\"type\":\"Selection\"},{\"attributes\":{\"data_source\":{\"id\":\"3208\"},\"glyph\":{\"id\":\"3209\"},\"hover_glyph\":null,\"muted_glyph\":null,\"nonselection_glyph\":{\"id\":\"3210\"},\"selection_glyph\":null,\"view\":{\"id\":\"3212\"}},\"id\":\"3211\",\"type\":\"GlyphRenderer\"},{\"attributes\":{},\"id\":\"3377\",\"type\":\"UnionRenderers\"},{\"attributes\":{\"data\":{},\"selected\":{\"id\":\"3358\"},\"selection_policy\":{\"id\":\"3359\"}},\"id\":\"3178\",\"type\":\"ColumnDataSource\"},{\"attributes\":{\"data\":{},\"selected\":{\"id\":\"3374\"},\"selection_policy\":{\"id\":\"3375\"}},\"id\":\"3218\",\"type\":\"ColumnDataSource\"},{\"attributes\":{\"fill_color\":{\"value\":\"#1f77b4\"},\"height\":{\"units\":\"data\",\"value\":0.01},\"width\":{\"units\":\"data\",\"value\":0.2},\"x\":{\"value\":1},\"y\":{\"value\":49.00125}},\"id\":\"3179\",\"type\":\"Rect\"},{\"attributes\":{\"fill_alpha\":{\"value\":0.1},\"fill_color\":{\"value\":\"#1f77b4\"},\"height\":{\"units\":\"data\",\"value\":0.01},\"line_alpha\":{\"value\":0.1},\"width\":{\"units\":\"data\",\"value\":0.2},\"x\":{\"value\":3},\"y\":{\"value\":0.0}},\"id\":\"3240\",\"type\":\"Rect\"},{\"attributes\":{},\"id\":\"3378\",\"type\":\"Selection\"},{\"attributes\":{\"source\":{\"id\":\"3178\"}},\"id\":\"3182\",\"type\":\"CDSView\"},{\"attributes\":{},\"id\":\"3349\",\"type\":\"UnionRenderers\"},{\"attributes\":{},\"id\":\"3350\",\"type\":\"Selection\"},{\"attributes\":{},\"id\":\"3379\",\"type\":\"UnionRenderers\"},{\"attributes\":{\"data_source\":{\"id\":\"3178\"},\"glyph\":{\"id\":\"3179\"},\"hover_glyph\":null,\"muted_glyph\":null,\"nonselection_glyph\":{\"id\":\"3180\"},\"selection_glyph\":null,\"view\":{\"id\":\"3182\"}},\"id\":\"3181\",\"type\":\"GlyphRenderer\"},{\"attributes\":{\"fill_alpha\":{\"value\":0.1},\"fill_color\":{\"value\":\"#1f77b4\"},\"height\":{\"units\":\"data\",\"value\":0.01},\"line_alpha\":{\"value\":0.1},\"width\":{\"units\":\"data\",\"value\":0.2},\"x\":{\"value\":2},\"y\":{\"value\":0.0}},\"id\":\"3210\",\"type\":\"Rect\"},{\"attributes\":{\"ticks\":[0,1,2,3]},\"id\":\"3243\",\"type\":\"FixedTicker\"},{\"attributes\":{\"x0\":{\"value\":3},\"x1\":{\"value\":3},\"y0\":{\"value\":0.0},\"y1\":{\"value\":0.0}},\"id\":\"3214\",\"type\":\"Segment\"},{\"attributes\":{},\"id\":\"3380\",\"type\":\"Selection\"},{\"attributes\":{\"x0\":{\"value\":2},\"x1\":{\"value\":2},\"y0\":{\"value\":0.0},\"y1\":{\"value\":0.0}},\"id\":\"3184\",\"type\":\"Segment\"},{\"attributes\":{\"data\":{},\"selected\":{\"id\":\"3372\"},\"selection_policy\":{\"id\":\"3373\"}},\"id\":\"3213\",\"type\":\"ColumnDataSource\"},{\"attributes\":{},\"id\":\"3348\",\"type\":\"Selection\"},{\"attributes\":{},\"id\":\"3381\",\"type\":\"UnionRenderers\"},{\"attributes\":{\"source\":{\"id\":\"3213\"}},\"id\":\"3217\",\"type\":\"CDSView\"},{\"attributes\":{\"data_source\":{\"id\":\"3213\"},\"glyph\":{\"id\":\"3214\"},\"hover_glyph\":null,\"muted_glyph\":null,\"nonselection_glyph\":{\"id\":\"3215\"},\"selection_glyph\":null,\"view\":{\"id\":\"3217\"}},\"id\":\"3216\",\"type\":\"GlyphRenderer\"},{\"attributes\":{\"fill_alpha\":{\"value\":0.1},\"fill_color\":{\"value\":\"#1f77b4\"},\"height\":{\"units\":\"data\",\"value\":0.01},\"line_alpha\":{\"value\":0.1},\"width\":{\"units\":\"data\",\"value\":0.2},\"x\":{\"value\":1},\"y\":{\"value\":49.00125}},\"id\":\"3180\",\"type\":\"Rect\"},{\"attributes\":{},\"id\":\"3351\",\"type\":\"UnionRenderers\"},{\"attributes\":{},\"id\":\"3382\",\"type\":\"Selection\"},{\"attributes\":{\"data\":{},\"selected\":{\"id\":\"3360\"},\"selection_policy\":{\"id\":\"3361\"}},\"id\":\"3183\",\"type\":\"ColumnDataSource\"},{\"attributes\":{},\"id\":\"3383\",\"type\":\"UnionRenderers\"},{\"attributes\":{\"line_alpha\":{\"value\":0.1},\"x0\":{\"value\":2},\"x1\":{\"value\":2},\"y0\":{\"value\":0.0},\"y1\":{\"value\":0.0}},\"id\":\"3185\",\"type\":\"Segment\"},{\"attributes\":{\"data_source\":{\"id\":\"3183\"},\"glyph\":{\"id\":\"3184\"},\"hover_glyph\":null,\"muted_glyph\":null,\"nonselection_glyph\":{\"id\":\"3185\"},\"selection_glyph\":null,\"view\":{\"id\":\"3187\"}},\"id\":\"3186\",\"type\":\"GlyphRenderer\"},{\"attributes\":{\"line_alpha\":{\"value\":0.1},\"x0\":{\"value\":3},\"x1\":{\"value\":3},\"y0\":{\"value\":0.0},\"y1\":{\"value\":0.0}},\"id\":\"3215\",\"type\":\"Segment\"},{\"attributes\":{},\"id\":\"3353\",\"type\":\"UnionRenderers\"},{\"attributes\":{\"source\":{\"id\":\"3183\"}},\"id\":\"3187\",\"type\":\"CDSView\"},{\"attributes\":{\"x0\":{\"value\":3},\"x1\":{\"value\":3},\"y0\":{\"value\":0.0},\"y1\":{\"value\":0.0}},\"id\":\"3219\",\"type\":\"Segment\"},{\"attributes\":{},\"id\":\"3354\",\"type\":\"Selection\"},{\"attributes\":{\"text\":\"Node algo-1\"},\"id\":\"3126\",\"type\":\"Title\"},{\"attributes\":{},\"id\":\"3141\",\"type\":\"BasicTicker\"},{\"attributes\":{\"formatter\":{\"id\":\"3345\"},\"major_label_overrides\":{\"1\":\"cpu\",\"2\":\"gpu0\",\"3\":\"gpu0_memory\"},\"major_label_text_font_size\":\"10px\",\"ticker\":{\"id\":\"3243\"}},\"id\":\"3136\",\"type\":\"LinearAxis\"},{\"attributes\":{},\"id\":\"3132\",\"type\":\"LinearScale\"},{\"attributes\":{},\"id\":\"3134\",\"type\":\"LinearScale\"},{\"attributes\":{\"source\":{\"id\":\"3153\"}},\"id\":\"3157\",\"type\":\"CDSView\"},{\"attributes\":{},\"id\":\"3130\",\"type\":\"DataRange1d\"},{\"attributes\":{\"callback\":null},\"id\":\"3144\",\"type\":\"HoverTool\"},{\"attributes\":{\"axis\":{\"id\":\"3136\"},\"grid_line_color\":null,\"grid_line_width\":0,\"ticker\":null},\"id\":\"3139\",\"type\":\"Grid\"},{\"attributes\":{\"axis\":{\"id\":\"3140\"},\"dimension\":1,\"grid_line_color\":\"white\",\"grid_line_width\":0,\"ticker\":null},\"id\":\"3143\",\"type\":\"Grid\"},{\"attributes\":{\"axis_label\":\"Utilization in %\",\"formatter\":{\"id\":\"3347\"},\"ticker\":{\"id\":\"3141\"}},\"id\":\"3140\",\"type\":\"LinearAxis\"},{\"attributes\":{\"data\":{},\"selected\":{\"id\":\"3348\"},\"selection_policy\":{\"id\":\"3349\"}},\"id\":\"3153\",\"type\":\"ColumnDataSource\"},{\"attributes\":{},\"id\":\"3145\",\"type\":\"WheelZoomTool\"},{\"attributes\":{},\"id\":\"3147\",\"type\":\"PanTool\"},{\"attributes\":{},\"id\":\"3146\",\"type\":\"ResetTool\"}],\"root_ids\":[\"3125\"]},\"title\":\"Bokeh Application\",\"version\":\"2.2.3\"}};\n",
       "  var render_items = [{\"docid\":\"15f6433b-e2bc-432c-a1a9-194daaee1f6d\",\"root_ids\":[\"3125\"],\"roots\":{\"3125\":\"ab0c1c7f-10d3-4797-9092-35694fccb830\"}}];\n",
       "  root.Bokeh.embed.embed_items_notebook(docs_json, render_items);\n",
       "\n",
       "  }\n",
       "  if (root.Bokeh !== undefined) {\n",
       "    embed_document(root);\n",
       "  } else {\n",
       "    var attempts = 0;\n",
       "    var timer = setInterval(function(root) {\n",
       "      if (root.Bokeh !== undefined) {\n",
       "        clearInterval(timer);\n",
       "        embed_document(root);\n",
       "      } else {\n",
       "        attempts++;\n",
       "        if (attempts > 100) {\n",
       "          clearInterval(timer);\n",
       "          console.log(\"Bokeh: ERROR: Unable to run BokehJS code because BokehJS library is missing\");\n",
       "        }\n",
       "      }\n",
       "    }, 10, root)\n",
       "  }\n",
       "})(window);"
      ],
      "application/vnd.bokehjs_exec.v0+json": ""
     },
     "metadata": {
      "application/vnd.bokehjs_exec.v0+json": {
       "id": "3125"
      }
     },
     "output_type": "display_data"
    }
   ],
   "source": [
    "if analyse_phase == \"training\":\n",
    "    display(Markdown(\"\"\" ### Batch size\"\"\"))\n",
    "    report = load_report('BatchSize')\n",
    "    if report:\n",
    "        params = report['RuleParameters'].split('\\n')\n",
    "        cpu_threshold_p95 = int(params[0].split(':')[1])\n",
    "        gpu_threshold_p95 = int(params[1].split(':')[1])\n",
    "        gpu_memory_threshold_p95 = int(params[2].split(':')[1])\n",
    "        patience = int(params[3].split(':')[1])\n",
    "        window = int(params[4].split(':')[1])\n",
    "        violations = report['Violations']\n",
    "        triggered = report['RuleTriggered']\n",
    "        datapoints = report['Datapoints']\n",
    "        \n",
    "        text = Paragraph(text=f\"\"\"The BatchSize rule helps to detect if GPU is underutilized because of the batch size being \n",
    "        too small. To detect this the rule analyzes the GPU memory footprint, CPU and GPU utilization. The rule checked if the 95th percentile of CPU utilization is below cpu_threshold_p95 of \n",
    "        {cpu_threshold_p95}%, the 95th percentile of GPU utilization is below gpu_threshold_p95 of {gpu_threshold_p95}% and the 95th percentile of memory footprint \\\n",
    "        below gpu_memory_threshold_p95 of {gpu_memory_threshold_p95}%. In your training job this happened {violations} times. \\\n",
    "        The rule skipped the first {patience} datapoints. The rule computed the percentiles over window size of {window} continuous datapoints.\\n\n",
    "        The rule analysed {datapoints} datapoints and triggered {triggered} times.\n",
    "        \"\"\", width=800)\n",
    "        show(text)\n",
    "        if len(report['Details']) >0: \n",
    "            timestamp = us_since_epoch_to_human_readable_time(report['Details']['last_timestamp'])\n",
    "            date = datetime.datetime.strptime(timestamp, '%Y-%m-%dT%H:%M:%S:%f')\n",
    "            day = date.date().strftime(\"%m/%d/%Y\")\n",
    "            hour = date.time().strftime(\"%H:%M:%S\")\n",
    "            del report['Details']['last_timestamp']\n",
    "            text = Paragraph(text=f\"\"\"Your training job is underutilizing the instance. You may want to consider\n",
    "            either switch to a smaller instance type or to increase the batch size. \n",
    "            The last time the BatchSize rule triggered in your training job was on {day} at {hour}.\n",
    "            The following boxplots are a snapshot from the timestamps. They the total \n",
    "            CPU utilization, the GPU utilization, and the GPU memory usage per GPU (without outliers).\"\"\", \n",
    "            width=800)\n",
    "            show(text)\n",
    "\n",
    "            for node_id in report['Details']:\n",
    "                xmax = max(20, len(report['Details'][node_id]))\n",
    "                \n",
    "                plot = figure(plot_height=350, \n",
    "                          plot_width=1000,\n",
    "                          toolbar_location='right',\n",
    "                          tools=\"hover,wheel_zoom,reset,pan\", \n",
    "                          title=f\"Node {node_id}\",\n",
    "                          x_range=(0,xmax)\n",
    "                          )\n",
    "                \n",
    "                for index, key in enumerate(report['Details'][node_id]):\n",
    "                        upper = report['Details'][node_id][key]['upper']\n",
    "                        lower = report['Details'][node_id][key]['lower']\n",
    "                        p75 = report['Details'][node_id][key]['p75']\n",
    "                        p25 = report['Details'][node_id][key]['p25']\n",
    "                        p50 = report['Details'][node_id][key]['p50']\n",
    "\n",
    "                        plot.segment(index+1, upper, index+1, p75, line_color=\"black\")\n",
    "                        plot.segment(index+1, lower, index+1, p25, line_color=\"black\")\n",
    "\n",
    "                        plot.vbar(index+1, 0.7, p50, p75, fill_color=\"#FDE725\", line_color=\"black\")\n",
    "                        plot.vbar(index+1, 0.7, p25, p50, fill_color=\"#440154\", line_color=\"black\")\n",
    "\n",
    "                        plot.rect(index+1, lower, 0.2, 0.01, line_color=\"black\")\n",
    "                        plot.rect(index+1, upper, 0.2, 0.01, line_color=\"black\")\n",
    "\n",
    "                        plot.xaxis.major_label_overrides[index+1] = key\n",
    "                        plot.xgrid.grid_line_color = None\n",
    "                        plot.ygrid.grid_line_color = \"white\"\n",
    "                        plot.grid.grid_line_width = 0\n",
    "\n",
    "                        plot.xaxis.major_label_text_font_size=\"10px\"\n",
    "                plot.xaxis.ticker = np.arange(index+2)\n",
    "                plot.yaxis.axis_label = \"Utilization in %\"\n",
    "                show(plot)"
   ]
  },
  {
   "cell_type": "code",
   "execution_count": 27,
   "metadata": {
    "execution": {
     "iopub.execute_input": "2023-10-20T21:01:44.190708Z",
     "iopub.status.busy": "2023-10-20T21:01:44.171525Z",
     "iopub.status.idle": "2023-10-20T21:01:44.224513Z",
     "shell.execute_reply": "2023-10-20T21:01:44.224904Z"
    },
    "papermill": {
     "duration": 0.09119,
     "end_time": "2023-10-20T21:01:44.225026",
     "exception": false,
     "start_time": "2023-10-20T21:01:44.133836",
     "status": "completed"
    },
    "tags": [
     "hide-input"
    ]
   },
   "outputs": [
    {
     "data": {
      "text/markdown": [
       "### CPU bottlenecks\n",
       "\n"
      ],
      "text/plain": [
       "<IPython.core.display.Markdown object>"
      ]
     },
     "metadata": {},
     "output_type": "display_data"
    },
    {
     "data": {
      "text/html": [
       "\n",
       "\n",
       "\n",
       "\n",
       "\n",
       "\n",
       "  <div class=\"bk-root\" id=\"0945436f-3e99-437b-853c-2c56b945eced\" data-root-id=\"3584\"></div>\n"
      ]
     },
     "metadata": {},
     "output_type": "display_data"
    },
    {
     "data": {
      "application/javascript": [
       "(function(root) {\n",
       "  function embed_document(root) {\n",
       "    \n",
       "  var docs_json = {\"a8591848-ca94-42bd-a8e9-602e71d79dbe\":{\"roots\":{\"references\":[{\"attributes\":{\"text\":\"The CPUBottleneck rule checked when the CPU utilization was above cpu_threshold of 90% \\n        and GPU utilization was below gpu_threshold of 10%. \\n        During initialization utilization is likely to be zero, so the rule skipped the first 1000 datapoints.\\n        With this configuration the rule found 785 CPU bottlenecks which is 45% of the total time. This is below the threshold of 50%\\n        The rule analysed 1719 data points and triggered 0 times.\",\"width\":900},\"id\":\"3584\",\"type\":\"Paragraph\"}],\"root_ids\":[\"3584\"]},\"title\":\"Bokeh Application\",\"version\":\"2.2.3\"}};\n",
       "  var render_items = [{\"docid\":\"a8591848-ca94-42bd-a8e9-602e71d79dbe\",\"root_ids\":[\"3584\"],\"roots\":{\"3584\":\"0945436f-3e99-437b-853c-2c56b945eced\"}}];\n",
       "  root.Bokeh.embed.embed_items_notebook(docs_json, render_items);\n",
       "\n",
       "  }\n",
       "  if (root.Bokeh !== undefined) {\n",
       "    embed_document(root);\n",
       "  } else {\n",
       "    var attempts = 0;\n",
       "    var timer = setInterval(function(root) {\n",
       "      if (root.Bokeh !== undefined) {\n",
       "        clearInterval(timer);\n",
       "        embed_document(root);\n",
       "      } else {\n",
       "        attempts++;\n",
       "        if (attempts > 100) {\n",
       "          clearInterval(timer);\n",
       "          console.log(\"Bokeh: ERROR: Unable to run BokehJS code because BokehJS library is missing\");\n",
       "        }\n",
       "      }\n",
       "    }, 10, root)\n",
       "  }\n",
       "})(window);"
      ],
      "application/vnd.bokehjs_exec.v0+json": ""
     },
     "metadata": {
      "application/vnd.bokehjs_exec.v0+json": {
       "id": "3584"
      }
     },
     "output_type": "display_data"
    }
   ],
   "source": [
    "if analyse_phase == \"training\": \n",
    "    display(Markdown(\"\"\"### CPU bottlenecks\\n\\n\"\"\"))\n",
    "\n",
    "    report = load_report('CPUBottleneck')\n",
    "    if report:\n",
    "        params = report['RuleParameters'].split('\\n')\n",
    "        threshold = int(params[0].split(':')[1])\n",
    "        cpu_threshold = int(params[1].split(':')[1])\n",
    "        gpu_threshold = int(params[2].split(':')[1])\n",
    "        patience = int(params[3].split(':')[1])\n",
    "        violations = report['Violations']\n",
    "        triggered = report['RuleTriggered']\n",
    "        datapoints = report['Datapoints']\n",
    "        \n",
    "        if report['Violations'] > 0:\n",
    "            perc = int(report['Violations']/report['Datapoints']*100)\n",
    "        else:\n",
    "            perc = 0\n",
    "        if perc < threshold:\n",
    "            string = 'below'\n",
    "        else:\n",
    "            string = 'above'\n",
    "        text = f\"\"\"The CPUBottleneck rule checked when the CPU utilization was above cpu_threshold of {cpu_threshold}% \n",
    "        and GPU utilization was below gpu_threshold of {gpu_threshold}%. \n",
    "        During initialization utilization is likely to be zero, so the rule skipped the first {patience} datapoints.\n",
    "        With this configuration the rule found {violations} CPU bottlenecks which is {perc}% of the total time. This is {string} the threshold of {threshold}%\n",
    "        The rule analysed {datapoints} data points and triggered {triggered} times.\"\"\"\n",
    "        \n",
    "        paragraph = Paragraph(text=text, width=900)\n",
    "        show(paragraph)\n",
    "        if report:\n",
    "\n",
    "            plots = []\n",
    "            text = \"\"\n",
    "            if report['RuleTriggered'] > 0:\n",
    "\n",
    "                low_gpu = report['Details']['low_gpu_utilization']\n",
    "                cpu_bottleneck = {}\n",
    "                cpu_bottleneck[\"GPU usage above threshold\"] = report[\"Datapoints\"] - report[\"Details\"][\"low_gpu_utilization\"]\n",
    "                cpu_bottleneck[\"GPU usage below threshold\"] = report[\"Details\"][\"low_gpu_utilization\"] - len(report[\"Details\"])\n",
    "                cpu_bottleneck[\"Low GPU usage due to CPU bottlenecks\"] = len(report[\"Details\"][\"bottlenecks\"])\n",
    "\n",
    "                n_bottlenecks = round(len(report['Details']['bottlenecks'])/datapoints * 100, 2)\n",
    "                text = f\"\"\"The following chart (left) shows how many datapoints were below the gpu_threshold of {gpu_threshold}%\n",
    "                and how many of those datapoints were likely caused by a CPU bottleneck. The rule found {low_gpu} out of {datapoints} datapoints which had a GPU utilization \n",
    "                below {gpu_threshold}%. Out of those datapoints {n_bottlenecks}% were likely caused by CPU bottlenecks. \n",
    "                \"\"\"\n",
    "\n",
    "                plot = create_piechart(cpu_bottleneck, \n",
    "                                    height=350,\n",
    "                                    width=600,\n",
    "                                    x1=0.2,\n",
    "                                    x2=0.6,\n",
    "                                    radius=0.3, \n",
    "                                    title=\"Low GPU usage caused by CPU bottlenecks\")\n",
    "\n",
    "                plots.append(plot)\n",
    "\n",
    "                if 'phase' in report['Details']:\n",
    "                    text = f\"\"\"{text} The chart (in the middle) shows whether CPU bottlenecks mainly \n",
    "                    happened during train/validation phase.\n",
    "                    \"\"\"\n",
    "\n",
    "                    plot = create_piechart(report['Details']['phase'], \n",
    "                                        height=350,\n",
    "                                        width=600,\n",
    "                                        x1=0.2,\n",
    "                                        x2=0.6,\n",
    "                                        radius=0.3, \n",
    "                                        title=\"The ratio between time spent on TRAIN/EVAL phase\")\n",
    "                    plots.append(plot)\n",
    "\n",
    "                if 'forward_backward' in report['Details'] and  len(report['Details']['forward_backward']) > 0:\n",
    "\n",
    "                    event = max(report['Details']['forward_backward'], key=report['Details']['forward_backward'].get)\n",
    "                    perc = report['Details']['forward_backward'][event]\n",
    "\n",
    "                    text = f\"\"\"{text} The pie charts on the right shows a more detailed breakdown. \n",
    "                    It shows that {int(perc)}% of the training time was spent on event {event}\"\"\"\n",
    "\n",
    "                    plot = create_piechart(report['Details']['forward_backward'], \n",
    "                                        height=350,\n",
    "                                        width=600,\n",
    "                                        x1=0.2,\n",
    "                                        x2=0.6,\n",
    "                                        radius=0.3, \n",
    "                                        title=\"The ratio between forward and backward pass\") \n",
    "                    plots.append(plot)\n",
    "\n",
    "                if len(plots) > 0:\n",
    "                    paragraph = Paragraph(text=text, width=900)\n",
    "                    show(column(paragraph, row(plots)))\n",
    "\n",
    "                plots = []\n",
    "                text = \"\"\n",
    "                if 'ratio' in report['Details'] and len(report['Details']['ratio']) > 0:\n",
    "\n",
    "                    key = list(report['Details']['ratio'].keys())[0]\n",
    "                    ratio = report['Details']['ratio'][key]\n",
    "\n",
    "                    text = f\"\"\"The following pie chart shows a breakdown of the CPU/GPU operators that happened during CPU bottlenecks. \n",
    "                        It shows that {int(ratio)}% of the training time was spent on executing operators in \"{key}\".\"\"\"\n",
    "\n",
    "                    plot = create_piechart(report['Details']['ratio'], \n",
    "                                            height=350,\n",
    "                                            width=600,\n",
    "                                            x1=0.2,\n",
    "                                            x2=0.6,\n",
    "                                            radius=0.3, \n",
    "                                            title=\"The ratio between CPU/GPU operators\")\n",
    "                    plots.append(plot)\n",
    "\n",
    "\n",
    "                if 'general' in report['Details'] and len(report['Details']['general']) > 0:\n",
    "\n",
    "                    event = max(report['Details']['general'], key=report['Details']['general'].get)\n",
    "                    perc = report['Details']['general'][event]\n",
    "                \n",
    "                    plot = create_piechart(report['Details']['general'], \n",
    "                                        height=350,\n",
    "                                        width=600,\n",
    "                                        x1=0.2,\n",
    "                                        x2=0.6,\n",
    "                                        radius=0.3, \n",
    "                                        title=\"General metrics recorded in framework \")\n",
    "                    plots.append(plot)\n",
    "\n",
    "                if len(plots) > 0:\n",
    "                    paragraph = Paragraph(text=text, width=900)\n",
    "                    show(column(paragraph, row(plots)))\n",
    "\n",
    "                plots = []\n",
    "                text = \"\"\n",
    "                if 'horovod' in report['Details'] and len(report['Details']['horovod']) > 0:\n",
    "\n",
    "                    event = max(report['Details']['horovod'], key=report['Details']['horovod'].get)\n",
    "                    perc = report['Details']['horovod'][event]\n",
    "                    text = f\"\"\"The following pie chart shows a detailed breakdown of the Horovod metrics \n",
    "                    that have been recorded when the CPU bottleneck happened. The most expensive function was \n",
    "                    {event} with {int(perc)}%\"\"\"\n",
    "\n",
    "                    plot = create_piechart(report['Details']['horovod'], \n",
    "                                        height=350,\n",
    "                                        width=600,\n",
    "                                        x1=0.2,\n",
    "                                        x2=0.6,\n",
    "                                        radius=0.3, \n",
    "                                        title=\"General metrics recorded in framework \")\n",
    "\n",
    "                    paragraph = Paragraph(text=text, width=900)\n",
    "                    show(column(paragraph, row(plot)))"
   ]
  },
  {
   "cell_type": "code",
   "execution_count": 28,
   "metadata": {
    "execution": {
     "iopub.execute_input": "2023-10-20T21:01:44.366443Z",
     "iopub.status.busy": "2023-10-20T21:01:44.310168Z",
     "iopub.status.idle": "2023-10-20T21:01:44.400862Z",
     "shell.execute_reply": "2023-10-20T21:01:44.401257Z"
    },
    "papermill": {
     "duration": 0.140022,
     "end_time": "2023-10-20T21:01:44.401393",
     "exception": false,
     "start_time": "2023-10-20T21:01:44.261371",
     "status": "completed"
    },
    "tags": [
     "hide-input"
    ]
   },
   "outputs": [
    {
     "data": {
      "text/markdown": [
       "### I/O bottlenecks\n",
       "\n"
      ],
      "text/plain": [
       "<IPython.core.display.Markdown object>"
      ]
     },
     "metadata": {},
     "output_type": "display_data"
    },
    {
     "data": {
      "text/html": [
       "\n",
       "\n",
       "\n",
       "\n",
       "\n",
       "\n",
       "  <div class=\"bk-root\" id=\"ea956694-b9b0-49ad-a625-aa5d88b74f12\" data-root-id=\"3724\"></div>\n"
      ]
     },
     "metadata": {},
     "output_type": "display_data"
    },
    {
     "data": {
      "application/javascript": [
       "(function(root) {\n",
       "  function embed_document(root) {\n",
       "    \n",
       "  var docs_json = {\"1d198810-f878-483d-b71e-0785170b30ea\":{\"roots\":{\"references\":[{\"attributes\":{\"text\":\"The IOBottleneck rule checked when I/O wait time was above io_threshold of 50% \\n        and GPU utilization was below gpu_threshold of 10. During initialization utilization is likely to be zero, so the rule skipped the first 1000 datapoints. \\n        With this configuration the rule found 34 I/O bottlenecks which is 1% of the total time. This is below the threshold of 50%.\\n        The rule analysed 1719 datapoints and triggered 0 times.\",\"width\":900},\"id\":\"3724\",\"type\":\"Paragraph\"}],\"root_ids\":[\"3724\"]},\"title\":\"Bokeh Application\",\"version\":\"2.2.3\"}};\n",
       "  var render_items = [{\"docid\":\"1d198810-f878-483d-b71e-0785170b30ea\",\"root_ids\":[\"3724\"],\"roots\":{\"3724\":\"ea956694-b9b0-49ad-a625-aa5d88b74f12\"}}];\n",
       "  root.Bokeh.embed.embed_items_notebook(docs_json, render_items);\n",
       "\n",
       "  }\n",
       "  if (root.Bokeh !== undefined) {\n",
       "    embed_document(root);\n",
       "  } else {\n",
       "    var attempts = 0;\n",
       "    var timer = setInterval(function(root) {\n",
       "      if (root.Bokeh !== undefined) {\n",
       "        clearInterval(timer);\n",
       "        embed_document(root);\n",
       "      } else {\n",
       "        attempts++;\n",
       "        if (attempts > 100) {\n",
       "          clearInterval(timer);\n",
       "          console.log(\"Bokeh: ERROR: Unable to run BokehJS code because BokehJS library is missing\");\n",
       "        }\n",
       "      }\n",
       "    }, 10, root)\n",
       "  }\n",
       "})(window);"
      ],
      "application/vnd.bokehjs_exec.v0+json": ""
     },
     "metadata": {
      "application/vnd.bokehjs_exec.v0+json": {
       "id": "3724"
      }
     },
     "output_type": "display_data"
    }
   ],
   "source": [
    "if analyse_phase == \"training\": \n",
    "    display(Markdown(\"\"\"### I/O bottlenecks\\n\\n\"\"\"))\n",
    "\n",
    "    report = load_report('IOBottleneck')\n",
    "    if report:\n",
    "        params = report['RuleParameters'].split('\\n')\n",
    "        threshold = int(params[0].split(':')[1])\n",
    "        io_threshold = int(params[1].split(':')[1])\n",
    "        gpu_threshold = int(params[2].split(':')[1])\n",
    "        patience = int(params[3].split(':')[1])\n",
    "        violations = report['Violations']\n",
    "        triggered = report['RuleTriggered']\n",
    "        datapoints = report['Datapoints']\n",
    "    \n",
    "        if report['Violations'] > 0:\n",
    "            perc = int(report['Violations']/report['Datapoints']*100)\n",
    "        else:\n",
    "            perc = 0\n",
    "        if perc < threshold:\n",
    "            string = 'below'\n",
    "        else:\n",
    "            string = 'above'\n",
    "        text = f\"\"\"The IOBottleneck rule checked when I/O wait time was above io_threshold of {io_threshold}% \n",
    "        and GPU utilization was below gpu_threshold of {gpu_threshold}. During initialization utilization is likely to be zero, so the rule skipped the first {patience} datapoints. \n",
    "        With this configuration the rule found {violations} I/O bottlenecks which is {perc}% of the total time. This is {string} the threshold of {threshold}%.\n",
    "        The rule analysed {datapoints} datapoints and triggered {triggered} times.\"\"\"\n",
    "        paragraph = Paragraph(text=text, width=900)\n",
    "        show(paragraph)\n",
    "        \n",
    "        if report:\n",
    "\n",
    "            plots = []\n",
    "            text = \"\"\n",
    "            if report['RuleTriggered'] > 0:\n",
    "\n",
    "                low_gpu = report['Details']['low_gpu_utilization']\n",
    "                cpu_bottleneck = {}\n",
    "                cpu_bottleneck[\"GPU usage above threshold\"] = report[\"Datapoints\"] - report[\"Details\"][\"low_gpu_utilization\"]\n",
    "                cpu_bottleneck[\"GPU usage below threshold\"] = report[\"Details\"][\"low_gpu_utilization\"] - len(report[\"Details\"])\n",
    "                cpu_bottleneck[\"Low GPU usage due to I/O bottlenecks\"] = len(report[\"Details\"][\"bottlenecks\"])\n",
    "\n",
    "                n_bottlenecks = round(len(report['Details']['bottlenecks'])/datapoints * 100, 2)\n",
    "                text = f\"\"\"The following chart (left) shows how many datapoints were below the gpu_threshold of {gpu_threshold}%\n",
    "                and how many of those datapoints were likely caused by a I/O bottleneck. The rule found {low_gpu} out of {datapoints} datapoints which had a GPU utilization \n",
    "                below {gpu_threshold}%. Out of those datapoints {n_bottlenecks}% were likely caused by I/O bottlenecks. \n",
    "                \"\"\"\n",
    "\n",
    "                plot = create_piechart(cpu_bottleneck, \n",
    "                                    height=350,\n",
    "                                    width=600,\n",
    "                                    x1=0.2,\n",
    "                                    x2=0.6,\n",
    "                                    radius=0.3, \n",
    "                                    title=\"Low GPU usage caused by I/O bottlenecks\")\n",
    "\n",
    "                plots.append(plot)\n",
    "\n",
    "                if 'phase' in report['Details']:\n",
    "                    text = f\"\"\"{text} The chart (in the middle) shows whether I/O bottlenecks mainly happened during the training or validation phase.\n",
    "                    \"\"\"\n",
    "\n",
    "                    plot = create_piechart(report['Details']['phase'], \n",
    "                                        height=350,\n",
    "                                        width=600,\n",
    "                                        x1=0.2,\n",
    "                                        x2=0.6,\n",
    "                                        radius=0.3, \n",
    "                                        title=\"The ratio between the time spent on the TRAIN/EVAL phase\")\n",
    "                    plots.append(plot)\n",
    "\n",
    "                if 'forward_backward' in report['Details'] and  len(report['Details']['forward_backward']) > 0:\n",
    "\n",
    "                    event = max(report['Details']['forward_backward'], key=report['Details']['forward_backward'].get)\n",
    "                    perc = report['Details']['forward_backward'][event]\n",
    "\n",
    "                    text = f\"\"\"{text} The pie charts on the right shows a more detailed breakdown. \n",
    "                    It shows that {int(perc)}% of the training time was spent on event \"{event}\".\"\"\"\n",
    "\n",
    "                    plot = create_piechart(report['Details']['forward_backward'], \n",
    "                                        height=350,\n",
    "                                        width=600,\n",
    "                                        x1=0.2,\n",
    "                                        x2=0.6,\n",
    "                                        radius=0.3, \n",
    "                                        title=\"The ratio between forward and backward pass\") \n",
    "                    plots.append(plot)\n",
    "\n",
    "                if len(plots) > 0:\n",
    "                    paragraph = Paragraph(text=text, width=900)\n",
    "                    show(column(paragraph, row(plots)))\n",
    "\n",
    "                plots = []\n",
    "                text = \"\"\n",
    "                if 'ratio' in report['Details'] and len(report['Details']['ratio']) > 0:\n",
    "\n",
    "                    key = list(report['Details']['ratio'].keys())[0]\n",
    "                    ratio = report['Details']['ratio'][key]\n",
    "\n",
    "                    text = f\"\"\"The following pie chart shows a breakdown of the CPU/GPU operators that happened \n",
    "                    during I/O bottlenecks. It shows that {int(ratio)}% of the training time was spent on executing operators in \"{key}\".\"\"\"\n",
    "\n",
    "                    plot = create_piechart(report['Details']['ratio'], \n",
    "                                            height=350,\n",
    "                                            width=600,\n",
    "                                            x1=0.2,\n",
    "                                            x2=0.6,\n",
    "                                            radius=0.3, \n",
    "                                            title=\"Ratio between CPU/GPU operators\")\n",
    "                    plots.append(plot)\n",
    "\n",
    "\n",
    "                if 'general' in report['Details'] and len(report['Details']['general']) > 0:\n",
    "\n",
    "                    event = max(report['Details']['general'], key=report['Details']['general'].get)\n",
    "                    perc = report['Details']['general'][event]\n",
    "\n",
    "                    plot = create_piechart(report['Details']['general'], \n",
    "                                        height=350,\n",
    "                                        width=600,\n",
    "                                        x1=0.2,\n",
    "                                        x2=0.6,\n",
    "                                        radius=0.3, \n",
    "                                        title=\"General metrics recorded in framework \")\n",
    "                    plots.append(plot)\n",
    "\n",
    "                if len(plots) > 0:\n",
    "                    paragraph = Paragraph(text=text, width=900)\n",
    "                    show(column(paragraph, row(plots)))\n",
    "\n",
    "                plots = []\n",
    "                text = \"\"\n",
    "                if 'horovod' in report['Details'] and len(report['Details']['horovod']) > 0:\n",
    "\n",
    "                    event = max(report['Details']['horovod'], key=report['Details']['horovod'].get)\n",
    "                    perc = report['Details']['horovod'][event]\n",
    "                    text = f\"\"\"The following pie chart shows a detailed breakdown of the Horovod metrics that have been\n",
    "                    recorded when I/O bottleneck happened. The most expensive function was {event} with {int(perc)}%\"\"\"\n",
    "\n",
    "                    plot = create_piechart(report['Details']['horovod'], \n",
    "                                        height=350,\n",
    "                                        width=600,\n",
    "                                        x1=0.2,\n",
    "                                        x2=0.6,\n",
    "                                        radius=0.3, \n",
    "                                        title=\"General metrics recorded in framework \")\n",
    "\n",
    "                    paragraph = Paragraph(text=text, width=900)\n",
    "                    show(column(paragraph, row(plot)))    \n"
   ]
  },
  {
   "cell_type": "code",
   "execution_count": 29,
   "metadata": {
    "execution": {
     "iopub.execute_input": "2023-10-20T21:01:44.493542Z",
     "iopub.status.busy": "2023-10-20T21:01:44.492878Z",
     "iopub.status.idle": "2023-10-20T21:01:44.656115Z",
     "shell.execute_reply": "2023-10-20T21:01:44.655663Z"
    },
    "papermill": {
     "duration": 0.217068,
     "end_time": "2023-10-20T21:01:44.656229",
     "exception": false,
     "start_time": "2023-10-20T21:01:44.439161",
     "status": "completed"
    },
    "tags": [
     "hide-input"
    ]
   },
   "outputs": [
    {
     "data": {
      "text/markdown": [
       "### GPU memory\n",
       "\n"
      ],
      "text/plain": [
       "<IPython.core.display.Markdown object>"
      ]
     },
     "metadata": {},
     "output_type": "display_data"
    },
    {
     "data": {
      "text/html": [
       "\n",
       "\n",
       "\n",
       "\n",
       "\n",
       "\n",
       "  <div class=\"bk-root\" id=\"3e148b91-534b-4c29-9e9a-3ef69ef58e31\" data-root-id=\"3864\"></div>\n"
      ]
     },
     "metadata": {},
     "output_type": "display_data"
    },
    {
     "data": {
      "application/javascript": [
       "(function(root) {\n",
       "  function embed_document(root) {\n",
       "    \n",
       "  var docs_json = {\"8489d2bc-2dd1-4ec4-91a6-a3cea5810b32\":{\"roots\":{\"references\":[{\"attributes\":{\"text\":\"The GPUMemoryIncrease rule helps to detect large increase in memory usage on GPUs. \\n        The rule checked if the moving average of memory increased by more than 5.0%. \\n        So if the moving average increased for instance from 10% to 16.0%, \\n        the rule would have triggered. During initialization utilization  is likely 0, so the rule skipped the first 1000 datapoints.\\n        The moving average was computed on a window size of 10 continuous datapoints. The rule detected 26 violations\\n        where the moving average between previous and current time window increased by more than 5.0%.\\n        The rule analysed 1718 datapoints and triggered 26 times.\",\"width\":900},\"id\":\"3864\",\"type\":\"Paragraph\"}],\"root_ids\":[\"3864\"]},\"title\":\"Bokeh Application\",\"version\":\"2.2.3\"}};\n",
       "  var render_items = [{\"docid\":\"8489d2bc-2dd1-4ec4-91a6-a3cea5810b32\",\"root_ids\":[\"3864\"],\"roots\":{\"3864\":\"3e148b91-534b-4c29-9e9a-3ef69ef58e31\"}}];\n",
       "  root.Bokeh.embed.embed_items_notebook(docs_json, render_items);\n",
       "\n",
       "  }\n",
       "  if (root.Bokeh !== undefined) {\n",
       "    embed_document(root);\n",
       "  } else {\n",
       "    var attempts = 0;\n",
       "    var timer = setInterval(function(root) {\n",
       "      if (root.Bokeh !== undefined) {\n",
       "        clearInterval(timer);\n",
       "        embed_document(root);\n",
       "      } else {\n",
       "        attempts++;\n",
       "        if (attempts > 100) {\n",
       "          clearInterval(timer);\n",
       "          console.log(\"Bokeh: ERROR: Unable to run BokehJS code because BokehJS library is missing\");\n",
       "        }\n",
       "      }\n",
       "    }, 10, root)\n",
       "  }\n",
       "})(window);"
      ],
      "application/vnd.bokehjs_exec.v0+json": ""
     },
     "metadata": {
      "application/vnd.bokehjs_exec.v0+json": {
       "id": "3864"
      }
     },
     "output_type": "display_data"
    },
    {
     "data": {
      "text/html": [
       "\n",
       "\n",
       "\n",
       "\n",
       "\n",
       "\n",
       "  <div class=\"bk-root\" id=\"f790b3c3-aba5-4256-a07b-eb516a9dcc61\" data-root-id=\"4004\"></div>\n"
      ]
     },
     "metadata": {},
     "output_type": "display_data"
    },
    {
     "data": {
      "application/javascript": [
       "(function(root) {\n",
       "  function embed_document(root) {\n",
       "    \n",
       "  var docs_json = {\"974bf735-78db-4f75-87f0-c4fc9aea53df\":{\"roots\":{\"references\":[{\"attributes\":{\"text\":\"Your training job triggered memory spikes. \\n            The last time the GPUMemoryIncrease rule triggered in your training job was on 10/20/2023 at 21:00:00.\\n            The following boxplots are a snapshot from the timestamps. They show for each node and GPU the corresponding\\n            memory utilization (without outliers).\",\"width\":900},\"id\":\"4004\",\"type\":\"Paragraph\"}],\"root_ids\":[\"4004\"]},\"title\":\"Bokeh Application\",\"version\":\"2.2.3\"}};\n",
       "  var render_items = [{\"docid\":\"974bf735-78db-4f75-87f0-c4fc9aea53df\",\"root_ids\":[\"4004\"],\"roots\":{\"4004\":\"f790b3c3-aba5-4256-a07b-eb516a9dcc61\"}}];\n",
       "  root.Bokeh.embed.embed_items_notebook(docs_json, render_items);\n",
       "\n",
       "  }\n",
       "  if (root.Bokeh !== undefined) {\n",
       "    embed_document(root);\n",
       "  } else {\n",
       "    var attempts = 0;\n",
       "    var timer = setInterval(function(root) {\n",
       "      if (root.Bokeh !== undefined) {\n",
       "        clearInterval(timer);\n",
       "        embed_document(root);\n",
       "      } else {\n",
       "        attempts++;\n",
       "        if (attempts > 100) {\n",
       "          clearInterval(timer);\n",
       "          console.log(\"Bokeh: ERROR: Unable to run BokehJS code because BokehJS library is missing\");\n",
       "        }\n",
       "      }\n",
       "    }, 10, root)\n",
       "  }\n",
       "})(window);"
      ],
      "application/vnd.bokehjs_exec.v0+json": ""
     },
     "metadata": {
      "application/vnd.bokehjs_exec.v0+json": {
       "id": "4004"
      }
     },
     "output_type": "display_data"
    },
    {
     "data": {
      "text/markdown": [
       "**Memory utilization of gpu0 on node algo-1:**"
      ],
      "text/plain": [
       "<IPython.core.display.Markdown object>"
      ]
     },
     "metadata": {},
     "output_type": "display_data"
    },
    {
     "data": {
      "text/html": [
       "\n",
       "\n",
       "\n",
       "\n",
       "\n",
       "\n",
       "  <div class=\"bk-root\" id=\"9d24da55-483d-439e-98ec-608d163c84c7\" data-root-id=\"4172\"></div>\n"
      ]
     },
     "metadata": {},
     "output_type": "display_data"
    },
    {
     "data": {
      "application/javascript": [
       "(function(root) {\n",
       "  function embed_document(root) {\n",
       "    \n",
       "  var docs_json = {\"c87ef6d0-4725-4540-b190-a79f00db30d9\":{\"roots\":{\"references\":[{\"attributes\":{\"text\":\" The max memory utilization of gpu0 on node algo-1 was 68.0%. The 95th percentile was only 0%. The 5th percentile was only 0.0%.\",\"width\":900},\"id\":\"4172\",\"type\":\"Paragraph\"}],\"root_ids\":[\"4172\"]},\"title\":\"Bokeh Application\",\"version\":\"2.2.3\"}};\n",
       "  var render_items = [{\"docid\":\"c87ef6d0-4725-4540-b190-a79f00db30d9\",\"root_ids\":[\"4172\"],\"roots\":{\"4172\":\"9d24da55-483d-439e-98ec-608d163c84c7\"}}];\n",
       "  root.Bokeh.embed.embed_items_notebook(docs_json, render_items);\n",
       "\n",
       "  }\n",
       "  if (root.Bokeh !== undefined) {\n",
       "    embed_document(root);\n",
       "  } else {\n",
       "    var attempts = 0;\n",
       "    var timer = setInterval(function(root) {\n",
       "      if (root.Bokeh !== undefined) {\n",
       "        clearInterval(timer);\n",
       "        embed_document(root);\n",
       "      } else {\n",
       "        attempts++;\n",
       "        if (attempts > 100) {\n",
       "          clearInterval(timer);\n",
       "          console.log(\"Bokeh: ERROR: Unable to run BokehJS code because BokehJS library is missing\");\n",
       "        }\n",
       "      }\n",
       "    }, 10, root)\n",
       "  }\n",
       "})(window);"
      ],
      "application/vnd.bokehjs_exec.v0+json": ""
     },
     "metadata": {
      "application/vnd.bokehjs_exec.v0+json": {
       "id": "4172"
      }
     },
     "output_type": "display_data"
    },
    {
     "data": {
      "text/html": [
       "\n",
       "\n",
       "\n",
       "\n",
       "\n",
       "\n",
       "  <div class=\"bk-root\" id=\"054d6460-a81d-4cda-bf49-907b30be55e6\" data-root-id=\"4144\"></div>\n"
      ]
     },
     "metadata": {},
     "output_type": "display_data"
    },
    {
     "data": {
      "application/javascript": [
       "(function(root) {\n",
       "  function embed_document(root) {\n",
       "    \n",
       "  var docs_json = {\"97905a4e-8b65-4770-adc7-1b2b1e9b6723\":{\"roots\":{\"references\":[{\"attributes\":{\"below\":[{\"id\":\"4155\"}],\"center\":[{\"id\":\"4158\"},{\"id\":\"4162\"}],\"left\":[{\"id\":\"4159\"}],\"plot_height\":350,\"plot_width\":1000,\"renderers\":[{\"id\":\"4315\"},{\"id\":\"4320\"},{\"id\":\"4325\"},{\"id\":\"4330\"},{\"id\":\"4335\"},{\"id\":\"4340\"}],\"title\":{\"id\":\"4145\"},\"toolbar\":{\"id\":\"4167\"},\"x_range\":{\"id\":\"4147\"},\"x_scale\":{\"id\":\"4151\"},\"y_range\":{\"id\":\"4149\"},\"y_scale\":{\"id\":\"4153\"}},\"id\":\"4144\",\"subtype\":\"Figure\",\"type\":\"Plot\"},{\"attributes\":{},\"id\":\"4149\",\"type\":\"DataRange1d\"},{\"attributes\":{\"data\":{},\"selected\":{\"id\":\"4491\"},\"selection_policy\":{\"id\":\"4492\"}},\"id\":\"4322\",\"type\":\"ColumnDataSource\"},{\"attributes\":{\"data_source\":{\"id\":\"4337\"},\"glyph\":{\"id\":\"4338\"},\"hover_glyph\":null,\"muted_glyph\":null,\"nonselection_glyph\":{\"id\":\"4339\"},\"selection_glyph\":null,\"view\":{\"id\":\"4341\"}},\"id\":\"4340\",\"type\":\"GlyphRenderer\"},{\"attributes\":{\"source\":{\"id\":\"4322\"}},\"id\":\"4326\",\"type\":\"CDSView\"},{\"attributes\":{\"end\":17},\"id\":\"4147\",\"type\":\"Range1d\"},{\"attributes\":{},\"id\":\"4497\",\"type\":\"Selection\"},{\"attributes\":{},\"id\":\"4160\",\"type\":\"BasicTicker\"},{\"attributes\":{\"source\":{\"id\":\"4337\"}},\"id\":\"4341\",\"type\":\"CDSView\"},{\"attributes\":{},\"id\":\"4496\",\"type\":\"UnionRenderers\"},{\"attributes\":{\"data_source\":{\"id\":\"4322\"},\"glyph\":{\"id\":\"4323\"},\"hover_glyph\":null,\"muted_glyph\":null,\"nonselection_glyph\":{\"id\":\"4324\"},\"selection_glyph\":null,\"view\":{\"id\":\"4326\"}},\"id\":\"4325\",\"type\":\"GlyphRenderer\"},{\"attributes\":{},\"id\":\"4489\",\"type\":\"Selection\"},{\"attributes\":{},\"id\":\"4495\",\"type\":\"Selection\"},{\"attributes\":{\"line_alpha\":{\"value\":0.1},\"x0\":{\"value\":1},\"x1\":{\"value\":1},\"y0\":{\"value\":0.0},\"y1\":{\"value\":0.0}},\"id\":\"4314\",\"type\":\"Segment\"},{\"attributes\":{\"fill_alpha\":{\"value\":0.1},\"fill_color\":{\"value\":\"#FDE725\"},\"line_alpha\":{\"value\":0.1},\"top\":{\"value\":0.0},\"width\":{\"value\":0.7},\"x\":{\"value\":1}},\"id\":\"4324\",\"type\":\"VBar\"},{\"attributes\":{},\"id\":\"4153\",\"type\":\"LinearScale\"},{\"attributes\":{\"data\":{},\"selected\":{\"id\":\"4487\"},\"selection_policy\":{\"id\":\"4488\"}},\"id\":\"4312\",\"type\":\"ColumnDataSource\"},{\"attributes\":{\"data\":{},\"selected\":{\"id\":\"4493\"},\"selection_policy\":{\"id\":\"4494\"}},\"id\":\"4327\",\"type\":\"ColumnDataSource\"},{\"attributes\":{},\"id\":\"4488\",\"type\":\"UnionRenderers\"},{\"attributes\":{},\"id\":\"4491\",\"type\":\"Selection\"},{\"attributes\":{},\"id\":\"4486\",\"type\":\"BasicTickFormatter\"},{\"attributes\":{\"source\":{\"id\":\"4312\"}},\"id\":\"4316\",\"type\":\"CDSView\"},{\"attributes\":{\"source\":{\"id\":\"4327\"}},\"id\":\"4331\",\"type\":\"CDSView\"},{\"attributes\":{},\"id\":\"4487\",\"type\":\"Selection\"},{\"attributes\":{\"axis\":{\"id\":\"4155\"},\"grid_line_color\":null,\"grid_line_width\":0,\"ticker\":null},\"id\":\"4158\",\"type\":\"Grid\"},{\"attributes\":{\"data\":{},\"selected\":{\"id\":\"4489\"},\"selection_policy\":{\"id\":\"4490\"}},\"id\":\"4317\",\"type\":\"ColumnDataSource\"},{\"attributes\":{\"fill_color\":{\"value\":\"#1f77b4\"},\"height\":{\"units\":\"data\",\"value\":0.01},\"width\":{\"units\":\"data\",\"value\":0.2},\"x\":{\"value\":1},\"y\":{\"value\":0.0}},\"id\":\"4333\",\"type\":\"Rect\"},{\"attributes\":{\"data_source\":{\"id\":\"4327\"},\"glyph\":{\"id\":\"4328\"},\"hover_glyph\":null,\"muted_glyph\":null,\"nonselection_glyph\":{\"id\":\"4329\"},\"selection_glyph\":null,\"view\":{\"id\":\"4331\"}},\"id\":\"4330\",\"type\":\"GlyphRenderer\"},{\"attributes\":{\"x0\":{\"value\":1},\"x1\":{\"value\":1},\"y0\":{\"value\":0.0},\"y1\":{\"value\":0.0}},\"id\":\"4318\",\"type\":\"Segment\"},{\"attributes\":{\"data_source\":{\"id\":\"4312\"},\"glyph\":{\"id\":\"4313\"},\"hover_glyph\":null,\"muted_glyph\":null,\"nonselection_glyph\":{\"id\":\"4314\"},\"selection_glyph\":null,\"view\":{\"id\":\"4316\"}},\"id\":\"4315\",\"type\":\"GlyphRenderer\"},{\"attributes\":{\"fill_alpha\":{\"value\":0.1},\"fill_color\":{\"value\":\"#1f77b4\"},\"height\":{\"units\":\"data\",\"value\":0.01},\"line_alpha\":{\"value\":0.1},\"width\":{\"units\":\"data\",\"value\":0.2},\"x\":{\"value\":1},\"y\":{\"value\":0.0}},\"id\":\"4339\",\"type\":\"Rect\"},{\"attributes\":{\"callback\":null},\"id\":\"4163\",\"type\":\"HoverTool\"},{\"attributes\":{\"fill_alpha\":{\"value\":0.1},\"fill_color\":{\"value\":\"#440154\"},\"line_alpha\":{\"value\":0.1},\"top\":{\"value\":0.0},\"width\":{\"value\":0.7},\"x\":{\"value\":1}},\"id\":\"4329\",\"type\":\"VBar\"},{\"attributes\":{},\"id\":\"4164\",\"type\":\"WheelZoomTool\"},{\"attributes\":{\"data\":{},\"selected\":{\"id\":\"4495\"},\"selection_policy\":{\"id\":\"4496\"}},\"id\":\"4332\",\"type\":\"ColumnDataSource\"},{\"attributes\":{},\"id\":\"4165\",\"type\":\"ResetTool\"},{\"attributes\":{\"text\":\"Node algo-1\"},\"id\":\"4145\",\"type\":\"Title\"},{\"attributes\":{\"source\":{\"id\":\"4332\"}},\"id\":\"4336\",\"type\":\"CDSView\"},{\"attributes\":{},\"id\":\"4490\",\"type\":\"UnionRenderers\"},{\"attributes\":{\"data_source\":{\"id\":\"4332\"},\"glyph\":{\"id\":\"4333\"},\"hover_glyph\":null,\"muted_glyph\":null,\"nonselection_glyph\":{\"id\":\"4334\"},\"selection_glyph\":null,\"view\":{\"id\":\"4336\"}},\"id\":\"4335\",\"type\":\"GlyphRenderer\"},{\"attributes\":{},\"id\":\"4493\",\"type\":\"Selection\"},{\"attributes\":{\"source\":{\"id\":\"4317\"}},\"id\":\"4321\",\"type\":\"CDSView\"},{\"attributes\":{},\"id\":\"4494\",\"type\":\"UnionRenderers\"},{\"attributes\":{\"fill_color\":{\"value\":\"#440154\"},\"top\":{\"value\":0.0},\"width\":{\"value\":0.7},\"x\":{\"value\":1}},\"id\":\"4328\",\"type\":\"VBar\"},{\"attributes\":{\"data_source\":{\"id\":\"4317\"},\"glyph\":{\"id\":\"4318\"},\"hover_glyph\":null,\"muted_glyph\":null,\"nonselection_glyph\":{\"id\":\"4319\"},\"selection_glyph\":null,\"view\":{\"id\":\"4321\"}},\"id\":\"4320\",\"type\":\"GlyphRenderer\"},{\"attributes\":{},\"id\":\"4492\",\"type\":\"UnionRenderers\"},{\"attributes\":{\"active_drag\":\"auto\",\"active_inspect\":\"auto\",\"active_multi\":null,\"active_scroll\":\"auto\",\"active_tap\":\"auto\",\"tools\":[{\"id\":\"4163\"},{\"id\":\"4164\"},{\"id\":\"4165\"},{\"id\":\"4166\"}]},\"id\":\"4167\",\"type\":\"Toolbar\"},{\"attributes\":{\"ticks\":[0,1]},\"id\":\"4342\",\"type\":\"FixedTicker\"},{\"attributes\":{},\"id\":\"4151\",\"type\":\"LinearScale\"},{\"attributes\":{\"fill_color\":{\"value\":\"#FDE725\"},\"top\":{\"value\":0.0},\"width\":{\"value\":0.7},\"x\":{\"value\":1}},\"id\":\"4323\",\"type\":\"VBar\"},{\"attributes\":{\"fill_alpha\":{\"value\":0.1},\"fill_color\":{\"value\":\"#1f77b4\"},\"height\":{\"units\":\"data\",\"value\":0.01},\"line_alpha\":{\"value\":0.1},\"width\":{\"units\":\"data\",\"value\":0.2},\"x\":{\"value\":1},\"y\":{\"value\":0.0}},\"id\":\"4334\",\"type\":\"Rect\"},{\"attributes\":{},\"id\":\"4166\",\"type\":\"PanTool\"},{\"attributes\":{},\"id\":\"4498\",\"type\":\"UnionRenderers\"},{\"attributes\":{},\"id\":\"4484\",\"type\":\"BasicTickFormatter\"},{\"attributes\":{\"x0\":{\"value\":1},\"x1\":{\"value\":1},\"y0\":{\"value\":0.0},\"y1\":{\"value\":0.0}},\"id\":\"4313\",\"type\":\"Segment\"},{\"attributes\":{\"data\":{},\"selected\":{\"id\":\"4497\"},\"selection_policy\":{\"id\":\"4498\"}},\"id\":\"4337\",\"type\":\"ColumnDataSource\"},{\"attributes\":{\"axis_label\":\"Utilization in %\",\"formatter\":{\"id\":\"4486\"},\"ticker\":{\"id\":\"4160\"}},\"id\":\"4159\",\"type\":\"LinearAxis\"},{\"attributes\":{\"fill_color\":{\"value\":\"#1f77b4\"},\"height\":{\"units\":\"data\",\"value\":0.01},\"width\":{\"units\":\"data\",\"value\":0.2},\"x\":{\"value\":1},\"y\":{\"value\":0.0}},\"id\":\"4338\",\"type\":\"Rect\"},{\"attributes\":{\"formatter\":{\"id\":\"4484\"},\"major_label_overrides\":{\"1\":\"gpu0\"},\"major_label_text_font_size\":\"10px\",\"ticker\":{\"id\":\"4342\"}},\"id\":\"4155\",\"type\":\"LinearAxis\"},{\"attributes\":{\"line_alpha\":{\"value\":0.1},\"x0\":{\"value\":1},\"x1\":{\"value\":1},\"y0\":{\"value\":0.0},\"y1\":{\"value\":0.0}},\"id\":\"4319\",\"type\":\"Segment\"},{\"attributes\":{\"axis\":{\"id\":\"4159\"},\"dimension\":1,\"grid_line_color\":\"white\",\"grid_line_width\":0,\"ticker\":null},\"id\":\"4162\",\"type\":\"Grid\"}],\"root_ids\":[\"4144\"]},\"title\":\"Bokeh Application\",\"version\":\"2.2.3\"}};\n",
       "  var render_items = [{\"docid\":\"97905a4e-8b65-4770-adc7-1b2b1e9b6723\",\"root_ids\":[\"4144\"],\"roots\":{\"4144\":\"054d6460-a81d-4cda-bf49-907b30be55e6\"}}];\n",
       "  root.Bokeh.embed.embed_items_notebook(docs_json, render_items);\n",
       "\n",
       "  }\n",
       "  if (root.Bokeh !== undefined) {\n",
       "    embed_document(root);\n",
       "  } else {\n",
       "    var attempts = 0;\n",
       "    var timer = setInterval(function(root) {\n",
       "      if (root.Bokeh !== undefined) {\n",
       "        clearInterval(timer);\n",
       "        embed_document(root);\n",
       "      } else {\n",
       "        attempts++;\n",
       "        if (attempts > 100) {\n",
       "          clearInterval(timer);\n",
       "          console.log(\"Bokeh: ERROR: Unable to run BokehJS code because BokehJS library is missing\");\n",
       "        }\n",
       "      }\n",
       "    }, 10, root)\n",
       "  }\n",
       "})(window);"
      ],
      "application/vnd.bokehjs_exec.v0+json": ""
     },
     "metadata": {
      "application/vnd.bokehjs_exec.v0+json": {
       "id": "4144"
      }
     },
     "output_type": "display_data"
    }
   ],
   "source": [
    "if analyse_phase == \"training\":\n",
    "    display(Markdown(\"\"\"### GPU memory\\n\\n\"\"\"))\n",
    "    \n",
    "    report = load_report('GPUMemoryIncrease')\n",
    "    if report:\n",
    "        params = report['RuleParameters'].split('\\n')\n",
    "        increase = float(params[0].split(':')[1])\n",
    "        patience = params[1].split(':')[1]\n",
    "        window = params[2].split(':')[1]\n",
    "        violations = report['Violations']\n",
    "        triggered = report['RuleTriggered']\n",
    "        datapoints = report['Datapoints']\n",
    "    \n",
    "        text=Paragraph(text=f\"\"\"The GPUMemoryIncrease rule helps to detect large increase in memory usage on GPUs. \n",
    "        The rule checked if the moving average of memory increased by more than {increase}%. \n",
    "        So if the moving average increased for instance from 10% to {11+increase}%, \n",
    "        the rule would have triggered. During initialization utilization  is likely 0, so the rule skipped the first {patience} datapoints.\n",
    "        The moving average was computed on a window size of {window} continuous datapoints. The rule detected {violations} violations\n",
    "        where the moving average between previous and current time window increased by more than {increase}%.\n",
    "        The rule analysed {datapoints} datapoints and triggered {triggered} times.\"\"\",\n",
    "                       width=900)\n",
    "        show(text)\n",
    "\n",
    "        if len(report['Details']) > 0:\n",
    "            \n",
    "            timestamp = us_since_epoch_to_human_readable_time(report['Details']['last_timestamp'])\n",
    "            date = datetime.datetime.strptime(timestamp, '%Y-%m-%dT%H:%M:%S:%f')\n",
    "            day = date.date().strftime(\"%m/%d/%Y\")\n",
    "            hour = date.time().strftime(\"%H:%M:%S\")\n",
    "            text = Paragraph(text=f\"\"\"Your training job triggered memory spikes. \n",
    "            The last time the GPUMemoryIncrease rule triggered in your training job was on {day} at {hour}.\n",
    "            The following boxplots are a snapshot from the timestamps. They show for each node and GPU the corresponding\n",
    "            memory utilization (without outliers).\"\"\", width=900)\n",
    "            show(text)\n",
    "            \n",
    "            del report['Details']['last_timestamp']\n",
    "            \n",
    "            for node_id in report['Details']:\n",
    "    \n",
    "                plot = figure(plot_height=350, \n",
    "                          plot_width=1000,\n",
    "                          toolbar_location='right',\n",
    "                          tools=\"hover,wheel_zoom,reset,pan\", \n",
    "                          title=f\"Node {node_id}\",\n",
    "                          x_range=(0,17),\n",
    "                          )\n",
    "\n",
    "                for index, key in enumerate(report['Details'][node_id]):\n",
    "                    display(Markdown(f\"\"\"**Memory utilization of {key} on node {node_id}:**\"\"\"))\n",
    "                    text = \"\"\n",
    "                    gpu_max = report['Details'][node_id][key]['gpu_max']\n",
    "                    text = f\"\"\"{text} The max memory utilization of {key} on node {node_id} was {gpu_max}%.\"\"\"\n",
    "                    \n",
    "                    p_95 = int(report['Details'][node_id][key]['p95'])\n",
    "                    p_5 = report['Details'][node_id][key]['p05']\n",
    "                    if p_95 < int(50): \n",
    "                        text = f\"\"\"{text} The 95th percentile was only {p_95}%.\"\"\"\n",
    "                    if p_5 < int(5): \n",
    "                        text = f\"\"\"{text} The 5th percentile was only {p_5}%.\"\"\"\n",
    "                    if p_95 - p_5 > 50:\n",
    "                        text = f\"\"\"{text} The difference between 5th percentile {p_5}% and 95th percentile {p_95}% is quite \n",
    "                        significant, which means that memory utilization on {key} is fluctuating quite a lot.\"\"\"\n",
    "                        \n",
    "                    text = Paragraph(text=f\"\"\"{text}\"\"\", width=900)\n",
    "                    show(text)\n",
    "                    \n",
    "                    upper = report['Details'][node_id][key]['upper']\n",
    "                    lower = report['Details'][node_id][key]['lower']\n",
    "                    p75 = report['Details'][node_id][key]['p75']\n",
    "                    p25 = report['Details'][node_id][key]['p25']\n",
    "                    p50 = report['Details'][node_id][key]['p50']\n",
    "\n",
    "                    plot.segment(index+1, upper, index+1, p75, line_color=\"black\")\n",
    "                    plot.segment(index+1, lower, index+1, p25, line_color=\"black\")\n",
    "\n",
    "                    plot.vbar(index+1, 0.7, p50, p75, fill_color=\"#FDE725\", line_color=\"black\")\n",
    "                    plot.vbar(index+1, 0.7, p25, p50, fill_color=\"#440154\", line_color=\"black\")\n",
    "\n",
    "                    plot.rect(index+1, lower, 0.2, 0.01, line_color=\"black\")\n",
    "                    plot.rect(index+1, upper, 0.2, 0.01, line_color=\"black\")\n",
    "\n",
    "                    plot.xaxis.major_label_overrides[index+1] = key\n",
    "                    plot.xgrid.grid_line_color = None\n",
    "                    plot.ygrid.grid_line_color = \"white\"\n",
    "                    plot.grid.grid_line_width = 0\n",
    "\n",
    "                    plot.xaxis.major_label_text_font_size=\"10px\"\n",
    "                plot.xaxis.ticker = np.arange(index+2)\n",
    "                plot.yaxis.axis_label = \"Utilization in %\"\n",
    "                show(plot)"
   ]
  }
 ],
 "metadata": {
  "celltoolbar": "Tags",
  "kernelspec": {
   "display_name": "Python 3",
   "language": "python",
   "name": "python3"
  },
  "language_info": {
   "codemirror_mode": {
    "name": "ipython",
    "version": 3
   },
   "file_extension": ".py",
   "mimetype": "text/x-python",
   "name": "python",
   "nbconvert_exporter": "python",
   "pygments_lexer": "ipython3",
   "version": "3.7.10"
  },
  "papermill": {
   "duration": 4.459622,
   "end_time": "2023-10-20T21:01:44.903401",
   "environment_variables": {},
   "exception": null,
   "input_path": "/opt/ml/code/profiler_report.ipynb",
   "output_path": "/opt/ml/processing/output/rule/profiler-output/.sagemaker-ignore/out.tmp",
   "parameters": {
    "processing_job_arn": "arn:aws:sagemaker:us-east-1:508063414633:processing-job/pytorch-training-2023-10-2-ProfilerReport-324713c7"
   },
   "start_time": "2023-10-20T21:01:40.443779",
   "version": "2.1.2"
  }
 },
 "nbformat": 4,
 "nbformat_minor": 4
}